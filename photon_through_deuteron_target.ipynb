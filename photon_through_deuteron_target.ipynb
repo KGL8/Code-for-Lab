{
  "nbformat": 4,
  "nbformat_minor": 0,
  "metadata": {
    "colab": {
      "provenance": [],
      "authorship_tag": "ABX9TyMoxKAup5Fysu9fn3lq2Uej",
      "include_colab_link": true
    },
    "kernelspec": {
      "name": "python3",
      "display_name": "Python 3"
    },
    "language_info": {
      "name": "python"
    },
    "widgets": {
      "application/vnd.jupyter.widget-state+json": {
        "eddee3d8aeb24484a6f2508d8efb3a39": {
          "model_module": "jupyter-threejs",
          "model_name": "RendererModel",
          "model_module_version": "^2.4.1",
          "state": {
            "_alpha": false,
            "_antialias": true,
            "_dom_classes": [],
            "_height": 600,
            "_model_module": "jupyter-threejs",
            "_model_module_version": "^2.4.1",
            "_model_name": "RendererModel",
            "_pause_autorender": false,
            "_view_count": null,
            "_view_module": "jupyter-threejs",
            "_view_module_version": "^2.4.1",
            "_view_name": "RendererView",
            "_webgl_version": 2,
            "_width": 800,
            "autoClear": true,
            "autoClearColor": true,
            "autoClearDepth": true,
            "autoClearStencil": true,
            "background": "black",
            "background_opacity": 1,
            "camera": "IPY_MODEL_952c75550855495e9b081420282c350e",
            "clearColor": "#000000",
            "clearOpacity": 1,
            "clippingPlanes": [],
            "controls": [
              "IPY_MODEL_34d6e0139560469fab5630837099dcc7"
            ],
            "gammaFactor": 2,
            "gammaInput": false,
            "gammaOutput": false,
            "layout": "IPY_MODEL_1a398034272149b0873bfc1a33ba76d3",
            "localClippingEnabled": false,
            "maxMorphNormals": 4,
            "maxMorphTargets": 8,
            "physicallyCorrectLights": false,
            "scene": "IPY_MODEL_1ab31a217ad34557a93a7aa9f77281aa",
            "shadowMap": "IPY_MODEL_4d13c40cfe7c45f59d843fbcf6704a13",
            "sortObject": true,
            "toneMapping": "LinearToneMapping",
            "toneMappingExposure": 1,
            "toneMappingWhitePoint": 1
          }
        },
        "952c75550855495e9b081420282c350e": {
          "model_module": "jupyter-threejs",
          "model_name": "PerspectiveCameraModel",
          "model_module_version": "^2.4.1",
          "state": {
            "_model_module": "jupyter-threejs",
            "_model_module_version": "^2.4.1",
            "_model_name": "PerspectiveCameraModel",
            "_view_count": null,
            "_view_module": null,
            "_view_module_version": "",
            "_view_name": null,
            "aspect": 1,
            "castShadow": false,
            "children": [
              "IPY_MODEL_cb3c5d583060433a9a009fe537e9dd48"
            ],
            "far": 2000,
            "focus": 10,
            "fov": 50,
            "frustumCulled": true,
            "matrix": [
              1,
              0,
              0,
              0,
              0,
              1,
              0,
              0,
              0,
              0,
              1,
              0,
              10,
              10,
              10,
              1
            ],
            "matrixAutoUpdate": true,
            "matrixWorld": [
              1,
              0,
              0,
              0,
              0,
              1,
              0,
              0,
              0,
              0,
              1,
              0,
              0,
              0,
              0,
              1
            ],
            "matrixWorldInverse": [
              1,
              0,
              0,
              0,
              0,
              1,
              0,
              0,
              0,
              0,
              1,
              0,
              0,
              0,
              0,
              1
            ],
            "matrixWorldNeedsUpdate": false,
            "modelViewMatrix": [
              1,
              0,
              0,
              0,
              0,
              1,
              0,
              0,
              0,
              0,
              1,
              0,
              0,
              0,
              0,
              1
            ],
            "name": "",
            "near": 0.1,
            "normalMatrix": [
              1,
              0,
              0,
              0,
              1,
              0,
              0,
              0,
              1
            ],
            "position": [
              2.0390682574578873,
              2.039068257457888,
              2.0390682574578873
            ],
            "projectionMatrix": [
              2.1445069205095586,
              0,
              0,
              0,
              0,
              2.1445069205095586,
              0,
              0,
              0,
              0,
              -1.00010000500025,
              -1,
              0,
              0,
              -0.200010000500025,
              0
            ],
            "quaternion": [
              -0.27984814233312133,
              0.3647051996310008,
              0.11591689595929512,
              0.8804762392171493
            ],
            "receiveShadow": false,
            "renderOrder": 0,
            "rotation": [
              0,
              0,
              0,
              "XYZ"
            ],
            "scale": [
              1,
              1,
              1
            ],
            "type": "PerspectiveCamera",
            "up": [
              0,
              1,
              0
            ],
            "visible": true,
            "zoom": 1
          }
        },
        "34d6e0139560469fab5630837099dcc7": {
          "model_module": "jupyter-threejs",
          "model_name": "OrbitControlsModel",
          "model_module_version": "^2.4.1",
          "state": {
            "_model_module": "jupyter-threejs",
            "_model_module_version": "^2.4.1",
            "_model_name": "OrbitControlsModel",
            "_view_count": null,
            "_view_module": null,
            "_view_module_version": "",
            "_view_name": null,
            "autoRotate": false,
            "autoRotateSpeed": 2,
            "controlling": "IPY_MODEL_952c75550855495e9b081420282c350e",
            "dampingFactor": 0.25,
            "enableDamping": false,
            "enableKeys": true,
            "enablePan": true,
            "enableRotate": true,
            "enableZoom": true,
            "enabled": true,
            "keyPanSpeed": 7,
            "maxAzimuthAngle": "inf",
            "maxDistance": "inf",
            "maxPolarAngle": 3.141592653589793,
            "maxZoom": "inf",
            "minAzimuthAngle": "-inf",
            "minDistance": 0,
            "minPolarAngle": 0,
            "minZoom": 0,
            "panSpeed": 1,
            "rotateSpeed": 1,
            "screenSpacePanning": true,
            "target": [
              0,
              0,
              0
            ],
            "zoomSpeed": 1
          }
        },
        "1a398034272149b0873bfc1a33ba76d3": {
          "model_module": "@jupyter-widgets/base",
          "model_name": "LayoutModel",
          "model_module_version": "1.2.0",
          "state": {
            "_model_module": "@jupyter-widgets/base",
            "_model_module_version": "1.2.0",
            "_model_name": "LayoutModel",
            "_view_count": null,
            "_view_module": "@jupyter-widgets/base",
            "_view_module_version": "1.2.0",
            "_view_name": "LayoutView",
            "align_content": null,
            "align_items": null,
            "align_self": null,
            "border": null,
            "bottom": null,
            "display": null,
            "flex": null,
            "flex_flow": null,
            "grid_area": null,
            "grid_auto_columns": null,
            "grid_auto_flow": null,
            "grid_auto_rows": null,
            "grid_column": null,
            "grid_gap": null,
            "grid_row": null,
            "grid_template_areas": null,
            "grid_template_columns": null,
            "grid_template_rows": null,
            "height": null,
            "justify_content": null,
            "justify_items": null,
            "left": null,
            "margin": null,
            "max_height": null,
            "max_width": null,
            "min_height": null,
            "min_width": null,
            "object_fit": null,
            "object_position": null,
            "order": null,
            "overflow": null,
            "overflow_x": null,
            "overflow_y": null,
            "padding": null,
            "right": null,
            "top": null,
            "visibility": null,
            "width": null
          }
        },
        "1ab31a217ad34557a93a7aa9f77281aa": {
          "model_module": "jupyter-threejs",
          "model_name": "SceneModel",
          "model_module_version": "^2.4.1",
          "state": {
            "_model_module": "jupyter-threejs",
            "_model_module_version": "^2.4.1",
            "_model_name": "SceneModel",
            "_view_count": null,
            "_view_module": null,
            "_view_module_version": "",
            "_view_name": null,
            "autoUpdate": true,
            "background": "#141414",
            "castShadow": false,
            "children": [
              "IPY_MODEL_39f7471de6084602bb78f27395d94032",
              "IPY_MODEL_35270a48c3764c828b849d337bb0578f",
              "IPY_MODEL_f91f144ddc554f4497f543da3662e8c9",
              "IPY_MODEL_efb6b6dfd59d49b7bf95e442b476fa48",
              "IPY_MODEL_478d9096e0de46df808c0f1f5626e665",
              "IPY_MODEL_132d5c040107413b8e58ab46e08934fa",
              "IPY_MODEL_7904c631bf4d48ef99e06f9a84c2b045",
              "IPY_MODEL_75c96184e3184d2a998d5e489e023439",
              "IPY_MODEL_016dd11a651247279b4580a5c0e32328",
              "IPY_MODEL_07d5b8032ea94ea4bd0fec4e5edd52ae",
              "IPY_MODEL_7bd249ba380f494b8434ab6aff19f79e"
            ],
            "fog": null,
            "frustumCulled": true,
            "matrix": [
              1,
              0,
              0,
              0,
              0,
              1,
              0,
              0,
              0,
              0,
              1,
              0,
              0,
              0,
              0,
              1
            ],
            "matrixAutoUpdate": true,
            "matrixWorld": [
              1,
              0,
              0,
              0,
              0,
              1,
              0,
              0,
              0,
              0,
              1,
              0,
              0,
              0,
              0,
              1
            ],
            "matrixWorldNeedsUpdate": false,
            "modelViewMatrix": [
              1,
              0,
              0,
              0,
              0,
              1,
              0,
              0,
              0,
              0,
              1,
              0,
              0,
              0,
              0,
              1
            ],
            "name": "",
            "normalMatrix": [
              1,
              0,
              0,
              0,
              1,
              0,
              0,
              0,
              1
            ],
            "overrideMaterial": null,
            "position": [
              0,
              0,
              0
            ],
            "quaternion": [
              0,
              0,
              0,
              1
            ],
            "receiveShadow": false,
            "renderOrder": 0,
            "rotation": [
              0,
              0,
              0,
              "XYZ"
            ],
            "scale": [
              1,
              1,
              1
            ],
            "type": "Scene",
            "up": [
              0,
              1,
              0
            ],
            "visible": true
          }
        },
        "4d13c40cfe7c45f59d843fbcf6704a13": {
          "model_module": "jupyter-threejs",
          "model_name": "WebGLShadowMapModel",
          "model_module_version": "^2.4.1",
          "state": {
            "_model_module": "jupyter-threejs",
            "_model_module_version": "^2.4.1",
            "_model_name": "WebGLShadowMapModel",
            "_view_count": null,
            "_view_module": null,
            "_view_module_version": "",
            "_view_name": null,
            "enabled": false,
            "type": "PCFShadowMap"
          }
        },
        "cb3c5d583060433a9a009fe537e9dd48": {
          "model_module": "jupyter-threejs",
          "model_name": "DirectionalLightModel",
          "model_module_version": "^2.4.1",
          "state": {
            "_model_module": "jupyter-threejs",
            "_model_module_version": "^2.4.1",
            "_model_name": "DirectionalLightModel",
            "_view_count": null,
            "_view_module": null,
            "_view_module_version": "",
            "_view_name": null,
            "castShadow": false,
            "children": [],
            "color": "white",
            "frustumCulled": true,
            "intensity": 0.5,
            "matrix": [
              1,
              0,
              0,
              0,
              0,
              1,
              0,
              0,
              0,
              0,
              1,
              0,
              0,
              0,
              0,
              1
            ],
            "matrixAutoUpdate": true,
            "matrixWorld": [
              1,
              0,
              0,
              0,
              0,
              1,
              0,
              0,
              0,
              0,
              1,
              0,
              0,
              0,
              0,
              1
            ],
            "matrixWorldNeedsUpdate": true,
            "modelViewMatrix": [
              1,
              0,
              0,
              0,
              0,
              1,
              0,
              0,
              0,
              0,
              1,
              0,
              0,
              0,
              0,
              1
            ],
            "name": "",
            "normalMatrix": [
              1,
              0,
              0,
              0,
              1,
              0,
              0,
              0,
              1
            ],
            "position": [
              3,
              5,
              1
            ],
            "quaternion": [
              0,
              0,
              0,
              1
            ],
            "receiveShadow": false,
            "renderOrder": 0,
            "rotation": [
              0,
              0,
              0,
              "XYZ"
            ],
            "scale": [
              1,
              1,
              1
            ],
            "shadow": "IPY_MODEL_0ae3b745-c97e-4a30-80df-5ee90c24d794",
            "target": "IPY_MODEL_13240488-d308-4661-af24-e20ab3a18663",
            "type": "DirectionalLight",
            "up": [
              0,
              1,
              0
            ],
            "visible": true
          }
        },
        "39f7471de6084602bb78f27395d94032": {
          "model_module": "jupyter-threejs",
          "model_name": "GroupModel",
          "model_module_version": "^2.4.1",
          "state": {
            "_model_module": "jupyter-threejs",
            "_model_module_version": "^2.4.1",
            "_model_name": "GroupModel",
            "_view_count": null,
            "_view_module": null,
            "_view_module_version": "",
            "_view_name": null,
            "castShadow": false,
            "children": [
              "IPY_MODEL_1978f85fba3f478990c223d48463bf61",
              "IPY_MODEL_3714c81ea372468487843b3033ccde13"
            ],
            "frustumCulled": true,
            "matrix": [
              1,
              0,
              0,
              0,
              0,
              1,
              0,
              0,
              0,
              0,
              1,
              0,
              0,
              0,
              6.5,
              1
            ],
            "matrixAutoUpdate": true,
            "matrixWorld": [
              1,
              0,
              0,
              0,
              0,
              1,
              0,
              0,
              0,
              0,
              1,
              0,
              0,
              0,
              0,
              1
            ],
            "matrixWorldNeedsUpdate": false,
            "modelViewMatrix": [
              1,
              0,
              0,
              0,
              0,
              1,
              0,
              0,
              0,
              0,
              1,
              0,
              0,
              0,
              0,
              1
            ],
            "name": "",
            "normalMatrix": [
              1,
              0,
              0,
              0,
              1,
              0,
              0,
              0,
              1
            ],
            "position": [
              0,
              0,
              6.5
            ],
            "quaternion": [
              0,
              0,
              0,
              1
            ],
            "receiveShadow": false,
            "renderOrder": 0,
            "rotation": [
              0,
              0,
              0,
              "XYZ"
            ],
            "scale": [
              1,
              1,
              1
            ],
            "type": "Group",
            "up": [
              0,
              1,
              0
            ],
            "visible": true
          }
        },
        "35270a48c3764c828b849d337bb0578f": {
          "model_module": "jupyter-threejs",
          "model_name": "LineModel",
          "model_module_version": "^2.4.1",
          "state": {
            "_model_module": "jupyter-threejs",
            "_model_module_version": "^2.4.1",
            "_model_name": "LineModel",
            "_view_count": null,
            "_view_module": null,
            "_view_module_version": "",
            "_view_name": null,
            "castShadow": false,
            "children": [],
            "frustumCulled": true,
            "geometry": "IPY_MODEL_4c4c02bac9fd45259307b6b3f0c34b3b",
            "material": "IPY_MODEL_ea8ac4b9858347079ac47163d4867012",
            "matrix": [
              1,
              0,
              0,
              0,
              0,
              1,
              0,
              0,
              0,
              0,
              1,
              0,
              0,
              0,
              0,
              1
            ],
            "matrixAutoUpdate": true,
            "matrixWorld": [
              1,
              0,
              0,
              0,
              0,
              1,
              0,
              0,
              0,
              0,
              1,
              0,
              0,
              0,
              0,
              1
            ],
            "matrixWorldNeedsUpdate": false,
            "modelViewMatrix": [
              1,
              0,
              0,
              0,
              0,
              1,
              0,
              0,
              0,
              0,
              1,
              0,
              0,
              0,
              0,
              1
            ],
            "name": "",
            "normalMatrix": [
              1,
              0,
              0,
              0,
              1,
              0,
              0,
              0,
              1
            ],
            "position": [
              0,
              0,
              0
            ],
            "quaternion": [
              0,
              0,
              0,
              1
            ],
            "receiveShadow": false,
            "renderOrder": 0,
            "rotation": [
              0,
              0,
              0,
              "XYZ"
            ],
            "scale": [
              1,
              1,
              1
            ],
            "type": "Line",
            "up": [
              0,
              1,
              0
            ],
            "visible": true
          }
        },
        "f91f144ddc554f4497f543da3662e8c9": {
          "model_module": "jupyter-threejs",
          "model_name": "PointsModel",
          "model_module_version": "^2.4.1",
          "state": {
            "_model_module": "jupyter-threejs",
            "_model_module_version": "^2.4.1",
            "_model_name": "PointsModel",
            "_view_count": null,
            "_view_module": null,
            "_view_module_version": "",
            "_view_name": null,
            "castShadow": false,
            "children": [],
            "frustumCulled": true,
            "geometry": "IPY_MODEL_b8efaca89ec3444dbec4de4c7e72205a",
            "material": "IPY_MODEL_152943c8c445441c8532e15013b00b08",
            "matrix": [
              1,
              0,
              0,
              0,
              0,
              1,
              0,
              0,
              0,
              0,
              1,
              0,
              0,
              0,
              0,
              1
            ],
            "matrixAutoUpdate": true,
            "matrixWorld": [
              1,
              0,
              0,
              0,
              0,
              1,
              0,
              0,
              0,
              0,
              1,
              0,
              0,
              0,
              0,
              1
            ],
            "matrixWorldNeedsUpdate": false,
            "modelViewMatrix": [
              1,
              0,
              0,
              0,
              0,
              1,
              0,
              0,
              0,
              0,
              1,
              0,
              0,
              0,
              0,
              1
            ],
            "name": "",
            "normalMatrix": [
              1,
              0,
              0,
              0,
              1,
              0,
              0,
              0,
              1
            ],
            "position": [
              0,
              0,
              0
            ],
            "quaternion": [
              0,
              0,
              0,
              1
            ],
            "receiveShadow": false,
            "renderOrder": 0,
            "rotation": [
              0,
              0,
              0,
              "XYZ"
            ],
            "scale": [
              1,
              1,
              1
            ],
            "type": "Points",
            "up": [
              0,
              1,
              0
            ],
            "visible": true
          }
        },
        "efb6b6dfd59d49b7bf95e442b476fa48": {
          "model_module": "jupyter-threejs",
          "model_name": "LineModel",
          "model_module_version": "^2.4.1",
          "state": {
            "_model_module": "jupyter-threejs",
            "_model_module_version": "^2.4.1",
            "_model_name": "LineModel",
            "_view_count": null,
            "_view_module": null,
            "_view_module_version": "",
            "_view_name": null,
            "castShadow": false,
            "children": [],
            "frustumCulled": true,
            "geometry": "IPY_MODEL_4bfdb96aa9d54357a86459f13bb382ab",
            "material": "IPY_MODEL_f04905022e7c4aaaaf382a23501467dc",
            "matrix": [
              1,
              0,
              0,
              0,
              0,
              1,
              0,
              0,
              0,
              0,
              1,
              0,
              0,
              0,
              0,
              1
            ],
            "matrixAutoUpdate": true,
            "matrixWorld": [
              1,
              0,
              0,
              0,
              0,
              1,
              0,
              0,
              0,
              0,
              1,
              0,
              0,
              0,
              0,
              1
            ],
            "matrixWorldNeedsUpdate": false,
            "modelViewMatrix": [
              1,
              0,
              0,
              0,
              0,
              1,
              0,
              0,
              0,
              0,
              1,
              0,
              0,
              0,
              0,
              1
            ],
            "name": "",
            "normalMatrix": [
              1,
              0,
              0,
              0,
              1,
              0,
              0,
              0,
              1
            ],
            "position": [
              0,
              0,
              0
            ],
            "quaternion": [
              0,
              0,
              0,
              1
            ],
            "receiveShadow": false,
            "renderOrder": 0,
            "rotation": [
              0,
              0,
              0,
              "XYZ"
            ],
            "scale": [
              1,
              1,
              1
            ],
            "type": "Line",
            "up": [
              0,
              1,
              0
            ],
            "visible": true
          }
        },
        "478d9096e0de46df808c0f1f5626e665": {
          "model_module": "jupyter-threejs",
          "model_name": "LineModel",
          "model_module_version": "^2.4.1",
          "state": {
            "_model_module": "jupyter-threejs",
            "_model_module_version": "^2.4.1",
            "_model_name": "LineModel",
            "_view_count": null,
            "_view_module": null,
            "_view_module_version": "",
            "_view_name": null,
            "castShadow": false,
            "children": [],
            "frustumCulled": true,
            "geometry": "IPY_MODEL_e9322860e19a48a78d88a0e80b137f59",
            "material": "IPY_MODEL_23de1bc4a51f4bc5b0b3e5b815efa42d",
            "matrix": [
              1,
              0,
              0,
              0,
              0,
              1,
              0,
              0,
              0,
              0,
              1,
              0,
              0,
              0,
              0,
              1
            ],
            "matrixAutoUpdate": true,
            "matrixWorld": [
              1,
              0,
              0,
              0,
              0,
              1,
              0,
              0,
              0,
              0,
              1,
              0,
              0,
              0,
              0,
              1
            ],
            "matrixWorldNeedsUpdate": false,
            "modelViewMatrix": [
              1,
              0,
              0,
              0,
              0,
              1,
              0,
              0,
              0,
              0,
              1,
              0,
              0,
              0,
              0,
              1
            ],
            "name": "",
            "normalMatrix": [
              1,
              0,
              0,
              0,
              1,
              0,
              0,
              0,
              1
            ],
            "position": [
              0,
              0,
              0
            ],
            "quaternion": [
              0,
              0,
              0,
              1
            ],
            "receiveShadow": false,
            "renderOrder": 0,
            "rotation": [
              0,
              0,
              0,
              "XYZ"
            ],
            "scale": [
              1,
              1,
              1
            ],
            "type": "Line",
            "up": [
              0,
              1,
              0
            ],
            "visible": true
          }
        },
        "132d5c040107413b8e58ab46e08934fa": {
          "model_module": "jupyter-threejs",
          "model_name": "LineModel",
          "model_module_version": "^2.4.1",
          "state": {
            "_model_module": "jupyter-threejs",
            "_model_module_version": "^2.4.1",
            "_model_name": "LineModel",
            "_view_count": null,
            "_view_module": null,
            "_view_module_version": "",
            "_view_name": null,
            "castShadow": false,
            "children": [],
            "frustumCulled": true,
            "geometry": "IPY_MODEL_54eb7e0cf3a443d0adc89fefd895b100",
            "material": "IPY_MODEL_9c02effd75344131920a9de8684627c0",
            "matrix": [
              1,
              0,
              0,
              0,
              0,
              1,
              0,
              0,
              0,
              0,
              1,
              0,
              0,
              0,
              0,
              1
            ],
            "matrixAutoUpdate": true,
            "matrixWorld": [
              1,
              0,
              0,
              0,
              0,
              1,
              0,
              0,
              0,
              0,
              1,
              0,
              0,
              0,
              0,
              1
            ],
            "matrixWorldNeedsUpdate": false,
            "modelViewMatrix": [
              1,
              0,
              0,
              0,
              0,
              1,
              0,
              0,
              0,
              0,
              1,
              0,
              0,
              0,
              0,
              1
            ],
            "name": "",
            "normalMatrix": [
              1,
              0,
              0,
              0,
              1,
              0,
              0,
              0,
              1
            ],
            "position": [
              0,
              0,
              0
            ],
            "quaternion": [
              0,
              0,
              0,
              1
            ],
            "receiveShadow": false,
            "renderOrder": 0,
            "rotation": [
              0,
              0,
              0,
              "XYZ"
            ],
            "scale": [
              1,
              1,
              1
            ],
            "type": "Line",
            "up": [
              0,
              1,
              0
            ],
            "visible": true
          }
        },
        "7904c631bf4d48ef99e06f9a84c2b045": {
          "model_module": "jupyter-threejs",
          "model_name": "PointsModel",
          "model_module_version": "^2.4.1",
          "state": {
            "_model_module": "jupyter-threejs",
            "_model_module_version": "^2.4.1",
            "_model_name": "PointsModel",
            "_view_count": null,
            "_view_module": null,
            "_view_module_version": "",
            "_view_name": null,
            "castShadow": false,
            "children": [],
            "frustumCulled": true,
            "geometry": "IPY_MODEL_8edb60bec63b459eadc33a3d2bfb2d1e",
            "material": "IPY_MODEL_30faac8b741a4e99aac844dcc97adc00",
            "matrix": [
              1,
              0,
              0,
              0,
              0,
              1,
              0,
              0,
              0,
              0,
              1,
              0,
              0,
              0,
              0,
              1
            ],
            "matrixAutoUpdate": true,
            "matrixWorld": [
              1,
              0,
              0,
              0,
              0,
              1,
              0,
              0,
              0,
              0,
              1,
              0,
              0,
              0,
              0,
              1
            ],
            "matrixWorldNeedsUpdate": false,
            "modelViewMatrix": [
              1,
              0,
              0,
              0,
              0,
              1,
              0,
              0,
              0,
              0,
              1,
              0,
              0,
              0,
              0,
              1
            ],
            "name": "",
            "normalMatrix": [
              1,
              0,
              0,
              0,
              1,
              0,
              0,
              0,
              1
            ],
            "position": [
              0,
              0,
              0
            ],
            "quaternion": [
              0,
              0,
              0,
              1
            ],
            "receiveShadow": false,
            "renderOrder": 0,
            "rotation": [
              0,
              0,
              0,
              "XYZ"
            ],
            "scale": [
              1,
              1,
              1
            ],
            "type": "Points",
            "up": [
              0,
              1,
              0
            ],
            "visible": true
          }
        },
        "75c96184e3184d2a998d5e489e023439": {
          "model_module": "jupyter-threejs",
          "model_name": "PointsModel",
          "model_module_version": "^2.4.1",
          "state": {
            "_model_module": "jupyter-threejs",
            "_model_module_version": "^2.4.1",
            "_model_name": "PointsModel",
            "_view_count": null,
            "_view_module": null,
            "_view_module_version": "",
            "_view_name": null,
            "castShadow": false,
            "children": [],
            "frustumCulled": true,
            "geometry": "IPY_MODEL_101c3662bf334f21b87d1fce240d5ef7",
            "material": "IPY_MODEL_2017b4786ee946a0a0a82b6b1cb71f61",
            "matrix": [
              1,
              0,
              0,
              0,
              0,
              1,
              0,
              0,
              0,
              0,
              1,
              0,
              0,
              0,
              0,
              1
            ],
            "matrixAutoUpdate": true,
            "matrixWorld": [
              1,
              0,
              0,
              0,
              0,
              1,
              0,
              0,
              0,
              0,
              1,
              0,
              0,
              0,
              0,
              1
            ],
            "matrixWorldNeedsUpdate": false,
            "modelViewMatrix": [
              1,
              0,
              0,
              0,
              0,
              1,
              0,
              0,
              0,
              0,
              1,
              0,
              0,
              0,
              0,
              1
            ],
            "name": "",
            "normalMatrix": [
              1,
              0,
              0,
              0,
              1,
              0,
              0,
              0,
              1
            ],
            "position": [
              0,
              0,
              0
            ],
            "quaternion": [
              0,
              0,
              0,
              1
            ],
            "receiveShadow": false,
            "renderOrder": 0,
            "rotation": [
              0,
              0,
              0,
              "XYZ"
            ],
            "scale": [
              1,
              1,
              1
            ],
            "type": "Points",
            "up": [
              0,
              1,
              0
            ],
            "visible": true
          }
        },
        "016dd11a651247279b4580a5c0e32328": {
          "model_module": "jupyter-threejs",
          "model_name": "DirectionalLightModel",
          "model_module_version": "^2.4.1",
          "state": {
            "_model_module": "jupyter-threejs",
            "_model_module_version": "^2.4.1",
            "_model_name": "DirectionalLightModel",
            "_view_count": null,
            "_view_module": null,
            "_view_module_version": "",
            "_view_name": null,
            "castShadow": false,
            "children": [],
            "color": "white",
            "frustumCulled": true,
            "intensity": 3,
            "matrix": [
              1,
              0,
              0,
              0,
              0,
              1,
              0,
              0,
              0,
              0,
              1,
              0,
              0,
              0,
              0,
              1
            ],
            "matrixAutoUpdate": true,
            "matrixWorld": [
              1,
              0,
              0,
              0,
              0,
              1,
              0,
              0,
              0,
              0,
              1,
              0,
              0,
              0,
              0,
              1
            ],
            "matrixWorldNeedsUpdate": true,
            "modelViewMatrix": [
              1,
              0,
              0,
              0,
              0,
              1,
              0,
              0,
              0,
              0,
              1,
              0,
              0,
              0,
              0,
              1
            ],
            "name": "",
            "normalMatrix": [
              1,
              0,
              0,
              0,
              1,
              0,
              0,
              0,
              1
            ],
            "position": [
              0,
              200,
              0
            ],
            "quaternion": [
              0,
              0,
              0,
              1
            ],
            "receiveShadow": false,
            "renderOrder": 0,
            "rotation": [
              0,
              0,
              0,
              "XYZ"
            ],
            "scale": [
              1,
              1,
              1
            ],
            "shadow": "IPY_MODEL_2121667d-1ae2-4bc5-a8ea-4de9450cb3f1",
            "target": "IPY_MODEL_070d5f4f-e51c-4430-bd1d-b91f6b803198",
            "type": "DirectionalLight",
            "up": [
              0,
              1,
              0
            ],
            "visible": true
          }
        },
        "07d5b8032ea94ea4bd0fec4e5edd52ae": {
          "model_module": "jupyter-threejs",
          "model_name": "DirectionalLightModel",
          "model_module_version": "^2.4.1",
          "state": {
            "_model_module": "jupyter-threejs",
            "_model_module_version": "^2.4.1",
            "_model_name": "DirectionalLightModel",
            "_view_count": null,
            "_view_module": null,
            "_view_module_version": "",
            "_view_name": null,
            "castShadow": false,
            "children": [],
            "color": "white",
            "frustumCulled": true,
            "intensity": 3,
            "matrix": [
              1,
              0,
              0,
              0,
              0,
              1,
              0,
              0,
              0,
              0,
              1,
              0,
              0,
              0,
              0,
              1
            ],
            "matrixAutoUpdate": true,
            "matrixWorld": [
              1,
              0,
              0,
              0,
              0,
              1,
              0,
              0,
              0,
              0,
              1,
              0,
              0,
              0,
              0,
              1
            ],
            "matrixWorldNeedsUpdate": true,
            "modelViewMatrix": [
              1,
              0,
              0,
              0,
              0,
              1,
              0,
              0,
              0,
              0,
              1,
              0,
              0,
              0,
              0,
              1
            ],
            "name": "",
            "normalMatrix": [
              1,
              0,
              0,
              0,
              1,
              0,
              0,
              0,
              1
            ],
            "position": [
              100,
              200,
              100
            ],
            "quaternion": [
              0,
              0,
              0,
              1
            ],
            "receiveShadow": false,
            "renderOrder": 0,
            "rotation": [
              0,
              0,
              0,
              "XYZ"
            ],
            "scale": [
              1,
              1,
              1
            ],
            "shadow": "IPY_MODEL_95b2a4e4-aed2-49d8-a487-3c07b6e1d586",
            "target": "IPY_MODEL_7bdc2c8f-3833-4324-940a-4451b46a865a",
            "type": "DirectionalLight",
            "up": [
              0,
              1,
              0
            ],
            "visible": true
          }
        },
        "7bd249ba380f494b8434ab6aff19f79e": {
          "model_module": "jupyter-threejs",
          "model_name": "DirectionalLightModel",
          "model_module_version": "^2.4.1",
          "state": {
            "_model_module": "jupyter-threejs",
            "_model_module_version": "^2.4.1",
            "_model_name": "DirectionalLightModel",
            "_view_count": null,
            "_view_module": null,
            "_view_module_version": "",
            "_view_name": null,
            "castShadow": false,
            "children": [],
            "color": "white",
            "frustumCulled": true,
            "intensity": 3,
            "matrix": [
              1,
              0,
              0,
              0,
              0,
              1,
              0,
              0,
              0,
              0,
              1,
              0,
              0,
              0,
              0,
              1
            ],
            "matrixAutoUpdate": true,
            "matrixWorld": [
              1,
              0,
              0,
              0,
              0,
              1,
              0,
              0,
              0,
              0,
              1,
              0,
              0,
              0,
              0,
              1
            ],
            "matrixWorldNeedsUpdate": true,
            "modelViewMatrix": [
              1,
              0,
              0,
              0,
              0,
              1,
              0,
              0,
              0,
              0,
              1,
              0,
              0,
              0,
              0,
              1
            ],
            "name": "",
            "normalMatrix": [
              1,
              0,
              0,
              0,
              1,
              0,
              0,
              0,
              1
            ],
            "position": [
              -100,
              -200,
              -100
            ],
            "quaternion": [
              0,
              0,
              0,
              1
            ],
            "receiveShadow": false,
            "renderOrder": 0,
            "rotation": [
              0,
              0,
              0,
              "XYZ"
            ],
            "scale": [
              1,
              1,
              1
            ],
            "shadow": "IPY_MODEL_cec8dc18-76f0-4dec-b41b-ba2579993aea",
            "target": "IPY_MODEL_9e2965c6-44f8-402f-a6a1-9f0a540ff8b4",
            "type": "DirectionalLight",
            "up": [
              0,
              1,
              0
            ],
            "visible": true
          }
        },
        "1978f85fba3f478990c223d48463bf61": {
          "model_module": "jupyter-threejs",
          "model_name": "MeshModel",
          "model_module_version": "^2.4.1",
          "state": {
            "_model_module": "jupyter-threejs",
            "_model_module_version": "^2.4.1",
            "_model_name": "MeshModel",
            "_view_count": null,
            "_view_module": null,
            "_view_module_version": "",
            "_view_name": null,
            "castShadow": false,
            "children": [],
            "drawMode": "TrianglesDrawMode",
            "frustumCulled": true,
            "geometry": "IPY_MODEL_fe49da119f0a4f12b34706d42c7948e1",
            "material": "IPY_MODEL_e07f29509ec643b29acbdb6ef8df5fc9",
            "matrix": [
              1,
              0,
              0,
              0,
              0,
              1,
              0,
              0,
              0,
              0,
              1,
              0,
              0,
              0,
              0,
              1
            ],
            "matrixAutoUpdate": true,
            "matrixWorld": [
              1,
              0,
              0,
              0,
              0,
              1,
              0,
              0,
              0,
              0,
              1,
              0,
              0,
              0,
              0,
              1
            ],
            "matrixWorldNeedsUpdate": false,
            "modelViewMatrix": [
              1,
              0,
              0,
              0,
              0,
              1,
              0,
              0,
              0,
              0,
              1,
              0,
              0,
              0,
              0,
              1
            ],
            "morphTargetInfluences": [],
            "name": "",
            "normalMatrix": [
              1,
              0,
              0,
              0,
              1,
              0,
              0,
              0,
              1
            ],
            "position": [
              0,
              0,
              0
            ],
            "quaternion": [
              0,
              0,
              0,
              1
            ],
            "receiveShadow": false,
            "renderOrder": 0,
            "rotation": [
              0,
              0,
              0,
              "XYZ"
            ],
            "scale": [
              1,
              1,
              1
            ],
            "type": "Mesh",
            "up": [
              0,
              1,
              0
            ],
            "visible": true
          }
        },
        "3714c81ea372468487843b3033ccde13": {
          "model_module": "jupyter-threejs",
          "model_name": "LineSegmentsModel",
          "model_module_version": "^2.4.1",
          "state": {
            "_model_module": "jupyter-threejs",
            "_model_module_version": "^2.4.1",
            "_model_name": "LineSegmentsModel",
            "_view_count": null,
            "_view_module": null,
            "_view_module_version": "",
            "_view_name": null,
            "castShadow": false,
            "children": [],
            "frustumCulled": true,
            "geometry": "IPY_MODEL_c1e68414e5834b1ba308ed00afb439d1",
            "material": "IPY_MODEL_f96796c26af44b0987a0a17f06498f77",
            "matrix": [
              1,
              0,
              0,
              0,
              0,
              1,
              0,
              0,
              0,
              0,
              1,
              0,
              0,
              0,
              0,
              1
            ],
            "matrixAutoUpdate": true,
            "matrixWorld": [
              1,
              0,
              0,
              0,
              0,
              1,
              0,
              0,
              0,
              0,
              1,
              0,
              0,
              0,
              0,
              1
            ],
            "matrixWorldNeedsUpdate": false,
            "modelViewMatrix": [
              1,
              0,
              0,
              0,
              0,
              1,
              0,
              0,
              0,
              0,
              1,
              0,
              0,
              0,
              0,
              1
            ],
            "name": "",
            "normalMatrix": [
              1,
              0,
              0,
              0,
              1,
              0,
              0,
              0,
              1
            ],
            "position": [
              0,
              0,
              0
            ],
            "quaternion": [
              0,
              0,
              0,
              1
            ],
            "receiveShadow": false,
            "renderOrder": 0,
            "rotation": [
              0,
              0,
              0,
              "XYZ"
            ],
            "scale": [
              1,
              1,
              1
            ],
            "type": "LineSegments",
            "up": [
              0,
              1,
              0
            ],
            "visible": true
          }
        },
        "4c4c02bac9fd45259307b6b3f0c34b3b": {
          "model_module": "jupyter-threejs",
          "model_name": "BufferGeometryModel",
          "model_module_version": "^2.4.1",
          "state": {
            "MaxIndex": 65535,
            "_model_module": "jupyter-threejs",
            "_model_module_version": "^2.4.1",
            "_model_name": "BufferGeometryModel",
            "_ref_geometry": null,
            "_store_ref": false,
            "_view_count": null,
            "_view_module": null,
            "_view_module_version": "",
            "_view_name": null,
            "attributes": {
              "position": "IPY_MODEL_d753a092e5a94dcfbb18f9074badec41"
            },
            "index": null,
            "morphAttributes": {},
            "name": "",
            "type": "BufferGeometry",
            "userData": {}
          }
        },
        "ea8ac4b9858347079ac47163d4867012": {
          "model_module": "jupyter-threejs",
          "model_name": "LineBasicMaterialModel",
          "model_module_version": "^2.4.1",
          "state": {
            "_model_module": "jupyter-threejs",
            "_model_module_version": "^2.4.1",
            "_model_name": "LineBasicMaterialModel",
            "_view_count": null,
            "_view_module": null,
            "_view_module_version": "",
            "_view_name": null,
            "alphaTest": 0,
            "blendDst": "OneMinusSrcAlphaFactor",
            "blendDstAlpha": 0,
            "blendEquation": "AddEquation",
            "blendEquationAlpha": 0,
            "blendSrc": "SrcAlphaFactor",
            "blendSrcAlpha": 0,
            "blending": "NormalBlending",
            "clipIntersection": false,
            "clipShadows": false,
            "clippingPlanes": [],
            "color": "#f5f542",
            "colorWrite": true,
            "defines": null,
            "depthFunc": "LessEqualDepth",
            "depthTest": true,
            "depthWrite": true,
            "dithering": false,
            "flatShading": false,
            "fog": true,
            "lights": false,
            "linecap": "round",
            "linejoin": "round",
            "linewidth": 1,
            "name": "",
            "opacity": 1,
            "overdraw": 0,
            "polygonOffset": false,
            "polygonOffsetFactor": 0,
            "polygonOffsetUnits": 0,
            "precision": null,
            "premultipliedAlpha": false,
            "shadowSide": null,
            "side": "FrontSide",
            "transparent": false,
            "type": "LineBasicMaterial",
            "vertexColors": "NoColors",
            "visible": true
          }
        },
        "b8efaca89ec3444dbec4de4c7e72205a": {
          "model_module": "jupyter-threejs",
          "model_name": "BufferGeometryModel",
          "model_module_version": "^2.4.1",
          "state": {
            "MaxIndex": 65535,
            "_model_module": "jupyter-threejs",
            "_model_module_version": "^2.4.1",
            "_model_name": "BufferGeometryModel",
            "_ref_geometry": null,
            "_store_ref": false,
            "_view_count": null,
            "_view_module": null,
            "_view_module_version": "",
            "_view_name": null,
            "attributes": {
              "position": "IPY_MODEL_7be4bb62431644d08b36c395a0fe4813"
            },
            "index": null,
            "morphAttributes": {},
            "name": "",
            "type": "BufferGeometry",
            "userData": {}
          }
        },
        "152943c8c445441c8532e15013b00b08": {
          "model_module": "jupyter-threejs",
          "model_name": "PointsMaterialModel",
          "model_module_version": "^2.4.1",
          "state": {
            "_model_module": "jupyter-threejs",
            "_model_module_version": "^2.4.1",
            "_model_name": "PointsMaterialModel",
            "_view_count": null,
            "_view_module": null,
            "_view_module_version": "",
            "_view_name": null,
            "alphaTest": 0,
            "blendDst": "OneMinusSrcAlphaFactor",
            "blendDstAlpha": 0,
            "blendEquation": "AddEquation",
            "blendEquationAlpha": 0,
            "blendSrc": "SrcAlphaFactor",
            "blendSrcAlpha": 0,
            "blending": "NormalBlending",
            "clipIntersection": false,
            "clipShadows": false,
            "clippingPlanes": [],
            "color": "white",
            "colorWrite": true,
            "defines": null,
            "depthFunc": "LessEqualDepth",
            "depthTest": true,
            "depthWrite": true,
            "dithering": false,
            "flatShading": false,
            "fog": true,
            "lights": false,
            "map": null,
            "morphTargets": false,
            "name": "",
            "opacity": 1,
            "overdraw": 0,
            "polygonOffset": false,
            "polygonOffsetFactor": 0,
            "polygonOffsetUnits": 0,
            "precision": null,
            "premultipliedAlpha": false,
            "shadowSide": null,
            "side": "FrontSide",
            "size": 4,
            "sizeAttenuation": false,
            "transparent": false,
            "type": "PointsMaterial",
            "vertexColors": "NoColors",
            "visible": true
          }
        },
        "4bfdb96aa9d54357a86459f13bb382ab": {
          "model_module": "jupyter-threejs",
          "model_name": "BufferGeometryModel",
          "model_module_version": "^2.4.1",
          "state": {
            "MaxIndex": 65535,
            "_model_module": "jupyter-threejs",
            "_model_module_version": "^2.4.1",
            "_model_name": "BufferGeometryModel",
            "_ref_geometry": null,
            "_store_ref": false,
            "_view_count": null,
            "_view_module": null,
            "_view_module_version": "",
            "_view_name": null,
            "attributes": {
              "position": "IPY_MODEL_e0df93c73d5140a68d8bc9f9f674b8ce"
            },
            "index": null,
            "morphAttributes": {},
            "name": "",
            "type": "BufferGeometry",
            "userData": {}
          }
        },
        "f04905022e7c4aaaaf382a23501467dc": {
          "model_module": "jupyter-threejs",
          "model_name": "LineBasicMaterialModel",
          "model_module_version": "^2.4.1",
          "state": {
            "_model_module": "jupyter-threejs",
            "_model_module_version": "^2.4.1",
            "_model_name": "LineBasicMaterialModel",
            "_view_count": null,
            "_view_module": null,
            "_view_module_version": "",
            "_view_name": null,
            "alphaTest": 0,
            "blendDst": "OneMinusSrcAlphaFactor",
            "blendDstAlpha": 0,
            "blendEquation": "AddEquation",
            "blendEquationAlpha": 0,
            "blendSrc": "SrcAlphaFactor",
            "blendSrcAlpha": 0,
            "blending": "NormalBlending",
            "clipIntersection": false,
            "clipShadows": false,
            "clippingPlanes": [],
            "color": "blue",
            "colorWrite": true,
            "defines": null,
            "depthFunc": "LessEqualDepth",
            "depthTest": true,
            "depthWrite": true,
            "dithering": false,
            "flatShading": false,
            "fog": true,
            "lights": false,
            "linecap": "round",
            "linejoin": "round",
            "linewidth": 1,
            "name": "",
            "opacity": 1,
            "overdraw": 0,
            "polygonOffset": false,
            "polygonOffsetFactor": 0,
            "polygonOffsetUnits": 0,
            "precision": null,
            "premultipliedAlpha": false,
            "shadowSide": null,
            "side": "FrontSide",
            "transparent": false,
            "type": "LineBasicMaterial",
            "vertexColors": "NoColors",
            "visible": true
          }
        },
        "e9322860e19a48a78d88a0e80b137f59": {
          "model_module": "jupyter-threejs",
          "model_name": "BufferGeometryModel",
          "model_module_version": "^2.4.1",
          "state": {
            "MaxIndex": 65535,
            "_model_module": "jupyter-threejs",
            "_model_module_version": "^2.4.1",
            "_model_name": "BufferGeometryModel",
            "_ref_geometry": null,
            "_store_ref": false,
            "_view_count": null,
            "_view_module": null,
            "_view_module_version": "",
            "_view_name": null,
            "attributes": {
              "position": "IPY_MODEL_f8b448f8d060402298a46663d8a25d0c"
            },
            "index": null,
            "morphAttributes": {},
            "name": "",
            "type": "BufferGeometry",
            "userData": {}
          }
        },
        "23de1bc4a51f4bc5b0b3e5b815efa42d": {
          "model_module": "jupyter-threejs",
          "model_name": "LineBasicMaterialModel",
          "model_module_version": "^2.4.1",
          "state": {
            "_model_module": "jupyter-threejs",
            "_model_module_version": "^2.4.1",
            "_model_name": "LineBasicMaterialModel",
            "_view_count": null,
            "_view_module": null,
            "_view_module_version": "",
            "_view_name": null,
            "alphaTest": 0,
            "blendDst": "OneMinusSrcAlphaFactor",
            "blendDstAlpha": 0,
            "blendEquation": "AddEquation",
            "blendEquationAlpha": 0,
            "blendSrc": "SrcAlphaFactor",
            "blendSrcAlpha": 0,
            "blending": "NormalBlending",
            "clipIntersection": false,
            "clipShadows": false,
            "clippingPlanes": [],
            "color": "green",
            "colorWrite": true,
            "defines": null,
            "depthFunc": "LessEqualDepth",
            "depthTest": true,
            "depthWrite": true,
            "dithering": false,
            "flatShading": false,
            "fog": true,
            "lights": false,
            "linecap": "round",
            "linejoin": "round",
            "linewidth": 1,
            "name": "",
            "opacity": 1,
            "overdraw": 0,
            "polygonOffset": false,
            "polygonOffsetFactor": 0,
            "polygonOffsetUnits": 0,
            "precision": null,
            "premultipliedAlpha": false,
            "shadowSide": null,
            "side": "FrontSide",
            "transparent": false,
            "type": "LineBasicMaterial",
            "vertexColors": "NoColors",
            "visible": true
          }
        },
        "54eb7e0cf3a443d0adc89fefd895b100": {
          "model_module": "jupyter-threejs",
          "model_name": "BufferGeometryModel",
          "model_module_version": "^2.4.1",
          "state": {
            "MaxIndex": 65535,
            "_model_module": "jupyter-threejs",
            "_model_module_version": "^2.4.1",
            "_model_name": "BufferGeometryModel",
            "_ref_geometry": null,
            "_store_ref": false,
            "_view_count": null,
            "_view_module": null,
            "_view_module_version": "",
            "_view_name": null,
            "attributes": {
              "position": "IPY_MODEL_b6c2932077784675a103c0d93621fa98"
            },
            "index": null,
            "morphAttributes": {},
            "name": "",
            "type": "BufferGeometry",
            "userData": {}
          }
        },
        "9c02effd75344131920a9de8684627c0": {
          "model_module": "jupyter-threejs",
          "model_name": "LineBasicMaterialModel",
          "model_module_version": "^2.4.1",
          "state": {
            "_model_module": "jupyter-threejs",
            "_model_module_version": "^2.4.1",
            "_model_name": "LineBasicMaterialModel",
            "_view_count": null,
            "_view_module": null,
            "_view_module_version": "",
            "_view_name": null,
            "alphaTest": 0,
            "blendDst": "OneMinusSrcAlphaFactor",
            "blendDstAlpha": 0,
            "blendEquation": "AddEquation",
            "blendEquationAlpha": 0,
            "blendSrc": "SrcAlphaFactor",
            "blendSrcAlpha": 0,
            "blending": "NormalBlending",
            "clipIntersection": false,
            "clipShadows": false,
            "clippingPlanes": [],
            "color": "red",
            "colorWrite": true,
            "defines": null,
            "depthFunc": "LessEqualDepth",
            "depthTest": true,
            "depthWrite": true,
            "dithering": false,
            "flatShading": false,
            "fog": true,
            "lights": false,
            "linecap": "round",
            "linejoin": "round",
            "linewidth": 1,
            "name": "",
            "opacity": 1,
            "overdraw": 0,
            "polygonOffset": false,
            "polygonOffsetFactor": 0,
            "polygonOffsetUnits": 0,
            "precision": null,
            "premultipliedAlpha": false,
            "shadowSide": null,
            "side": "FrontSide",
            "transparent": false,
            "type": "LineBasicMaterial",
            "vertexColors": "NoColors",
            "visible": true
          }
        },
        "8edb60bec63b459eadc33a3d2bfb2d1e": {
          "model_module": "jupyter-threejs",
          "model_name": "BufferGeometryModel",
          "model_module_version": "^2.4.1",
          "state": {
            "MaxIndex": 65535,
            "_model_module": "jupyter-threejs",
            "_model_module_version": "^2.4.1",
            "_model_name": "BufferGeometryModel",
            "_ref_geometry": null,
            "_store_ref": false,
            "_view_count": null,
            "_view_module": null,
            "_view_module_version": "",
            "_view_name": null,
            "attributes": {
              "position": "IPY_MODEL_07223038c6344ad5a6d1b7ed89acca15"
            },
            "index": null,
            "morphAttributes": {},
            "name": "",
            "type": "BufferGeometry",
            "userData": {}
          }
        },
        "30faac8b741a4e99aac844dcc97adc00": {
          "model_module": "jupyter-threejs",
          "model_name": "PointsMaterialModel",
          "model_module_version": "^2.4.1",
          "state": {
            "_model_module": "jupyter-threejs",
            "_model_module_version": "^2.4.1",
            "_model_name": "PointsMaterialModel",
            "_view_count": null,
            "_view_module": null,
            "_view_module_version": "",
            "_view_name": null,
            "alphaTest": 0,
            "blendDst": "OneMinusSrcAlphaFactor",
            "blendDstAlpha": 0,
            "blendEquation": "AddEquation",
            "blendEquationAlpha": 0,
            "blendSrc": "SrcAlphaFactor",
            "blendSrcAlpha": 0,
            "blending": "NormalBlending",
            "clipIntersection": false,
            "clipShadows": false,
            "clippingPlanes": [],
            "color": "blue",
            "colorWrite": true,
            "defines": null,
            "depthFunc": "LessEqualDepth",
            "depthTest": true,
            "depthWrite": true,
            "dithering": false,
            "flatShading": false,
            "fog": true,
            "lights": false,
            "map": null,
            "morphTargets": false,
            "name": "",
            "opacity": 1,
            "overdraw": 0,
            "polygonOffset": false,
            "polygonOffsetFactor": 0,
            "polygonOffsetUnits": 0,
            "precision": null,
            "premultipliedAlpha": false,
            "shadowSide": null,
            "side": "FrontSide",
            "size": 7,
            "sizeAttenuation": false,
            "transparent": false,
            "type": "PointsMaterial",
            "vertexColors": "NoColors",
            "visible": true
          }
        },
        "101c3662bf334f21b87d1fce240d5ef7": {
          "model_module": "jupyter-threejs",
          "model_name": "BufferGeometryModel",
          "model_module_version": "^2.4.1",
          "state": {
            "MaxIndex": 65535,
            "_model_module": "jupyter-threejs",
            "_model_module_version": "^2.4.1",
            "_model_name": "BufferGeometryModel",
            "_ref_geometry": null,
            "_store_ref": false,
            "_view_count": null,
            "_view_module": null,
            "_view_module_version": "",
            "_view_name": null,
            "attributes": {
              "position": "IPY_MODEL_75814d5612db4876a4b516f16b82c7be"
            },
            "index": null,
            "morphAttributes": {},
            "name": "",
            "type": "BufferGeometry",
            "userData": {}
          }
        },
        "2017b4786ee946a0a0a82b6b1cb71f61": {
          "model_module": "jupyter-threejs",
          "model_name": "PointsMaterialModel",
          "model_module_version": "^2.4.1",
          "state": {
            "_model_module": "jupyter-threejs",
            "_model_module_version": "^2.4.1",
            "_model_name": "PointsMaterialModel",
            "_view_count": null,
            "_view_module": null,
            "_view_module_version": "",
            "_view_name": null,
            "alphaTest": 0,
            "blendDst": "OneMinusSrcAlphaFactor",
            "blendDstAlpha": 0,
            "blendEquation": "AddEquation",
            "blendEquationAlpha": 0,
            "blendSrc": "SrcAlphaFactor",
            "blendSrcAlpha": 0,
            "blending": "NormalBlending",
            "clipIntersection": false,
            "clipShadows": false,
            "clippingPlanes": [],
            "color": "blue",
            "colorWrite": true,
            "defines": null,
            "depthFunc": "LessEqualDepth",
            "depthTest": true,
            "depthWrite": true,
            "dithering": false,
            "flatShading": false,
            "fog": true,
            "lights": false,
            "map": null,
            "morphTargets": false,
            "name": "",
            "opacity": 1,
            "overdraw": 0,
            "polygonOffset": false,
            "polygonOffsetFactor": 0,
            "polygonOffsetUnits": 0,
            "precision": null,
            "premultipliedAlpha": false,
            "shadowSide": null,
            "side": "FrontSide",
            "size": 7,
            "sizeAttenuation": false,
            "transparent": false,
            "type": "PointsMaterial",
            "vertexColors": "NoColors",
            "visible": true
          }
        },
        "fe49da119f0a4f12b34706d42c7948e1": {
          "model_module": "jupyter-threejs",
          "model_name": "BoxBufferGeometryModel",
          "model_module_version": "^2.4.1",
          "state": {
            "_model_module": "jupyter-threejs",
            "_model_module_version": "^2.4.1",
            "_model_name": "BoxBufferGeometryModel",
            "_view_count": null,
            "_view_module": null,
            "_view_module_version": "",
            "_view_name": null,
            "depth": 7,
            "depthSegments": 1,
            "height": 5,
            "heightSegments": 1,
            "name": "",
            "type": "BoxBufferGeometry",
            "width": 2,
            "widthSegments": 1
          }
        },
        "e07f29509ec643b29acbdb6ef8df5fc9": {
          "model_module": "jupyter-threejs",
          "model_name": "MeshPhysicalMaterialModel",
          "model_module_version": "^2.4.1",
          "state": {
            "_model_module": "jupyter-threejs",
            "_model_module_version": "^2.4.1",
            "_model_name": "MeshPhysicalMaterialModel",
            "_view_count": null,
            "_view_module": null,
            "_view_module_version": "",
            "_view_name": null,
            "alphaMap": null,
            "alphaTest": 0,
            "aoMap": null,
            "aoMapIntensity": 1,
            "blendDst": "OneMinusSrcAlphaFactor",
            "blendDstAlpha": 0,
            "blendEquation": "AddEquation",
            "blendEquationAlpha": 0,
            "blendSrc": "SrcAlphaFactor",
            "blendSrcAlpha": 0,
            "blending": "NormalBlending",
            "bumpMap": null,
            "bumpScale": 1,
            "clearCoat": 0,
            "clearCoatRoughness": 0,
            "clipIntersection": false,
            "clipShadows": false,
            "clippingPlanes": [],
            "color": "red",
            "colorWrite": true,
            "defines": {
              "PHYSICAL": ""
            },
            "depthFunc": "LessEqualDepth",
            "depthTest": true,
            "depthWrite": true,
            "displacementBias": 0,
            "displacementMap": null,
            "displacementScale": 1,
            "dithering": false,
            "emissive": "#000000",
            "emissiveIntensity": 1,
            "emissiveMap": null,
            "envMap": null,
            "envMapIntensity": 1,
            "flatShading": false,
            "fog": true,
            "lightMap": null,
            "lightMapIntensity": 1,
            "lights": true,
            "map": null,
            "metalness": 0.5,
            "metalnessMap": null,
            "morphNormals": false,
            "morphTargets": false,
            "name": "",
            "normalMap": null,
            "normalScale": [
              1,
              1
            ],
            "opacity": 0.5,
            "overdraw": 0,
            "polygonOffset": false,
            "polygonOffsetFactor": 0,
            "polygonOffsetUnits": 0,
            "precision": null,
            "premultipliedAlpha": false,
            "reflectivity": 0.5,
            "refractionRatio": 0.98,
            "roughness": 0.5,
            "roughnessMap": null,
            "shadowSide": null,
            "side": "FrontSide",
            "skinning": false,
            "transparent": true,
            "type": "MeshPhysicalMaterial",
            "vertexColors": "NoColors",
            "visible": true,
            "wireframe": false,
            "wireframeLinecap": "round",
            "wireframeLinejoin": "round",
            "wireframeLinewidth": 1
          }
        },
        "c1e68414e5834b1ba308ed00afb439d1": {
          "model_module": "jupyter-threejs",
          "model_name": "WireframeGeometryModel",
          "model_module_version": "^2.4.1",
          "state": {
            "_model_module": "jupyter-threejs",
            "_model_module_version": "^2.4.1",
            "_model_name": "WireframeGeometryModel",
            "_view_count": null,
            "_view_module": null,
            "_view_module_version": "",
            "_view_name": null,
            "geometry": "IPY_MODEL_fe49da119f0a4f12b34706d42c7948e1",
            "name": "",
            "type": "WireframeGeometry"
          }
        },
        "f96796c26af44b0987a0a17f06498f77": {
          "model_module": "jupyter-threejs",
          "model_name": "LineBasicMaterialModel",
          "model_module_version": "^2.4.1",
          "state": {
            "_model_module": "jupyter-threejs",
            "_model_module_version": "^2.4.1",
            "_model_name": "LineBasicMaterialModel",
            "_view_count": null,
            "_view_module": null,
            "_view_module_version": "",
            "_view_name": null,
            "alphaTest": 0,
            "blendDst": "OneMinusSrcAlphaFactor",
            "blendDstAlpha": 0,
            "blendEquation": "AddEquation",
            "blendEquationAlpha": 0,
            "blendSrc": "SrcAlphaFactor",
            "blendSrcAlpha": 0,
            "blending": "NormalBlending",
            "clipIntersection": false,
            "clipShadows": false,
            "clippingPlanes": [],
            "color": "#ff7070",
            "colorWrite": true,
            "defines": null,
            "depthFunc": "LessEqualDepth",
            "depthTest": true,
            "depthWrite": true,
            "dithering": false,
            "flatShading": false,
            "fog": true,
            "lights": false,
            "linecap": "round",
            "linejoin": "round",
            "linewidth": 2,
            "name": "",
            "opacity": 1,
            "overdraw": 0,
            "polygonOffset": false,
            "polygonOffsetFactor": 0,
            "polygonOffsetUnits": 0,
            "precision": null,
            "premultipliedAlpha": false,
            "shadowSide": null,
            "side": "FrontSide",
            "transparent": false,
            "type": "LineBasicMaterial",
            "vertexColors": "NoColors",
            "visible": true
          }
        },
        "d753a092e5a94dcfbb18f9074badec41": {
          "model_module": "jupyter-threejs",
          "model_name": "BufferAttributeModel",
          "model_module_version": "^2.4.1",
          "state": {
            "_model_module": "jupyter-threejs",
            "_model_module_version": "^2.4.1",
            "_model_name": "BufferAttributeModel",
            "_view_count": null,
            "_view_module": null,
            "_view_module_version": "",
            "_view_name": null,
            "array": {
              "shape": [
                2,
                3
              ],
              "dtype": "float32"
            },
            "dynamic": false,
            "needsUpdate": false,
            "normalized": false,
            "version": 1
          }
        },
        "7be4bb62431644d08b36c395a0fe4813": {
          "model_module": "jupyter-threejs",
          "model_name": "BufferAttributeModel",
          "model_module_version": "^2.4.1",
          "state": {
            "_model_module": "jupyter-threejs",
            "_model_module_version": "^2.4.1",
            "_model_name": "BufferAttributeModel",
            "_view_count": null,
            "_view_module": null,
            "_view_module_version": "",
            "_view_name": null,
            "array": {
              "shape": [
                1,
                3
              ],
              "dtype": "int32"
            },
            "dynamic": false,
            "needsUpdate": false,
            "normalized": false,
            "version": 1
          }
        },
        "e0df93c73d5140a68d8bc9f9f674b8ce": {
          "model_module": "jupyter-threejs",
          "model_name": "BufferAttributeModel",
          "model_module_version": "^2.4.1",
          "state": {
            "_model_module": "jupyter-threejs",
            "_model_module_version": "^2.4.1",
            "_model_name": "BufferAttributeModel",
            "_view_count": null,
            "_view_module": null,
            "_view_module_version": "",
            "_view_name": null,
            "array": {
              "shape": [
                2,
                3
              ],
              "dtype": "float32"
            },
            "dynamic": false,
            "needsUpdate": false,
            "normalized": false,
            "version": 1
          }
        },
        "f8b448f8d060402298a46663d8a25d0c": {
          "model_module": "jupyter-threejs",
          "model_name": "BufferAttributeModel",
          "model_module_version": "^2.4.1",
          "state": {
            "_model_module": "jupyter-threejs",
            "_model_module_version": "^2.4.1",
            "_model_name": "BufferAttributeModel",
            "_view_count": null,
            "_view_module": null,
            "_view_module_version": "",
            "_view_name": null,
            "array": {
              "shape": [
                2,
                3
              ],
              "dtype": "float32"
            },
            "dynamic": false,
            "needsUpdate": false,
            "normalized": false,
            "version": 1
          }
        },
        "b6c2932077784675a103c0d93621fa98": {
          "model_module": "jupyter-threejs",
          "model_name": "BufferAttributeModel",
          "model_module_version": "^2.4.1",
          "state": {
            "_model_module": "jupyter-threejs",
            "_model_module_version": "^2.4.1",
            "_model_name": "BufferAttributeModel",
            "_view_count": null,
            "_view_module": null,
            "_view_module_version": "",
            "_view_name": null,
            "array": {
              "shape": [
                2,
                3
              ],
              "dtype": "float32"
            },
            "dynamic": false,
            "needsUpdate": false,
            "normalized": false,
            "version": 1
          }
        },
        "07223038c6344ad5a6d1b7ed89acca15": {
          "model_module": "jupyter-threejs",
          "model_name": "BufferAttributeModel",
          "model_module_version": "^2.4.1",
          "state": {
            "_model_module": "jupyter-threejs",
            "_model_module_version": "^2.4.1",
            "_model_name": "BufferAttributeModel",
            "_view_count": null,
            "_view_module": null,
            "_view_module_version": "",
            "_view_name": null,
            "array": {
              "shape": [
                1,
                3
              ],
              "dtype": "float32"
            },
            "dynamic": false,
            "needsUpdate": false,
            "normalized": false,
            "version": 1
          }
        },
        "75814d5612db4876a4b516f16b82c7be": {
          "model_module": "jupyter-threejs",
          "model_name": "BufferAttributeModel",
          "model_module_version": "^2.4.1",
          "state": {
            "_model_module": "jupyter-threejs",
            "_model_module_version": "^2.4.1",
            "_model_name": "BufferAttributeModel",
            "_view_count": null,
            "_view_module": null,
            "_view_module_version": "",
            "_view_name": null,
            "array": {
              "shape": [
                1,
                3
              ],
              "dtype": "float32"
            },
            "dynamic": false,
            "needsUpdate": false,
            "normalized": false,
            "version": 1
          }
        }
      }
    }
  },
  "cells": [
    {
      "cell_type": "markdown",
      "metadata": {
        "id": "view-in-github",
        "colab_type": "text"
      },
      "source": [
        "<a href=\"https://colab.research.google.com/github/KGL8/Code-for-Lab/blob/main/photon_through_deuteron_target.ipynb\" target=\"_parent\"><img src=\"https://colab.research.google.com/assets/colab-badge.svg\" alt=\"Open In Colab\"/></a>"
      ]
    },
    {
      "cell_type": "code",
      "source": [
        "!pip install pythreejs\n",
        "\n",
        "from google.colab import output\n",
        "output.enable_custom_widget_manager()\n",
        "import numpy as np\n",
        "import random\n",
        "from pythreejs import *\n",
        "import matplotlib.pyplot as plt"
      ],
      "metadata": {
        "collapsed": true,
        "id": "jyGV-7YcmU9-"
      },
      "execution_count": null,
      "outputs": []
    },
    {
      "cell_type": "markdown",
      "source": [
        "# Primitive elements"
      ],
      "metadata": {
        "id": "P8CUREOd6Jik"
      }
    },
    {
      "cell_type": "code",
      "source": [
        "# create an instance of the line segment object\n",
        "def ray(origin, direction, length, col):\n",
        "  return Line(geometry=BufferGeometry(attributes={'position': BufferAttribute(array=np.array([origin, length * np.array(direction)]), normalized=False),}),material=LineBasicMaterial(color=col))"
      ],
      "metadata": {
        "id": "bOZ5wbCcokTv"
      },
      "execution_count": 2,
      "outputs": []
    },
    {
      "cell_type": "code",
      "source": [
        "# create an instance of the box object\n",
        "def point(position, col, size):\n",
        "  return Points(geometry=BufferGeometry(attributes={\"position\": BufferAttribute(np.array([position]), normalized=False)}),\n",
        "                material=PointsMaterial(color=col, size=size, sizeAttenuation=False))"
      ],
      "metadata": {
        "id": "30MVHGxPpK_x"
      },
      "execution_count": 3,
      "outputs": []
    },
    {
      "cell_type": "code",
      "source": [
        "# create an instance of the box object\n",
        "def box(width, height, depth, position, col):\n",
        "  box_geometry = BoxBufferGeometry(width=width, height=height, depth=depth)\n",
        "\n",
        "  box_material = MeshPhysicalMaterial(color=col, transparent=True, opacity=0.5)\n",
        "  box_mesh = Mesh(geometry=box_geometry, material=box_material)\n",
        "\n",
        "  wireframe_material = LineBasicMaterial(color='#ff7070',linewidth=2)\n",
        "  wireframe = WireframeGeometry(box_geometry)\n",
        "  wireframe_mesh = LineSegments(wireframe, wireframe_material)\n",
        "\n",
        "  box_group = Group(children=[box_mesh, wireframe_mesh])\n",
        "  box_group.position = position\n",
        "\n",
        "  return box_group"
      ],
      "metadata": {
        "id": "wuxvSWOwrnbj"
      },
      "execution_count": 37,
      "outputs": []
    },
    {
      "cell_type": "markdown",
      "source": [
        "# Helper fuctions"
      ],
      "metadata": {
        "id": "wwjwBCq56UF-"
      }
    },
    {
      "cell_type": "code",
      "source": [
        "# spherical to cartesian\n",
        "def sph_car(theta, phi, r=1):\n",
        "  x = r * np.sin(phi) * np.cos(theta)\n",
        "  y = r * np.sin(phi) * np.sin(theta)\n",
        "  z = r * np.cos(phi)\n",
        "  return np.array([x, y, z])"
      ],
      "metadata": {
        "id": "fHRuL0MSrRF6"
      },
      "execution_count": 5,
      "outputs": []
    },
    {
      "cell_type": "code",
      "execution_count": 6,
      "metadata": {
        "id": "53PNJnw4sWW8",
        "collapsed": true
      },
      "outputs": [],
      "source": [
        "# entry and exit points for a ray through an axis-aligned box\n",
        "def intersect_ray_box(ray_origin, ray_direction, box_min, box_max):\n",
        "    tnear = float('-inf')\n",
        "    tfar = float('inf')\n",
        "\n",
        "    for i in range(3):\n",
        "        if ray_direction[i] == 0:\n",
        "            if ray_origin[i] < box_min[i] or ray_origin[i] > box_max[i]:\n",
        "                return None, None\n",
        "        else:\n",
        "            t1 = (box_min[i] - ray_origin[i]) / ray_direction[i]\n",
        "            t2 = (box_max[i] - ray_origin[i]) / ray_direction[i]\n",
        "\n",
        "            if t1 > t2:\n",
        "                t1, t2 = t2, t1\n",
        "\n",
        "            if t1 > tnear:\n",
        "                tnear = t1\n",
        "\n",
        "            if t2 < tfar:\n",
        "                tfar = t2\n",
        "\n",
        "            if tnear > tfar:\n",
        "                return None, None\n",
        "\n",
        "            if tfar < 0:\n",
        "                return None, None\n",
        "\n",
        "    return ray_origin + ray_direction * tnear, ray_origin + ray_direction * tfar"
      ]
    },
    {
      "cell_type": "code",
      "source": [
        "# takes two numpy arrays\n",
        "def angle_between_vectors(a, b):\n",
        "    return np.arccos(np.dot(a, b) / (np.linalg.norm(a) * np.linalg.norm(b)))"
      ],
      "metadata": {
        "id": "I1CsYIFaEuHv"
      },
      "execution_count": 7,
      "outputs": []
    },
    {
      "cell_type": "code",
      "source": [
        "# my mathematically precise distance piecewise; still gotta get top and bottom and set up the trigger intervals\n",
        "def dist(side):\n",
        "  if side == 'back':\n",
        "    return depth/np.cos(phi)\n",
        "  elif side == 'right':\n",
        "    return width/(2*np.cos(angle_between_vectors(dir, np.array([-1,0,0]))))-origin/np.cos(phi)\n",
        "  elif side == 'left':\n",
        "    return width/(2*np.cos(angle_between_vectors(dir, np.array([1,0,0]))))-origin/np.cos(phi)\n",
        "  elif side == 'top':\n",
        "    return height/(2*np.cos(angle_between_vectors(dir, np.array([0,1,0]))))-origin/np.cos(phi)\n",
        "  elif side == 'bottom':\n",
        "    return height/(2*np.cos(angle_between_vectors(dir, np.array([0,-1,0]))))-origin/np.cos(phi)\n",
        "  else:\n",
        "    return -1"
      ],
      "metadata": {
        "id": "0aY7eVgeNAJ2"
      },
      "execution_count": 8,
      "outputs": []
    },
    {
      "cell_type": "code",
      "source": [
        "# relationship between enery level and number of photons\n",
        "def γ_num_by_MeV(MeV):\n",
        "  return 1/(MeV+0.1)"
      ],
      "metadata": {
        "id": "17SAI6958A4w"
      },
      "execution_count": 9,
      "outputs": []
    },
    {
      "cell_type": "code",
      "source": [
        "# relationship between enery level and angle\n",
        "def MeV_by_φ(MeV):\n",
        "  return 1/(MeV+1)"
      ],
      "metadata": {
        "id": "fOVTIrQt8cQH"
      },
      "execution_count": 61,
      "outputs": []
    },
    {
      "cell_type": "code",
      "source": [
        "# selects a random photon energy in the range of interest\n",
        "def random_photon_direction(MeV_range):\n",
        "  n1 = random.uniform(*MeV_range)\n",
        "  n2 = random.uniform(0,γ_num_by_MeV(MeV_range[0]))\n",
        "\n",
        "  if n2 > γ_num_by_MeV(n1):\n",
        "    return -1\n",
        "  else:\n",
        "    return n1"
      ],
      "metadata": {
        "id": "tSbalhGj8v8Z"
      },
      "execution_count": 11,
      "outputs": []
    },
    {
      "cell_type": "code",
      "source": [
        "# takes a range of MeV we're interested in and outputs a corresponding θ and φ\n",
        "def dir_from_γ_energy_range(range):\n",
        "  MeV = random_photon_direction(range)\n",
        "  if MeV > 0:\n",
        "    return random.uniform(0,2*np.pi), MeV_by_φ(MeV)\n",
        "  else:\n",
        "    return -1, -1"
      ],
      "metadata": {
        "id": "Qwi4vjd97d7e"
      },
      "execution_count": 25,
      "outputs": []
    },
    {
      "cell_type": "markdown",
      "source": [
        "# Interface"
      ],
      "metadata": {
        "id": "I8g1gROm6ozW"
      }
    },
    {
      "cell_type": "code",
      "source": [
        "# parameters (θ is azimuthal, φ is polar)\n",
        "origin = 3\n",
        "width = 2\n",
        "height = 5\n",
        "depth = 7\n",
        "box_min = np.array([-width / 2, -height / 2, origin])\n",
        "box_max = np.array([width / 2, height / 2, depth + origin])\n",
        "theta, phi = dir_from_γ_energy_range((2.5,20))\n",
        "if theta == -1:\n",
        "  print(\"Insufficient quantity of photons in energy level\")\n",
        "else:\n",
        "  dir = sph_car(theta, phi)\n",
        "print(theta, phi)\n",
        "en,ex = intersect_ray_box(np.array([0, 0, 0]), dir, box_min, box_max)"
      ],
      "metadata": {
        "id": "KZz44feIp--1",
        "colab": {
          "base_uri": "https://localhost:8080/"
        },
        "outputId": "0593ab0e-d192-459c-9a2e-87627ed589a8"
      },
      "execution_count": 58,
      "outputs": [
        {
          "output_type": "stream",
          "name": "stdout",
          "text": [
            "Insufficient quantity of photons in energy level\n",
            "-1 -1\n"
          ]
        }
      ]
    },
    {
      "cell_type": "code",
      "source": [
        "# params for histogram\n",
        "samples = 1000000\n",
        "bins = 70"
      ],
      "metadata": {
        "id": "QtTo11yvQaax"
      },
      "execution_count": 59,
      "outputs": []
    },
    {
      "cell_type": "markdown",
      "source": [
        "# Rendering stuff"
      ],
      "metadata": {
        "id": "fnp1_-QL6hvE"
      }
    },
    {
      "cell_type": "code",
      "source": [
        "# histogram\n",
        "data = np.array([])\n",
        "for i in range(samples):\n",
        "  theta, phi = dir_from_γ_energy_range((2.5,20))\n",
        "  if theta >= 0:\n",
        "    dir = sph_car(theta, phi)\n",
        "    en,ex = intersect_ray_box(np.array([0, 0, 0]), dir, box_min, box_max)\n",
        "    if en is not None and ex is not None:\n",
        "      data = np.append(data, np.linalg.norm(en - ex))\n",
        "\n",
        "plt.hist(data, bins=bins, edgecolor='black')\n",
        "\n",
        "plt.xlabel('Distance Traveled')\n",
        "plt.ylabel('Flux')\n",
        "\n",
        "plt.show()\n",
        "print(np.mean(data))"
      ],
      "metadata": {
        "colab": {
          "base_uri": "https://localhost:8080/",
          "height": 467
        },
        "id": "rzvA0hhJMBAY",
        "outputId": "c1278ff7-7858-4310-9a33-98bc6412f8a3"
      },
      "execution_count": 62,
      "outputs": [
        {
          "output_type": "display_data",
          "data": {
            "text/plain": [
              "<Figure size 640x480 with 1 Axes>"
            ],
            "image/png": "[encoded data removed]"
          },
          "metadata": {}
        },
        {
          "output_type": "stream",
          "name": "stdout",
          "text": [
            "5.860287623569945\n"
          ]
        }
      ]
    },
    {
      "cell_type": "code",
      "source": [
        "j = np.array([])\n",
        "j = np.append(j, 4.3)\n",
        "j"
      ],
      "metadata": {
        "colab": {
          "base_uri": "https://localhost:8080/"
        },
        "id": "IAbWFzCpM2Kc",
        "outputId": "82b1ccd6-a615-4c4f-c3f5-13dc7cff211f"
      },
      "execution_count": 47,
      "outputs": [
        {
          "output_type": "execute_result",
          "data": {
            "text/plain": [
              "array([4.3])"
            ]
          },
          "metadata": {},
          "execution_count": 47
        }
      ]
    },
    {
      "cell_type": "code",
      "source": [
        "# UI rendering\n",
        "target_box = box(width, height, depth, (0, 0, depth / 2 + origin), 'red')\n",
        "\n",
        "\n",
        "ray_line = ray(np.array([0, 0, 0]), dir, 1000, '#f5f542')\n",
        "\n",
        "z_ray = ray(np.array([0, 0, 0]), sph_car(0, 0), 1, 'red')\n",
        "y_ray = ray(np.array([0, 0, 0]), sph_car(np.pi/2, np.pi/2), 1, 'green')\n",
        "x_ray = ray(np.array([0, 0, 0]), sph_car(0, np.pi/2), 1, 'blue')\n",
        "\n",
        "origin_point = point([0, 0, 0], 'white', 4)\n",
        "\n",
        "scene = Scene(children=[target_box, ray_line, origin_point, x_ray, y_ray, z_ray])\n",
        "scene.background = '#141414'\n",
        "\n",
        "if en is not None and ex is not None:\n",
        "  entry = point(en, 'blue', 7)\n",
        "  exit = point(ex, 'blue', 7)\n",
        "  scene.add(entry)\n",
        "  scene.add(exit)\n",
        "\n",
        "lights = [\n",
        "    DirectionalLight(color='white', intensity=3, position=[0, 200, 0]),\n",
        "    DirectionalLight(color='white', intensity=3, position=[100, 200, 100]),\n",
        "    DirectionalLight(color='white', intensity=3, position=[-100, -200, -100])\n",
        "]\n",
        "for light in lights:\n",
        "    scene.add(light)\n",
        "\n",
        "camera = PerspectiveCamera(position=[10, 10, 10], up=[0, 1, 0], children=[DirectionalLight(color='white', position=[3, 5, 1], intensity=0.5)])\n",
        "\n",
        "display(Renderer(camera=camera, scene=scene, controls=[OrbitControls(controlling=camera)], antialias=True, width=800, height=600))"
      ],
      "metadata": {
        "colab": {
          "base_uri": "https://localhost:8080/",
          "height": 1000,
          "referenced_widgets": [
            "eddee3d8aeb24484a6f2508d8efb3a39",
            "952c75550855495e9b081420282c350e",
            "34d6e0139560469fab5630837099dcc7",
            "1a398034272149b0873bfc1a33ba76d3",
            "1ab31a217ad34557a93a7aa9f77281aa",
            "4d13c40cfe7c45f59d843fbcf6704a13",
            "cb3c5d583060433a9a009fe537e9dd48",
            "39f7471de6084602bb78f27395d94032",
            "35270a48c3764c828b849d337bb0578f",
            "f91f144ddc554f4497f543da3662e8c9",
            "efb6b6dfd59d49b7bf95e442b476fa48",
            "478d9096e0de46df808c0f1f5626e665",
            "132d5c040107413b8e58ab46e08934fa",
            "7904c631bf4d48ef99e06f9a84c2b045",
            "75c96184e3184d2a998d5e489e023439",
            "016dd11a651247279b4580a5c0e32328",
            "07d5b8032ea94ea4bd0fec4e5edd52ae",
            "7bd249ba380f494b8434ab6aff19f79e",
            "1978f85fba3f478990c223d48463bf61",
            "3714c81ea372468487843b3033ccde13",
            "4c4c02bac9fd45259307b6b3f0c34b3b",
            "ea8ac4b9858347079ac47163d4867012",
            "b8efaca89ec3444dbec4de4c7e72205a",
            "152943c8c445441c8532e15013b00b08",
            "4bfdb96aa9d54357a86459f13bb382ab",
            "f04905022e7c4aaaaf382a23501467dc",
            "e9322860e19a48a78d88a0e80b137f59",
            "23de1bc4a51f4bc5b0b3e5b815efa42d",
            "54eb7e0cf3a443d0adc89fefd895b100",
            "9c02effd75344131920a9de8684627c0",
            "8edb60bec63b459eadc33a3d2bfb2d1e",
            "30faac8b741a4e99aac844dcc97adc00",
            "101c3662bf334f21b87d1fce240d5ef7",
            "2017b4786ee946a0a0a82b6b1cb71f61",
            "fe49da119f0a4f12b34706d42c7948e1",
            "e07f29509ec643b29acbdb6ef8df5fc9",
            "c1e68414e5834b1ba308ed00afb439d1",
            "f96796c26af44b0987a0a17f06498f77",
            "d753a092e5a94dcfbb18f9074badec41",
            "7be4bb62431644d08b36c395a0fe4813",
            "e0df93c73d5140a68d8bc9f9f674b8ce",
            "f8b448f8d060402298a46663d8a25d0c",
            "b6c2932077784675a103c0d93621fa98",
            "07223038c6344ad5a6d1b7ed89acca15",
            "75814d5612db4876a4b516f16b82c7be"
          ]
        },
        "id": "fSN-zncdCCIG",
        "outputId": "4b29e9ba-0558-4b5f-e18c-fe5a18a7c6b9"
      },
      "execution_count": 36,
      "outputs": [
        {
          "output_type": "display_data",
          "data": {
            "text/plain": [
              "Renderer(camera=PerspectiveCamera(children=(DirectionalLight(color='white', intensity=0.5, position=(3.0, 5.0,…"
            ],
            "application/vnd.jupyter.widget-view+json": {
              "version_major": 2,
              "version_minor": 0,
              "model_id": "eddee3d8aeb24484a6f2508d8efb3a39"
            }
          },
          "metadata": {
            "application/vnd.jupyter.widget-view+json": {
              "colab": {
                "custom_widget_manager": {
                  "url": "https://ssl.gstatic.com/colaboratory-static/widgets/colab-cdn-widget-manager/2b70e893a8ba7c0f/manager.min.js"
                }
              }
            }
          }
        },
        {
          "output_type": "error",
          "ename": "TraitError",
          "evalue": "The 'target' trait of a DirectionalLight instance expected an Uninitialized or an Object3D, not the str 'IPY_MODEL_13240488-d308-4661-af24-e20ab3a18663'.",
          "traceback": [
            "\u001b[0;31m---------------------------------------------------------------------------\u001b[0m",
            "\u001b[0;31mTraitError\u001b[0m                                Traceback (most recent call last)",
            "\u001b[0;32m/usr/local/lib/python3.10/dist-packages/ipywidgets/widgets/widget.py\u001b[0m in \u001b[0;36m_handle_msg\u001b[0;34m(self, msg)\u001b[0m\n\u001b[1;32m    754\u001b[0m                 \u001b[0;32mif\u001b[0m \u001b[0;34m'buffer_paths'\u001b[0m \u001b[0;32min\u001b[0m \u001b[0mdata\u001b[0m\u001b[0;34m:\u001b[0m\u001b[0;34m\u001b[0m\u001b[0;34m\u001b[0m\u001b[0m\n\u001b[1;32m    755\u001b[0m                     \u001b[0m_put_buffers\u001b[0m\u001b[0;34m(\u001b[0m\u001b[0mstate\u001b[0m\u001b[0;34m,\u001b[0m \u001b[0mdata\u001b[0m\u001b[0;34m[\u001b[0m\u001b[0;34m'buffer_paths'\u001b[0m\u001b[0;34m]\u001b[0m\u001b[0;34m,\u001b[0m \u001b[0mmsg\u001b[0m\u001b[0;34m[\u001b[0m\u001b[0;34m'buffers'\u001b[0m\u001b[0;34m]\u001b[0m\u001b[0;34m)\u001b[0m\u001b[0;34m\u001b[0m\u001b[0;34m\u001b[0m\u001b[0m\n\u001b[0;32m--> 756\u001b[0;31m                 \u001b[0mself\u001b[0m\u001b[0;34m.\u001b[0m\u001b[0mset_state\u001b[0m\u001b[0;34m(\u001b[0m\u001b[0mstate\u001b[0m\u001b[0;34m)\u001b[0m\u001b[0;34m\u001b[0m\u001b[0;34m\u001b[0m\u001b[0m\n\u001b[0m\u001b[1;32m    757\u001b[0m \u001b[0;34m\u001b[0m\u001b[0m\n\u001b[1;32m    758\u001b[0m         \u001b[0;31m# Handle a state request.\u001b[0m\u001b[0;34m\u001b[0m\u001b[0;34m\u001b[0m\u001b[0m\n",
            "\u001b[0;32m/usr/local/lib/python3.10/dist-packages/ipywidgets/widgets/widget.py\u001b[0m in \u001b[0;36mset_state\u001b[0;34m(self, sync_data)\u001b[0m\n\u001b[1;32m    623\u001b[0m                     from_json = self.trait_metadata(name, 'from_json',\n\u001b[1;32m    624\u001b[0m                                                     self._trait_from_json)\n\u001b[0;32m--> 625\u001b[0;31m                     \u001b[0mself\u001b[0m\u001b[0;34m.\u001b[0m\u001b[0mset_trait\u001b[0m\u001b[0;34m(\u001b[0m\u001b[0mname\u001b[0m\u001b[0;34m,\u001b[0m \u001b[0mfrom_json\u001b[0m\u001b[0;34m(\u001b[0m\u001b[0msync_data\u001b[0m\u001b[0;34m[\u001b[0m\u001b[0mname\u001b[0m\u001b[0;34m]\u001b[0m\u001b[0;34m,\u001b[0m \u001b[0mself\u001b[0m\u001b[0;34m)\u001b[0m\u001b[0;34m)\u001b[0m\u001b[0;34m\u001b[0m\u001b[0;34m\u001b[0m\u001b[0m\n\u001b[0m\u001b[1;32m    626\u001b[0m \u001b[0;34m\u001b[0m\u001b[0m\n\u001b[1;32m    627\u001b[0m     \u001b[0;32mdef\u001b[0m \u001b[0msend\u001b[0m\u001b[0;34m(\u001b[0m\u001b[0mself\u001b[0m\u001b[0;34m,\u001b[0m \u001b[0mcontent\u001b[0m\u001b[0;34m,\u001b[0m \u001b[0mbuffers\u001b[0m\u001b[0;34m=\u001b[0m\u001b[0;32mNone\u001b[0m\u001b[0;34m)\u001b[0m\u001b[0;34m:\u001b[0m\u001b[0;34m\u001b[0m\u001b[0;34m\u001b[0m\u001b[0m\n",
            "\u001b[0;32m/usr/local/lib/python3.10/dist-packages/traitlets/traitlets.py\u001b[0m in \u001b[0;36mset_trait\u001b[0;34m(self, name, value)\u001b[0m\n\u001b[1;32m   1736\u001b[0m             \u001b[0;32mraise\u001b[0m \u001b[0mTraitError\u001b[0m\u001b[0;34m(\u001b[0m\u001b[0;34mf\"Class {cls.__name__} does not have a trait named {name}\"\u001b[0m\u001b[0;34m)\u001b[0m\u001b[0;34m\u001b[0m\u001b[0;34m\u001b[0m\u001b[0m\n\u001b[1;32m   1737\u001b[0m         \u001b[0;32melse\u001b[0m\u001b[0;34m:\u001b[0m\u001b[0;34m\u001b[0m\u001b[0;34m\u001b[0m\u001b[0m\n\u001b[0;32m-> 1738\u001b[0;31m             \u001b[0mgetattr\u001b[0m\u001b[0;34m(\u001b[0m\u001b[0mcls\u001b[0m\u001b[0;34m,\u001b[0m \u001b[0mname\u001b[0m\u001b[0;34m)\u001b[0m\u001b[0;34m.\u001b[0m\u001b[0mset\u001b[0m\u001b[0;34m(\u001b[0m\u001b[0mself\u001b[0m\u001b[0;34m,\u001b[0m \u001b[0mvalue\u001b[0m\u001b[0;34m)\u001b[0m\u001b[0;34m\u001b[0m\u001b[0;34m\u001b[0m\u001b[0m\n\u001b[0m\u001b[1;32m   1739\u001b[0m \u001b[0;34m\u001b[0m\u001b[0m\n\u001b[1;32m   1740\u001b[0m     \u001b[0;34m@\u001b[0m\u001b[0mclassmethod\u001b[0m\u001b[0;34m\u001b[0m\u001b[0;34m\u001b[0m\u001b[0m\n",
            "\u001b[0;32m/usr/local/lib/python3.10/dist-packages/traitlets/traitlets.py\u001b[0m in \u001b[0;36mset\u001b[0;34m(self, obj, value)\u001b[0m\n\u001b[1;32m    701\u001b[0m \u001b[0;34m\u001b[0m\u001b[0m\n\u001b[1;32m    702\u001b[0m     \u001b[0;32mdef\u001b[0m \u001b[0mset\u001b[0m\u001b[0;34m(\u001b[0m\u001b[0mself\u001b[0m\u001b[0;34m,\u001b[0m \u001b[0mobj\u001b[0m\u001b[0;34m,\u001b[0m \u001b[0mvalue\u001b[0m\u001b[0;34m)\u001b[0m\u001b[0;34m:\u001b[0m\u001b[0;34m\u001b[0m\u001b[0;34m\u001b[0m\u001b[0m\n\u001b[0;32m--> 703\u001b[0;31m         \u001b[0mnew_value\u001b[0m \u001b[0;34m=\u001b[0m \u001b[0mself\u001b[0m\u001b[0;34m.\u001b[0m\u001b[0m_validate\u001b[0m\u001b[0;34m(\u001b[0m\u001b[0mobj\u001b[0m\u001b[0;34m,\u001b[0m \u001b[0mvalue\u001b[0m\u001b[0;34m)\u001b[0m\u001b[0;34m\u001b[0m\u001b[0;34m\u001b[0m\u001b[0m\n\u001b[0m\u001b[1;32m    704\u001b[0m         \u001b[0;32mtry\u001b[0m\u001b[0;34m:\u001b[0m\u001b[0;34m\u001b[0m\u001b[0;34m\u001b[0m\u001b[0m\n\u001b[1;32m    705\u001b[0m             \u001b[0mold_value\u001b[0m \u001b[0;34m=\u001b[0m \u001b[0mobj\u001b[0m\u001b[0;34m.\u001b[0m\u001b[0m_trait_values\u001b[0m\u001b[0;34m[\u001b[0m\u001b[0mself\u001b[0m\u001b[0;34m.\u001b[0m\u001b[0mname\u001b[0m\u001b[0;34m]\u001b[0m\u001b[0;34m\u001b[0m\u001b[0;34m\u001b[0m\u001b[0m\n",
            "\u001b[0;32m/usr/local/lib/python3.10/dist-packages/traitlets/traitlets.py\u001b[0m in \u001b[0;36m_validate\u001b[0;34m(self, obj, value)\u001b[0m\n\u001b[1;32m    733\u001b[0m             \u001b[0;32mreturn\u001b[0m \u001b[0mvalue\u001b[0m\u001b[0;34m\u001b[0m\u001b[0;34m\u001b[0m\u001b[0m\n\u001b[1;32m    734\u001b[0m         \u001b[0;32mif\u001b[0m \u001b[0mhasattr\u001b[0m\u001b[0;34m(\u001b[0m\u001b[0mself\u001b[0m\u001b[0;34m,\u001b[0m \u001b[0;34m\"validate\"\u001b[0m\u001b[0;34m)\u001b[0m\u001b[0;34m:\u001b[0m\u001b[0;34m\u001b[0m\u001b[0;34m\u001b[0m\u001b[0m\n\u001b[0;32m--> 735\u001b[0;31m             \u001b[0mvalue\u001b[0m \u001b[0;34m=\u001b[0m \u001b[0mself\u001b[0m\u001b[0;34m.\u001b[0m\u001b[0mvalidate\u001b[0m\u001b[0;34m(\u001b[0m\u001b[0mobj\u001b[0m\u001b[0;34m,\u001b[0m \u001b[0mvalue\u001b[0m\u001b[0;34m)\u001b[0m\u001b[0;34m\u001b[0m\u001b[0;34m\u001b[0m\u001b[0m\n\u001b[0m\u001b[1;32m    736\u001b[0m         \u001b[0;32mif\u001b[0m \u001b[0mobj\u001b[0m\u001b[0;34m.\u001b[0m\u001b[0m_cross_validation_lock\u001b[0m \u001b[0;32mis\u001b[0m \u001b[0;32mFalse\u001b[0m\u001b[0;34m:\u001b[0m\u001b[0;34m\u001b[0m\u001b[0;34m\u001b[0m\u001b[0m\n\u001b[1;32m    737\u001b[0m             \u001b[0mvalue\u001b[0m \u001b[0;34m=\u001b[0m \u001b[0mself\u001b[0m\u001b[0;34m.\u001b[0m\u001b[0m_cross_validate\u001b[0m\u001b[0;34m(\u001b[0m\u001b[0mobj\u001b[0m\u001b[0;34m,\u001b[0m \u001b[0mvalue\u001b[0m\u001b[0;34m)\u001b[0m\u001b[0;34m\u001b[0m\u001b[0;34m\u001b[0m\u001b[0m\n",
            "\u001b[0;32m/usr/local/lib/python3.10/dist-packages/traitlets/traitlets.py\u001b[0m in \u001b[0;36mvalidate\u001b[0;34m(self, obj, value)\u001b[0m\n\u001b[1;32m   2300\u001b[0m                 \u001b[0;32mexcept\u001b[0m \u001b[0mTraitError\u001b[0m\u001b[0;34m:\u001b[0m\u001b[0;34m\u001b[0m\u001b[0;34m\u001b[0m\u001b[0m\n\u001b[1;32m   2301\u001b[0m                     \u001b[0;32mcontinue\u001b[0m\u001b[0;34m\u001b[0m\u001b[0;34m\u001b[0m\u001b[0m\n\u001b[0;32m-> 2302\u001b[0;31m         \u001b[0mself\u001b[0m\u001b[0;34m.\u001b[0m\u001b[0merror\u001b[0m\u001b[0;34m(\u001b[0m\u001b[0mobj\u001b[0m\u001b[0;34m,\u001b[0m \u001b[0mvalue\u001b[0m\u001b[0;34m)\u001b[0m\u001b[0;34m\u001b[0m\u001b[0;34m\u001b[0m\u001b[0m\n\u001b[0m\u001b[1;32m   2303\u001b[0m \u001b[0;34m\u001b[0m\u001b[0m\n\u001b[1;32m   2304\u001b[0m     \u001b[0;32mdef\u001b[0m \u001b[0m__or__\u001b[0m\u001b[0;34m(\u001b[0m\u001b[0mself\u001b[0m\u001b[0;34m,\u001b[0m \u001b[0mother\u001b[0m\u001b[0;34m)\u001b[0m\u001b[0;34m:\u001b[0m\u001b[0;34m\u001b[0m\u001b[0;34m\u001b[0m\u001b[0m\n",
            "\u001b[0;32m/usr/local/lib/python3.10/dist-packages/traitlets/traitlets.py\u001b[0m in \u001b[0;36merror\u001b[0;34m(self, obj, value, error, info)\u001b[0m\n\u001b[1;32m    839\u001b[0m                         \u001b[0mdescribe\u001b[0m\u001b[0;34m(\u001b[0m\u001b[0;34m\"the\"\u001b[0m\u001b[0;34m,\u001b[0m \u001b[0mvalue\u001b[0m\u001b[0;34m)\u001b[0m\u001b[0;34m,\u001b[0m\u001b[0;34m\u001b[0m\u001b[0;34m\u001b[0m\u001b[0m\n\u001b[1;32m    840\u001b[0m                     )\n\u001b[0;32m--> 841\u001b[0;31m                 \u001b[0;32mraise\u001b[0m \u001b[0mTraitError\u001b[0m\u001b[0;34m(\u001b[0m\u001b[0me\u001b[0m\u001b[0;34m)\u001b[0m\u001b[0;34m\u001b[0m\u001b[0;34m\u001b[0m\u001b[0m\n\u001b[0m\u001b[1;32m    842\u001b[0m \u001b[0;34m\u001b[0m\u001b[0m\n\u001b[1;32m    843\u001b[0m     \u001b[0;32mdef\u001b[0m \u001b[0mget_metadata\u001b[0m\u001b[0;34m(\u001b[0m\u001b[0mself\u001b[0m\u001b[0;34m,\u001b[0m \u001b[0mkey\u001b[0m\u001b[0;34m,\u001b[0m \u001b[0mdefault\u001b[0m\u001b[0;34m=\u001b[0m\u001b[0;32mNone\u001b[0m\u001b[0;34m)\u001b[0m\u001b[0;34m:\u001b[0m\u001b[0;34m\u001b[0m\u001b[0;34m\u001b[0m\u001b[0m\n",
            "\u001b[0;31mTraitError\u001b[0m: The 'target' trait of a DirectionalLight instance expected an Uninitialized or an Object3D, not the str 'IPY_MODEL_13240488-d308-4661-af24-e20ab3a18663'."
          ]
        },
        {
          "output_type": "error",
          "ename": "TraitError",
          "evalue": "The 'target' trait of a DirectionalLight instance expected an Uninitialized or an Object3D, not the str 'IPY_MODEL_070d5f4f-e51c-4430-bd1d-b91f6b803198'.",
          "traceback": [
            "\u001b[0;31m---------------------------------------------------------------------------\u001b[0m",
            "\u001b[0;31mTraitError\u001b[0m                                Traceback (most recent call last)",
            "\u001b[0;32m/usr/local/lib/python3.10/dist-packages/ipywidgets/widgets/widget.py\u001b[0m in \u001b[0;36m_handle_msg\u001b[0;34m(self, msg)\u001b[0m\n\u001b[1;32m    754\u001b[0m                 \u001b[0;32mif\u001b[0m \u001b[0;34m'buffer_paths'\u001b[0m \u001b[0;32min\u001b[0m \u001b[0mdata\u001b[0m\u001b[0;34m:\u001b[0m\u001b[0;34m\u001b[0m\u001b[0;34m\u001b[0m\u001b[0m\n\u001b[1;32m    755\u001b[0m                     \u001b[0m_put_buffers\u001b[0m\u001b[0;34m(\u001b[0m\u001b[0mstate\u001b[0m\u001b[0;34m,\u001b[0m \u001b[0mdata\u001b[0m\u001b[0;34m[\u001b[0m\u001b[0;34m'buffer_paths'\u001b[0m\u001b[0;34m]\u001b[0m\u001b[0;34m,\u001b[0m \u001b[0mmsg\u001b[0m\u001b[0;34m[\u001b[0m\u001b[0;34m'buffers'\u001b[0m\u001b[0;34m]\u001b[0m\u001b[0;34m)\u001b[0m\u001b[0;34m\u001b[0m\u001b[0;34m\u001b[0m\u001b[0m\n\u001b[0;32m--> 756\u001b[0;31m                 \u001b[0mself\u001b[0m\u001b[0;34m.\u001b[0m\u001b[0mset_state\u001b[0m\u001b[0;34m(\u001b[0m\u001b[0mstate\u001b[0m\u001b[0;34m)\u001b[0m\u001b[0;34m\u001b[0m\u001b[0;34m\u001b[0m\u001b[0m\n\u001b[0m\u001b[1;32m    757\u001b[0m \u001b[0;34m\u001b[0m\u001b[0m\n\u001b[1;32m    758\u001b[0m         \u001b[0;31m# Handle a state request.\u001b[0m\u001b[0;34m\u001b[0m\u001b[0;34m\u001b[0m\u001b[0m\n",
            "\u001b[0;32m/usr/local/lib/python3.10/dist-packages/ipywidgets/widgets/widget.py\u001b[0m in \u001b[0;36mset_state\u001b[0;34m(self, sync_data)\u001b[0m\n\u001b[1;32m    623\u001b[0m                     from_json = self.trait_metadata(name, 'from_json',\n\u001b[1;32m    624\u001b[0m                                                     self._trait_from_json)\n\u001b[0;32m--> 625\u001b[0;31m                     \u001b[0mself\u001b[0m\u001b[0;34m.\u001b[0m\u001b[0mset_trait\u001b[0m\u001b[0;34m(\u001b[0m\u001b[0mname\u001b[0m\u001b[0;34m,\u001b[0m \u001b[0mfrom_json\u001b[0m\u001b[0;34m(\u001b[0m\u001b[0msync_data\u001b[0m\u001b[0;34m[\u001b[0m\u001b[0mname\u001b[0m\u001b[0;34m]\u001b[0m\u001b[0;34m,\u001b[0m \u001b[0mself\u001b[0m\u001b[0;34m)\u001b[0m\u001b[0;34m)\u001b[0m\u001b[0;34m\u001b[0m\u001b[0;34m\u001b[0m\u001b[0m\n\u001b[0m\u001b[1;32m    626\u001b[0m \u001b[0;34m\u001b[0m\u001b[0m\n\u001b[1;32m    627\u001b[0m     \u001b[0;32mdef\u001b[0m \u001b[0msend\u001b[0m\u001b[0;34m(\u001b[0m\u001b[0mself\u001b[0m\u001b[0;34m,\u001b[0m \u001b[0mcontent\u001b[0m\u001b[0;34m,\u001b[0m \u001b[0mbuffers\u001b[0m\u001b[0;34m=\u001b[0m\u001b[0;32mNone\u001b[0m\u001b[0;34m)\u001b[0m\u001b[0;34m:\u001b[0m\u001b[0;34m\u001b[0m\u001b[0;34m\u001b[0m\u001b[0m\n",
            "\u001b[0;32m/usr/local/lib/python3.10/dist-packages/traitlets/traitlets.py\u001b[0m in \u001b[0;36mset_trait\u001b[0;34m(self, name, value)\u001b[0m\n\u001b[1;32m   1736\u001b[0m             \u001b[0;32mraise\u001b[0m \u001b[0mTraitError\u001b[0m\u001b[0;34m(\u001b[0m\u001b[0;34mf\"Class {cls.__name__} does not have a trait named {name}\"\u001b[0m\u001b[0;34m)\u001b[0m\u001b[0;34m\u001b[0m\u001b[0;34m\u001b[0m\u001b[0m\n\u001b[1;32m   1737\u001b[0m         \u001b[0;32melse\u001b[0m\u001b[0;34m:\u001b[0m\u001b[0;34m\u001b[0m\u001b[0;34m\u001b[0m\u001b[0m\n\u001b[0;32m-> 1738\u001b[0;31m             \u001b[0mgetattr\u001b[0m\u001b[0;34m(\u001b[0m\u001b[0mcls\u001b[0m\u001b[0;34m,\u001b[0m \u001b[0mname\u001b[0m\u001b[0;34m)\u001b[0m\u001b[0;34m.\u001b[0m\u001b[0mset\u001b[0m\u001b[0;34m(\u001b[0m\u001b[0mself\u001b[0m\u001b[0;34m,\u001b[0m \u001b[0mvalue\u001b[0m\u001b[0;34m)\u001b[0m\u001b[0;34m\u001b[0m\u001b[0;34m\u001b[0m\u001b[0m\n\u001b[0m\u001b[1;32m   1739\u001b[0m \u001b[0;34m\u001b[0m\u001b[0m\n\u001b[1;32m   1740\u001b[0m     \u001b[0;34m@\u001b[0m\u001b[0mclassmethod\u001b[0m\u001b[0;34m\u001b[0m\u001b[0;34m\u001b[0m\u001b[0m\n",
            "\u001b[0;32m/usr/local/lib/python3.10/dist-packages/traitlets/traitlets.py\u001b[0m in \u001b[0;36mset\u001b[0;34m(self, obj, value)\u001b[0m\n\u001b[1;32m    701\u001b[0m \u001b[0;34m\u001b[0m\u001b[0m\n\u001b[1;32m    702\u001b[0m     \u001b[0;32mdef\u001b[0m \u001b[0mset\u001b[0m\u001b[0;34m(\u001b[0m\u001b[0mself\u001b[0m\u001b[0;34m,\u001b[0m \u001b[0mobj\u001b[0m\u001b[0;34m,\u001b[0m \u001b[0mvalue\u001b[0m\u001b[0;34m)\u001b[0m\u001b[0;34m:\u001b[0m\u001b[0;34m\u001b[0m\u001b[0;34m\u001b[0m\u001b[0m\n\u001b[0;32m--> 703\u001b[0;31m         \u001b[0mnew_value\u001b[0m \u001b[0;34m=\u001b[0m \u001b[0mself\u001b[0m\u001b[0;34m.\u001b[0m\u001b[0m_validate\u001b[0m\u001b[0;34m(\u001b[0m\u001b[0mobj\u001b[0m\u001b[0;34m,\u001b[0m \u001b[0mvalue\u001b[0m\u001b[0;34m)\u001b[0m\u001b[0;34m\u001b[0m\u001b[0;34m\u001b[0m\u001b[0m\n\u001b[0m\u001b[1;32m    704\u001b[0m         \u001b[0;32mtry\u001b[0m\u001b[0;34m:\u001b[0m\u001b[0;34m\u001b[0m\u001b[0;34m\u001b[0m\u001b[0m\n\u001b[1;32m    705\u001b[0m             \u001b[0mold_value\u001b[0m \u001b[0;34m=\u001b[0m \u001b[0mobj\u001b[0m\u001b[0;34m.\u001b[0m\u001b[0m_trait_values\u001b[0m\u001b[0;34m[\u001b[0m\u001b[0mself\u001b[0m\u001b[0;34m.\u001b[0m\u001b[0mname\u001b[0m\u001b[0;34m]\u001b[0m\u001b[0;34m\u001b[0m\u001b[0;34m\u001b[0m\u001b[0m\n",
            "\u001b[0;32m/usr/local/lib/python3.10/dist-packages/traitlets/traitlets.py\u001b[0m in \u001b[0;36m_validate\u001b[0;34m(self, obj, value)\u001b[0m\n\u001b[1;32m    733\u001b[0m             \u001b[0;32mreturn\u001b[0m \u001b[0mvalue\u001b[0m\u001b[0;34m\u001b[0m\u001b[0;34m\u001b[0m\u001b[0m\n\u001b[1;32m    734\u001b[0m         \u001b[0;32mif\u001b[0m \u001b[0mhasattr\u001b[0m\u001b[0;34m(\u001b[0m\u001b[0mself\u001b[0m\u001b[0;34m,\u001b[0m \u001b[0;34m\"validate\"\u001b[0m\u001b[0;34m)\u001b[0m\u001b[0;34m:\u001b[0m\u001b[0;34m\u001b[0m\u001b[0;34m\u001b[0m\u001b[0m\n\u001b[0;32m--> 735\u001b[0;31m             \u001b[0mvalue\u001b[0m \u001b[0;34m=\u001b[0m \u001b[0mself\u001b[0m\u001b[0;34m.\u001b[0m\u001b[0mvalidate\u001b[0m\u001b[0;34m(\u001b[0m\u001b[0mobj\u001b[0m\u001b[0;34m,\u001b[0m \u001b[0mvalue\u001b[0m\u001b[0;34m)\u001b[0m\u001b[0;34m\u001b[0m\u001b[0;34m\u001b[0m\u001b[0m\n\u001b[0m\u001b[1;32m    736\u001b[0m         \u001b[0;32mif\u001b[0m \u001b[0mobj\u001b[0m\u001b[0;34m.\u001b[0m\u001b[0m_cross_validation_lock\u001b[0m \u001b[0;32mis\u001b[0m \u001b[0;32mFalse\u001b[0m\u001b[0;34m:\u001b[0m\u001b[0;34m\u001b[0m\u001b[0;34m\u001b[0m\u001b[0m\n\u001b[1;32m    737\u001b[0m             \u001b[0mvalue\u001b[0m \u001b[0;34m=\u001b[0m \u001b[0mself\u001b[0m\u001b[0;34m.\u001b[0m\u001b[0m_cross_validate\u001b[0m\u001b[0;34m(\u001b[0m\u001b[0mobj\u001b[0m\u001b[0;34m,\u001b[0m \u001b[0mvalue\u001b[0m\u001b[0;34m)\u001b[0m\u001b[0;34m\u001b[0m\u001b[0;34m\u001b[0m\u001b[0m\n",
            "\u001b[0;32m/usr/local/lib/python3.10/dist-packages/traitlets/traitlets.py\u001b[0m in \u001b[0;36mvalidate\u001b[0;34m(self, obj, value)\u001b[0m\n\u001b[1;32m   2300\u001b[0m                 \u001b[0;32mexcept\u001b[0m \u001b[0mTraitError\u001b[0m\u001b[0;34m:\u001b[0m\u001b[0;34m\u001b[0m\u001b[0;34m\u001b[0m\u001b[0m\n\u001b[1;32m   2301\u001b[0m                     \u001b[0;32mcontinue\u001b[0m\u001b[0;34m\u001b[0m\u001b[0;34m\u001b[0m\u001b[0m\n\u001b[0;32m-> 2302\u001b[0;31m         \u001b[0mself\u001b[0m\u001b[0;34m.\u001b[0m\u001b[0merror\u001b[0m\u001b[0;34m(\u001b[0m\u001b[0mobj\u001b[0m\u001b[0;34m,\u001b[0m \u001b[0mvalue\u001b[0m\u001b[0;34m)\u001b[0m\u001b[0;34m\u001b[0m\u001b[0;34m\u001b[0m\u001b[0m\n\u001b[0m\u001b[1;32m   2303\u001b[0m \u001b[0;34m\u001b[0m\u001b[0m\n\u001b[1;32m   2304\u001b[0m     \u001b[0;32mdef\u001b[0m \u001b[0m__or__\u001b[0m\u001b[0;34m(\u001b[0m\u001b[0mself\u001b[0m\u001b[0;34m,\u001b[0m \u001b[0mother\u001b[0m\u001b[0;34m)\u001b[0m\u001b[0;34m:\u001b[0m\u001b[0;34m\u001b[0m\u001b[0;34m\u001b[0m\u001b[0m\n",
            "\u001b[0;32m/usr/local/lib/python3.10/dist-packages/traitlets/traitlets.py\u001b[0m in \u001b[0;36merror\u001b[0;34m(self, obj, value, error, info)\u001b[0m\n\u001b[1;32m    839\u001b[0m                         \u001b[0mdescribe\u001b[0m\u001b[0;34m(\u001b[0m\u001b[0;34m\"the\"\u001b[0m\u001b[0;34m,\u001b[0m \u001b[0mvalue\u001b[0m\u001b[0;34m)\u001b[0m\u001b[0;34m,\u001b[0m\u001b[0;34m\u001b[0m\u001b[0;34m\u001b[0m\u001b[0m\n\u001b[1;32m    840\u001b[0m                     )\n\u001b[0;32m--> 841\u001b[0;31m                 \u001b[0;32mraise\u001b[0m \u001b[0mTraitError\u001b[0m\u001b[0;34m(\u001b[0m\u001b[0me\u001b[0m\u001b[0;34m)\u001b[0m\u001b[0;34m\u001b[0m\u001b[0;34m\u001b[0m\u001b[0m\n\u001b[0m\u001b[1;32m    842\u001b[0m \u001b[0;34m\u001b[0m\u001b[0m\n\u001b[1;32m    843\u001b[0m     \u001b[0;32mdef\u001b[0m \u001b[0mget_metadata\u001b[0m\u001b[0;34m(\u001b[0m\u001b[0mself\u001b[0m\u001b[0;34m,\u001b[0m \u001b[0mkey\u001b[0m\u001b[0;34m,\u001b[0m \u001b[0mdefault\u001b[0m\u001b[0;34m=\u001b[0m\u001b[0;32mNone\u001b[0m\u001b[0;34m)\u001b[0m\u001b[0;34m:\u001b[0m\u001b[0;34m\u001b[0m\u001b[0;34m\u001b[0m\u001b[0m\n",
            "\u001b[0;31mTraitError\u001b[0m: The 'target' trait of a DirectionalLight instance expected an Uninitialized or an Object3D, not the str 'IPY_MODEL_070d5f4f-e51c-4430-bd1d-b91f6b803198'."
          ]
        },
        {
          "output_type": "error",
          "ename": "TraitError",
          "evalue": "The 'target' trait of a DirectionalLight instance expected an Uninitialized or an Object3D, not the str 'IPY_MODEL_7bdc2c8f-3833-4324-940a-4451b46a865a'.",
          "traceback": [
            "\u001b[0;31m---------------------------------------------------------------------------\u001b[0m",
            "\u001b[0;31mTraitError\u001b[0m                                Traceback (most recent call last)",
            "\u001b[0;32m/usr/local/lib/python3.10/dist-packages/ipywidgets/widgets/widget.py\u001b[0m in \u001b[0;36m_handle_msg\u001b[0;34m(self, msg)\u001b[0m\n\u001b[1;32m    754\u001b[0m                 \u001b[0;32mif\u001b[0m \u001b[0;34m'buffer_paths'\u001b[0m \u001b[0;32min\u001b[0m \u001b[0mdata\u001b[0m\u001b[0;34m:\u001b[0m\u001b[0;34m\u001b[0m\u001b[0;34m\u001b[0m\u001b[0m\n\u001b[1;32m    755\u001b[0m                     \u001b[0m_put_buffers\u001b[0m\u001b[0;34m(\u001b[0m\u001b[0mstate\u001b[0m\u001b[0;34m,\u001b[0m \u001b[0mdata\u001b[0m\u001b[0;34m[\u001b[0m\u001b[0;34m'buffer_paths'\u001b[0m\u001b[0;34m]\u001b[0m\u001b[0;34m,\u001b[0m \u001b[0mmsg\u001b[0m\u001b[0;34m[\u001b[0m\u001b[0;34m'buffers'\u001b[0m\u001b[0;34m]\u001b[0m\u001b[0;34m)\u001b[0m\u001b[0;34m\u001b[0m\u001b[0;34m\u001b[0m\u001b[0m\n\u001b[0;32m--> 756\u001b[0;31m                 \u001b[0mself\u001b[0m\u001b[0;34m.\u001b[0m\u001b[0mset_state\u001b[0m\u001b[0;34m(\u001b[0m\u001b[0mstate\u001b[0m\u001b[0;34m)\u001b[0m\u001b[0;34m\u001b[0m\u001b[0;34m\u001b[0m\u001b[0m\n\u001b[0m\u001b[1;32m    757\u001b[0m \u001b[0;34m\u001b[0m\u001b[0m\n\u001b[1;32m    758\u001b[0m         \u001b[0;31m# Handle a state request.\u001b[0m\u001b[0;34m\u001b[0m\u001b[0;34m\u001b[0m\u001b[0m\n",
            "\u001b[0;32m/usr/local/lib/python3.10/dist-packages/ipywidgets/widgets/widget.py\u001b[0m in \u001b[0;36mset_state\u001b[0;34m(self, sync_data)\u001b[0m\n\u001b[1;32m    623\u001b[0m                     from_json = self.trait_metadata(name, 'from_json',\n\u001b[1;32m    624\u001b[0m                                                     self._trait_from_json)\n\u001b[0;32m--> 625\u001b[0;31m                     \u001b[0mself\u001b[0m\u001b[0;34m.\u001b[0m\u001b[0mset_trait\u001b[0m\u001b[0;34m(\u001b[0m\u001b[0mname\u001b[0m\u001b[0;34m,\u001b[0m \u001b[0mfrom_json\u001b[0m\u001b[0;34m(\u001b[0m\u001b[0msync_data\u001b[0m\u001b[0;34m[\u001b[0m\u001b[0mname\u001b[0m\u001b[0;34m]\u001b[0m\u001b[0;34m,\u001b[0m \u001b[0mself\u001b[0m\u001b[0;34m)\u001b[0m\u001b[0;34m)\u001b[0m\u001b[0;34m\u001b[0m\u001b[0;34m\u001b[0m\u001b[0m\n\u001b[0m\u001b[1;32m    626\u001b[0m \u001b[0;34m\u001b[0m\u001b[0m\n\u001b[1;32m    627\u001b[0m     \u001b[0;32mdef\u001b[0m \u001b[0msend\u001b[0m\u001b[0;34m(\u001b[0m\u001b[0mself\u001b[0m\u001b[0;34m,\u001b[0m \u001b[0mcontent\u001b[0m\u001b[0;34m,\u001b[0m \u001b[0mbuffers\u001b[0m\u001b[0;34m=\u001b[0m\u001b[0;32mNone\u001b[0m\u001b[0;34m)\u001b[0m\u001b[0;34m:\u001b[0m\u001b[0;34m\u001b[0m\u001b[0;34m\u001b[0m\u001b[0m\n",
            "\u001b[0;32m/usr/local/lib/python3.10/dist-packages/traitlets/traitlets.py\u001b[0m in \u001b[0;36mset_trait\u001b[0;34m(self, name, value)\u001b[0m\n\u001b[1;32m   1736\u001b[0m             \u001b[0;32mraise\u001b[0m \u001b[0mTraitError\u001b[0m\u001b[0;34m(\u001b[0m\u001b[0;34mf\"Class {cls.__name__} does not have a trait named {name}\"\u001b[0m\u001b[0;34m)\u001b[0m\u001b[0;34m\u001b[0m\u001b[0;34m\u001b[0m\u001b[0m\n\u001b[1;32m   1737\u001b[0m         \u001b[0;32melse\u001b[0m\u001b[0;34m:\u001b[0m\u001b[0;34m\u001b[0m\u001b[0;34m\u001b[0m\u001b[0m\n\u001b[0;32m-> 1738\u001b[0;31m             \u001b[0mgetattr\u001b[0m\u001b[0;34m(\u001b[0m\u001b[0mcls\u001b[0m\u001b[0;34m,\u001b[0m \u001b[0mname\u001b[0m\u001b[0;34m)\u001b[0m\u001b[0;34m.\u001b[0m\u001b[0mset\u001b[0m\u001b[0;34m(\u001b[0m\u001b[0mself\u001b[0m\u001b[0;34m,\u001b[0m \u001b[0mvalue\u001b[0m\u001b[0;34m)\u001b[0m\u001b[0;34m\u001b[0m\u001b[0;34m\u001b[0m\u001b[0m\n\u001b[0m\u001b[1;32m   1739\u001b[0m \u001b[0;34m\u001b[0m\u001b[0m\n\u001b[1;32m   1740\u001b[0m     \u001b[0;34m@\u001b[0m\u001b[0mclassmethod\u001b[0m\u001b[0;34m\u001b[0m\u001b[0;34m\u001b[0m\u001b[0m\n",
            "\u001b[0;32m/usr/local/lib/python3.10/dist-packages/traitlets/traitlets.py\u001b[0m in \u001b[0;36mset\u001b[0;34m(self, obj, value)\u001b[0m\n\u001b[1;32m    701\u001b[0m \u001b[0;34m\u001b[0m\u001b[0m\n\u001b[1;32m    702\u001b[0m     \u001b[0;32mdef\u001b[0m \u001b[0mset\u001b[0m\u001b[0;34m(\u001b[0m\u001b[0mself\u001b[0m\u001b[0;34m,\u001b[0m \u001b[0mobj\u001b[0m\u001b[0;34m,\u001b[0m \u001b[0mvalue\u001b[0m\u001b[0;34m)\u001b[0m\u001b[0;34m:\u001b[0m\u001b[0;34m\u001b[0m\u001b[0;34m\u001b[0m\u001b[0m\n\u001b[0;32m--> 703\u001b[0;31m         \u001b[0mnew_value\u001b[0m \u001b[0;34m=\u001b[0m \u001b[0mself\u001b[0m\u001b[0;34m.\u001b[0m\u001b[0m_validate\u001b[0m\u001b[0;34m(\u001b[0m\u001b[0mobj\u001b[0m\u001b[0;34m,\u001b[0m \u001b[0mvalue\u001b[0m\u001b[0;34m)\u001b[0m\u001b[0;34m\u001b[0m\u001b[0;34m\u001b[0m\u001b[0m\n\u001b[0m\u001b[1;32m    704\u001b[0m         \u001b[0;32mtry\u001b[0m\u001b[0;34m:\u001b[0m\u001b[0;34m\u001b[0m\u001b[0;34m\u001b[0m\u001b[0m\n\u001b[1;32m    705\u001b[0m             \u001b[0mold_value\u001b[0m \u001b[0;34m=\u001b[0m \u001b[0mobj\u001b[0m\u001b[0;34m.\u001b[0m\u001b[0m_trait_values\u001b[0m\u001b[0;34m[\u001b[0m\u001b[0mself\u001b[0m\u001b[0;34m.\u001b[0m\u001b[0mname\u001b[0m\u001b[0;34m]\u001b[0m\u001b[0;34m\u001b[0m\u001b[0;34m\u001b[0m\u001b[0m\n",
            "\u001b[0;32m/usr/local/lib/python3.10/dist-packages/traitlets/traitlets.py\u001b[0m in \u001b[0;36m_validate\u001b[0;34m(self, obj, value)\u001b[0m\n\u001b[1;32m    733\u001b[0m             \u001b[0;32mreturn\u001b[0m \u001b[0mvalue\u001b[0m\u001b[0;34m\u001b[0m\u001b[0;34m\u001b[0m\u001b[0m\n\u001b[1;32m    734\u001b[0m         \u001b[0;32mif\u001b[0m \u001b[0mhasattr\u001b[0m\u001b[0;34m(\u001b[0m\u001b[0mself\u001b[0m\u001b[0;34m,\u001b[0m \u001b[0;34m\"validate\"\u001b[0m\u001b[0;34m)\u001b[0m\u001b[0;34m:\u001b[0m\u001b[0;34m\u001b[0m\u001b[0;34m\u001b[0m\u001b[0m\n\u001b[0;32m--> 735\u001b[0;31m             \u001b[0mvalue\u001b[0m \u001b[0;34m=\u001b[0m \u001b[0mself\u001b[0m\u001b[0;34m.\u001b[0m\u001b[0mvalidate\u001b[0m\u001b[0;34m(\u001b[0m\u001b[0mobj\u001b[0m\u001b[0;34m,\u001b[0m \u001b[0mvalue\u001b[0m\u001b[0;34m)\u001b[0m\u001b[0;34m\u001b[0m\u001b[0;34m\u001b[0m\u001b[0m\n\u001b[0m\u001b[1;32m    736\u001b[0m         \u001b[0;32mif\u001b[0m \u001b[0mobj\u001b[0m\u001b[0;34m.\u001b[0m\u001b[0m_cross_validation_lock\u001b[0m \u001b[0;32mis\u001b[0m \u001b[0;32mFalse\u001b[0m\u001b[0;34m:\u001b[0m\u001b[0;34m\u001b[0m\u001b[0;34m\u001b[0m\u001b[0m\n\u001b[1;32m    737\u001b[0m             \u001b[0mvalue\u001b[0m \u001b[0;34m=\u001b[0m \u001b[0mself\u001b[0m\u001b[0;34m.\u001b[0m\u001b[0m_cross_validate\u001b[0m\u001b[0;34m(\u001b[0m\u001b[0mobj\u001b[0m\u001b[0;34m,\u001b[0m \u001b[0mvalue\u001b[0m\u001b[0;34m)\u001b[0m\u001b[0;34m\u001b[0m\u001b[0;34m\u001b[0m\u001b[0m\n",
            "\u001b[0;32m/usr/local/lib/python3.10/dist-packages/traitlets/traitlets.py\u001b[0m in \u001b[0;36mvalidate\u001b[0;34m(self, obj, value)\u001b[0m\n\u001b[1;32m   2300\u001b[0m                 \u001b[0;32mexcept\u001b[0m \u001b[0mTraitError\u001b[0m\u001b[0;34m:\u001b[0m\u001b[0;34m\u001b[0m\u001b[0;34m\u001b[0m\u001b[0m\n\u001b[1;32m   2301\u001b[0m                     \u001b[0;32mcontinue\u001b[0m\u001b[0;34m\u001b[0m\u001b[0;34m\u001b[0m\u001b[0m\n\u001b[0;32m-> 2302\u001b[0;31m         \u001b[0mself\u001b[0m\u001b[0;34m.\u001b[0m\u001b[0merror\u001b[0m\u001b[0;34m(\u001b[0m\u001b[0mobj\u001b[0m\u001b[0;34m,\u001b[0m \u001b[0mvalue\u001b[0m\u001b[0;34m)\u001b[0m\u001b[0;34m\u001b[0m\u001b[0;34m\u001b[0m\u001b[0m\n\u001b[0m\u001b[1;32m   2303\u001b[0m \u001b[0;34m\u001b[0m\u001b[0m\n\u001b[1;32m   2304\u001b[0m     \u001b[0;32mdef\u001b[0m \u001b[0m__or__\u001b[0m\u001b[0;34m(\u001b[0m\u001b[0mself\u001b[0m\u001b[0;34m,\u001b[0m \u001b[0mother\u001b[0m\u001b[0;34m)\u001b[0m\u001b[0;34m:\u001b[0m\u001b[0;34m\u001b[0m\u001b[0;34m\u001b[0m\u001b[0m\n",
            "\u001b[0;32m/usr/local/lib/python3.10/dist-packages/traitlets/traitlets.py\u001b[0m in \u001b[0;36merror\u001b[0;34m(self, obj, value, error, info)\u001b[0m\n\u001b[1;32m    839\u001b[0m                         \u001b[0mdescribe\u001b[0m\u001b[0;34m(\u001b[0m\u001b[0;34m\"the\"\u001b[0m\u001b[0;34m,\u001b[0m \u001b[0mvalue\u001b[0m\u001b[0;34m)\u001b[0m\u001b[0;34m,\u001b[0m\u001b[0;34m\u001b[0m\u001b[0;34m\u001b[0m\u001b[0m\n\u001b[1;32m    840\u001b[0m                     )\n\u001b[0;32m--> 841\u001b[0;31m                 \u001b[0;32mraise\u001b[0m \u001b[0mTraitError\u001b[0m\u001b[0;34m(\u001b[0m\u001b[0me\u001b[0m\u001b[0;34m)\u001b[0m\u001b[0;34m\u001b[0m\u001b[0;34m\u001b[0m\u001b[0m\n\u001b[0m\u001b[1;32m    842\u001b[0m \u001b[0;34m\u001b[0m\u001b[0m\n\u001b[1;32m    843\u001b[0m     \u001b[0;32mdef\u001b[0m \u001b[0mget_metadata\u001b[0m\u001b[0;34m(\u001b[0m\u001b[0mself\u001b[0m\u001b[0;34m,\u001b[0m \u001b[0mkey\u001b[0m\u001b[0;34m,\u001b[0m \u001b[0mdefault\u001b[0m\u001b[0;34m=\u001b[0m\u001b[0;32mNone\u001b[0m\u001b[0;34m)\u001b[0m\u001b[0;34m:\u001b[0m\u001b[0;34m\u001b[0m\u001b[0;34m\u001b[0m\u001b[0m\n",
            "\u001b[0;31mTraitError\u001b[0m: The 'target' trait of a DirectionalLight instance expected an Uninitialized or an Object3D, not the str 'IPY_MODEL_7bdc2c8f-3833-4324-940a-4451b46a865a'."
          ]
        },
        {
          "output_type": "error",
          "ename": "TraitError",
          "evalue": "The 'target' trait of a DirectionalLight instance expected an Uninitialized or an Object3D, not the str 'IPY_MODEL_9e2965c6-44f8-402f-a6a1-9f0a540ff8b4'.",
          "traceback": [
            "\u001b[0;31m---------------------------------------------------------------------------\u001b[0m",
            "\u001b[0;31mTraitError\u001b[0m                                Traceback (most recent call last)",
            "\u001b[0;32m/usr/local/lib/python3.10/dist-packages/ipywidgets/widgets/widget.py\u001b[0m in \u001b[0;36m_handle_msg\u001b[0;34m(self, msg)\u001b[0m\n\u001b[1;32m    754\u001b[0m                 \u001b[0;32mif\u001b[0m \u001b[0;34m'buffer_paths'\u001b[0m \u001b[0;32min\u001b[0m \u001b[0mdata\u001b[0m\u001b[0;34m:\u001b[0m\u001b[0;34m\u001b[0m\u001b[0;34m\u001b[0m\u001b[0m\n\u001b[1;32m    755\u001b[0m                     \u001b[0m_put_buffers\u001b[0m\u001b[0;34m(\u001b[0m\u001b[0mstate\u001b[0m\u001b[0;34m,\u001b[0m \u001b[0mdata\u001b[0m\u001b[0;34m[\u001b[0m\u001b[0;34m'buffer_paths'\u001b[0m\u001b[0;34m]\u001b[0m\u001b[0;34m,\u001b[0m \u001b[0mmsg\u001b[0m\u001b[0;34m[\u001b[0m\u001b[0;34m'buffers'\u001b[0m\u001b[0;34m]\u001b[0m\u001b[0;34m)\u001b[0m\u001b[0;34m\u001b[0m\u001b[0;34m\u001b[0m\u001b[0m\n\u001b[0;32m--> 756\u001b[0;31m                 \u001b[0mself\u001b[0m\u001b[0;34m.\u001b[0m\u001b[0mset_state\u001b[0m\u001b[0;34m(\u001b[0m\u001b[0mstate\u001b[0m\u001b[0;34m)\u001b[0m\u001b[0;34m\u001b[0m\u001b[0;34m\u001b[0m\u001b[0m\n\u001b[0m\u001b[1;32m    757\u001b[0m \u001b[0;34m\u001b[0m\u001b[0m\n\u001b[1;32m    758\u001b[0m         \u001b[0;31m# Handle a state request.\u001b[0m\u001b[0;34m\u001b[0m\u001b[0;34m\u001b[0m\u001b[0m\n",
            "\u001b[0;32m/usr/local/lib/python3.10/dist-packages/ipywidgets/widgets/widget.py\u001b[0m in \u001b[0;36mset_state\u001b[0;34m(self, sync_data)\u001b[0m\n\u001b[1;32m    623\u001b[0m                     from_json = self.trait_metadata(name, 'from_json',\n\u001b[1;32m    624\u001b[0m                                                     self._trait_from_json)\n\u001b[0;32m--> 625\u001b[0;31m                     \u001b[0mself\u001b[0m\u001b[0;34m.\u001b[0m\u001b[0mset_trait\u001b[0m\u001b[0;34m(\u001b[0m\u001b[0mname\u001b[0m\u001b[0;34m,\u001b[0m \u001b[0mfrom_json\u001b[0m\u001b[0;34m(\u001b[0m\u001b[0msync_data\u001b[0m\u001b[0;34m[\u001b[0m\u001b[0mname\u001b[0m\u001b[0;34m]\u001b[0m\u001b[0;34m,\u001b[0m \u001b[0mself\u001b[0m\u001b[0;34m)\u001b[0m\u001b[0;34m)\u001b[0m\u001b[0;34m\u001b[0m\u001b[0;34m\u001b[0m\u001b[0m\n\u001b[0m\u001b[1;32m    626\u001b[0m \u001b[0;34m\u001b[0m\u001b[0m\n\u001b[1;32m    627\u001b[0m     \u001b[0;32mdef\u001b[0m \u001b[0msend\u001b[0m\u001b[0;34m(\u001b[0m\u001b[0mself\u001b[0m\u001b[0;34m,\u001b[0m \u001b[0mcontent\u001b[0m\u001b[0;34m,\u001b[0m \u001b[0mbuffers\u001b[0m\u001b[0;34m=\u001b[0m\u001b[0;32mNone\u001b[0m\u001b[0;34m)\u001b[0m\u001b[0;34m:\u001b[0m\u001b[0;34m\u001b[0m\u001b[0;34m\u001b[0m\u001b[0m\n",
            "\u001b[0;32m/usr/local/lib/python3.10/dist-packages/traitlets/traitlets.py\u001b[0m in \u001b[0;36mset_trait\u001b[0;34m(self, name, value)\u001b[0m\n\u001b[1;32m   1736\u001b[0m             \u001b[0;32mraise\u001b[0m \u001b[0mTraitError\u001b[0m\u001b[0;34m(\u001b[0m\u001b[0;34mf\"Class {cls.__name__} does not have a trait named {name}\"\u001b[0m\u001b[0;34m)\u001b[0m\u001b[0;34m\u001b[0m\u001b[0;34m\u001b[0m\u001b[0m\n\u001b[1;32m   1737\u001b[0m         \u001b[0;32melse\u001b[0m\u001b[0;34m:\u001b[0m\u001b[0;34m\u001b[0m\u001b[0;34m\u001b[0m\u001b[0m\n\u001b[0;32m-> 1738\u001b[0;31m             \u001b[0mgetattr\u001b[0m\u001b[0;34m(\u001b[0m\u001b[0mcls\u001b[0m\u001b[0;34m,\u001b[0m \u001b[0mname\u001b[0m\u001b[0;34m)\u001b[0m\u001b[0;34m.\u001b[0m\u001b[0mset\u001b[0m\u001b[0;34m(\u001b[0m\u001b[0mself\u001b[0m\u001b[0;34m,\u001b[0m \u001b[0mvalue\u001b[0m\u001b[0;34m)\u001b[0m\u001b[0;34m\u001b[0m\u001b[0;34m\u001b[0m\u001b[0m\n\u001b[0m\u001b[1;32m   1739\u001b[0m \u001b[0;34m\u001b[0m\u001b[0m\n\u001b[1;32m   1740\u001b[0m     \u001b[0;34m@\u001b[0m\u001b[0mclassmethod\u001b[0m\u001b[0;34m\u001b[0m\u001b[0;34m\u001b[0m\u001b[0m\n",
            "\u001b[0;32m/usr/local/lib/python3.10/dist-packages/traitlets/traitlets.py\u001b[0m in \u001b[0;36mset\u001b[0;34m(self, obj, value)\u001b[0m\n\u001b[1;32m    701\u001b[0m \u001b[0;34m\u001b[0m\u001b[0m\n\u001b[1;32m    702\u001b[0m     \u001b[0;32mdef\u001b[0m \u001b[0mset\u001b[0m\u001b[0;34m(\u001b[0m\u001b[0mself\u001b[0m\u001b[0;34m,\u001b[0m \u001b[0mobj\u001b[0m\u001b[0;34m,\u001b[0m \u001b[0mvalue\u001b[0m\u001b[0;34m)\u001b[0m\u001b[0;34m:\u001b[0m\u001b[0;34m\u001b[0m\u001b[0;34m\u001b[0m\u001b[0m\n\u001b[0;32m--> 703\u001b[0;31m         \u001b[0mnew_value\u001b[0m \u001b[0;34m=\u001b[0m \u001b[0mself\u001b[0m\u001b[0;34m.\u001b[0m\u001b[0m_validate\u001b[0m\u001b[0;34m(\u001b[0m\u001b[0mobj\u001b[0m\u001b[0;34m,\u001b[0m \u001b[0mvalue\u001b[0m\u001b[0;34m)\u001b[0m\u001b[0;34m\u001b[0m\u001b[0;34m\u001b[0m\u001b[0m\n\u001b[0m\u001b[1;32m    704\u001b[0m         \u001b[0;32mtry\u001b[0m\u001b[0;34m:\u001b[0m\u001b[0;34m\u001b[0m\u001b[0;34m\u001b[0m\u001b[0m\n\u001b[1;32m    705\u001b[0m             \u001b[0mold_value\u001b[0m \u001b[0;34m=\u001b[0m \u001b[0mobj\u001b[0m\u001b[0;34m.\u001b[0m\u001b[0m_trait_values\u001b[0m\u001b[0;34m[\u001b[0m\u001b[0mself\u001b[0m\u001b[0;34m.\u001b[0m\u001b[0mname\u001b[0m\u001b[0;34m]\u001b[0m\u001b[0;34m\u001b[0m\u001b[0;34m\u001b[0m\u001b[0m\n",
            "\u001b[0;32m/usr/local/lib/python3.10/dist-packages/traitlets/traitlets.py\u001b[0m in \u001b[0;36m_validate\u001b[0;34m(self, obj, value)\u001b[0m\n\u001b[1;32m    733\u001b[0m             \u001b[0;32mreturn\u001b[0m \u001b[0mvalue\u001b[0m\u001b[0;34m\u001b[0m\u001b[0;34m\u001b[0m\u001b[0m\n\u001b[1;32m    734\u001b[0m         \u001b[0;32mif\u001b[0m \u001b[0mhasattr\u001b[0m\u001b[0;34m(\u001b[0m\u001b[0mself\u001b[0m\u001b[0;34m,\u001b[0m \u001b[0;34m\"validate\"\u001b[0m\u001b[0;34m)\u001b[0m\u001b[0;34m:\u001b[0m\u001b[0;34m\u001b[0m\u001b[0;34m\u001b[0m\u001b[0m\n\u001b[0;32m--> 735\u001b[0;31m             \u001b[0mvalue\u001b[0m \u001b[0;34m=\u001b[0m \u001b[0mself\u001b[0m\u001b[0;34m.\u001b[0m\u001b[0mvalidate\u001b[0m\u001b[0;34m(\u001b[0m\u001b[0mobj\u001b[0m\u001b[0;34m,\u001b[0m \u001b[0mvalue\u001b[0m\u001b[0;34m)\u001b[0m\u001b[0;34m\u001b[0m\u001b[0;34m\u001b[0m\u001b[0m\n\u001b[0m\u001b[1;32m    736\u001b[0m         \u001b[0;32mif\u001b[0m \u001b[0mobj\u001b[0m\u001b[0;34m.\u001b[0m\u001b[0m_cross_validation_lock\u001b[0m \u001b[0;32mis\u001b[0m \u001b[0;32mFalse\u001b[0m\u001b[0;34m:\u001b[0m\u001b[0;34m\u001b[0m\u001b[0;34m\u001b[0m\u001b[0m\n\u001b[1;32m    737\u001b[0m             \u001b[0mvalue\u001b[0m \u001b[0;34m=\u001b[0m \u001b[0mself\u001b[0m\u001b[0;34m.\u001b[0m\u001b[0m_cross_validate\u001b[0m\u001b[0;34m(\u001b[0m\u001b[0mobj\u001b[0m\u001b[0;34m,\u001b[0m \u001b[0mvalue\u001b[0m\u001b[0;34m)\u001b[0m\u001b[0;34m\u001b[0m\u001b[0;34m\u001b[0m\u001b[0m\n",
            "\u001b[0;32m/usr/local/lib/python3.10/dist-packages/traitlets/traitlets.py\u001b[0m in \u001b[0;36mvalidate\u001b[0;34m(self, obj, value)\u001b[0m\n\u001b[1;32m   2300\u001b[0m                 \u001b[0;32mexcept\u001b[0m \u001b[0mTraitError\u001b[0m\u001b[0;34m:\u001b[0m\u001b[0;34m\u001b[0m\u001b[0;34m\u001b[0m\u001b[0m\n\u001b[1;32m   2301\u001b[0m                     \u001b[0;32mcontinue\u001b[0m\u001b[0;34m\u001b[0m\u001b[0;34m\u001b[0m\u001b[0m\n\u001b[0;32m-> 2302\u001b[0;31m         \u001b[0mself\u001b[0m\u001b[0;34m.\u001b[0m\u001b[0merror\u001b[0m\u001b[0;34m(\u001b[0m\u001b[0mobj\u001b[0m\u001b[0;34m,\u001b[0m \u001b[0mvalue\u001b[0m\u001b[0;34m)\u001b[0m\u001b[0;34m\u001b[0m\u001b[0;34m\u001b[0m\u001b[0m\n\u001b[0m\u001b[1;32m   2303\u001b[0m \u001b[0;34m\u001b[0m\u001b[0m\n\u001b[1;32m   2304\u001b[0m     \u001b[0;32mdef\u001b[0m \u001b[0m__or__\u001b[0m\u001b[0;34m(\u001b[0m\u001b[0mself\u001b[0m\u001b[0;34m,\u001b[0m \u001b[0mother\u001b[0m\u001b[0;34m)\u001b[0m\u001b[0;34m:\u001b[0m\u001b[0;34m\u001b[0m\u001b[0;34m\u001b[0m\u001b[0m\n",
            "\u001b[0;32m/usr/local/lib/python3.10/dist-packages/traitlets/traitlets.py\u001b[0m in \u001b[0;36merror\u001b[0;34m(self, obj, value, error, info)\u001b[0m\n\u001b[1;32m    839\u001b[0m                         \u001b[0mdescribe\u001b[0m\u001b[0;34m(\u001b[0m\u001b[0;34m\"the\"\u001b[0m\u001b[0;34m,\u001b[0m \u001b[0mvalue\u001b[0m\u001b[0;34m)\u001b[0m\u001b[0;34m,\u001b[0m\u001b[0;34m\u001b[0m\u001b[0;34m\u001b[0m\u001b[0m\n\u001b[1;32m    840\u001b[0m                     )\n\u001b[0;32m--> 841\u001b[0;31m                 \u001b[0;32mraise\u001b[0m \u001b[0mTraitError\u001b[0m\u001b[0;34m(\u001b[0m\u001b[0me\u001b[0m\u001b[0;34m)\u001b[0m\u001b[0;34m\u001b[0m\u001b[0;34m\u001b[0m\u001b[0m\n\u001b[0m\u001b[1;32m    842\u001b[0m \u001b[0;34m\u001b[0m\u001b[0m\n\u001b[1;32m    843\u001b[0m     \u001b[0;32mdef\u001b[0m \u001b[0mget_metadata\u001b[0m\u001b[0;34m(\u001b[0m\u001b[0mself\u001b[0m\u001b[0;34m,\u001b[0m \u001b[0mkey\u001b[0m\u001b[0;34m,\u001b[0m \u001b[0mdefault\u001b[0m\u001b[0;34m=\u001b[0m\u001b[0;32mNone\u001b[0m\u001b[0;34m)\u001b[0m\u001b[0;34m:\u001b[0m\u001b[0;34m\u001b[0m\u001b[0;34m\u001b[0m\u001b[0m\n",
            "\u001b[0;31mTraitError\u001b[0m: The 'target' trait of a DirectionalLight instance expected an Uninitialized or an Object3D, not the str 'IPY_MODEL_9e2965c6-44f8-402f-a6a1-9f0a540ff8b4'."
          ]
        }
      ]
    }
  ]
}