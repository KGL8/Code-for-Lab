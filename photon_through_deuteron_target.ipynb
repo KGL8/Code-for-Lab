{
  "cells": [
    {
      "cell_type": "code",
      "execution_count": 301,
      "metadata": {
        "colab": {
          "base_uri": "https://localhost:8080/"
        },
        "collapsed": true,
        "id": "jyGV-7YcmU9-",
        "outputId": "bb2c8926-fed8-4ca5-a5d3-b578607ee4f1"
      },
      "outputs": [],
      "source": [
        "import numpy as np\n",
        "import random\n",
        "from pythreejs import *\n",
        "from scipy.spatial.transform import Rotation\n",
        "import matplotlib.pyplot as plt\n",
        "import matplotlib.cm as cm\n",
        "import matplotlib.colors as colors"
      ]
    },
    {
      "cell_type": "markdown",
      "metadata": {},
      "source": [
        "For all, the only restrictions are that $\\text{dir}$, or $\\text{sph car}(\\theta,\\phi)$, is normalized. This can be ignored.\n",
        "\n",
        "Distance Functions:\n",
        "\n",
        "Back: $\\frac{d}{\\cos(\\phi)}$\n",
        "\n",
        "Left (+), Right (-): $\\frac{\\pm w}{2\\sin(\\phi)\\cos(\\theta)}-\\frac{o}{\\cos(\\phi)}$\n",
        "\n",
        "Top (+), Bottom (-): $\\frac{\\pm h}{2\\sin(\\phi)\\sin(\\theta)}-\\frac{o}{\\cos(\\phi)}$\n",
        "\n",
        "Their integrals, for future use:\n",
        "\n",
        "Back: $d\\ln|\\tan(\\phi)+\\sec(\\phi)|+C$\n"
      ]
    },
    {
      "cell_type": "markdown",
      "metadata": {
        "id": "P8CUREOd6Jik"
      },
      "source": [
        "# Primitive elements"
      ]
    },
    {
      "cell_type": "code",
      "execution_count": 302,
      "metadata": {
        "id": "bOZ5wbCcokTv"
      },
      "outputs": [],
      "source": [
        "# create an instance of the line segment object\n",
        "def ray(origin, direction, col):\n",
        "  return Line(geometry=BufferGeometry(attributes={'position': BufferAttribute(array=np.array([origin, np.array(direction)]), normalized=False),}),material=LineBasicMaterial(color=col))"
      ]
    },
    {
      "cell_type": "code",
      "execution_count": 303,
      "metadata": {
        "id": "30MVHGxPpK_x"
      },
      "outputs": [],
      "source": [
        "# create an instance of the box object\n",
        "def point(position, col, size):\n",
        "  return Points(geometry=BufferGeometry(attributes={\"position\": BufferAttribute(np.array([position]), normalized=False)}),\n",
        "                material=PointsMaterial(color=col, size=size, sizeAttenuation=False))"
      ]
    },
    {
      "cell_type": "code",
      "execution_count": 304,
      "metadata": {
        "id": "wuxvSWOwrnbj"
      },
      "outputs": [],
      "source": [
        "# create an instance of the box object\n",
        "def box(width, height, depth, position, col, col2, rot):\n",
        "  box_geometry = BoxBufferGeometry(width=width, height=height, depth=depth)\n",
        "\n",
        "  box_material = MeshPhysicalMaterial(color=col, transparent=True, opacity=0.5)\n",
        "  box_mesh = Mesh(geometry=box_geometry, material=box_material)\n",
        "  box_mesh.quaternion = tuple(Rotation.from_euler('xyz', rot, degrees=True).as_quat().tolist())\n",
        "  \n",
        "  wireframe_material = LineBasicMaterial(color=col2)\n",
        "  wireframe = WireframeGeometry(box_geometry)\n",
        "  wireframe_mesh = LineSegments(wireframe, wireframe_material)\n",
        "  wireframe_mesh.quaternion = tuple(Rotation.from_euler('xyz', rot, degrees=True).as_quat().tolist())\n",
        "\n",
        "  box_group = Group(children=[box_mesh, wireframe_mesh])\n",
        "  box_group.position = position\n",
        "\n",
        "  return box_group"
      ]
    },
    {
      "cell_type": "markdown",
      "metadata": {
        "id": "wwjwBCq56UF-"
      },
      "source": [
        "# Helper fuctions"
      ]
    },
    {
      "cell_type": "code",
      "execution_count": 305,
      "metadata": {
        "id": "I1CsYIFaEuHv"
      },
      "outputs": [],
      "source": [
        "# takes two numpy arrays\n",
        "def angle_between_vectors(a, b):\n",
        "    return np.arccos(np.dot(a, b) / (np.linalg.norm(a) * np.linalg.norm(b)))"
      ]
    },
    {
      "cell_type": "code",
      "execution_count": 306,
      "metadata": {
        "id": "fHRuL0MSrRF6"
      },
      "outputs": [],
      "source": [
        "# spherical to cartesian\n",
        "def sph_car(theta, phi, r=1):\n",
        "  x = r * np.sin(phi) * np.cos(theta)\n",
        "  y = r * np.sin(phi) * np.sin(theta)\n",
        "  z = r * np.cos(phi)\n",
        "  return np.array([x, y, z])"
      ]
    },
    {
      "cell_type": "code",
      "execution_count": 307,
      "metadata": {},
      "outputs": [],
      "source": [
        "def car_sph(x, y, z):\n",
        "    r = np.sqrt(x**2 + y**2 + z**2)\n",
        "    phi = np.arccos(z / r)\n",
        "    theta = np.arctan2(y, x)\n",
        "    return theta, phi"
      ]
    },
    {
      "cell_type": "code",
      "execution_count": 308,
      "metadata": {
        "collapsed": true,
        "id": "53PNJnw4sWW8"
      },
      "outputs": [],
      "source": [
        "# entry and exit points for a ray through an axis-aligned box\n",
        "def intersect_ray_box(ray_origin, ray_direction, box_min, box_max):\n",
        "    tnear = float('-inf')\n",
        "    tfar = float('inf')\n",
        "\n",
        "    for i in range(3):\n",
        "        if ray_direction[i] == 0:\n",
        "            if ray_origin[i] < box_min[i] or ray_origin[i] > box_max[i]:\n",
        "                return None, None\n",
        "        else:\n",
        "            t1 = (box_min[i] - ray_origin[i]) / ray_direction[i]\n",
        "            t2 = (box_max[i] - ray_origin[i]) / ray_direction[i]\n",
        "\n",
        "            if t1 > t2:\n",
        "                t1, t2 = t2, t1\n",
        "\n",
        "            if t1 > tnear:\n",
        "                tnear = t1\n",
        "\n",
        "            if t2 < tfar:\n",
        "                tfar = t2\n",
        "\n",
        "            if tnear > tfar:\n",
        "                return None, None\n",
        "\n",
        "            if tfar < 0:\n",
        "                return None, None\n",
        "\n",
        "    return ray_origin + ray_direction * tnear, ray_origin + ray_direction * tfar"
      ]
    },
    {
      "cell_type": "code",
      "execution_count": 309,
      "metadata": {},
      "outputs": [],
      "source": [
        "# [four np.array]=>[bool,entry,exit]\n",
        "#I think the issue with this is that there is some kind of tiny error in the alignment with the z axis. This causes the ray to JUST miss. \n",
        "def non_aligned_box_hit(position, size, ray_start, ray_direction):\n",
        "    vector = ray_direction - ray_start                      # ray converted to vector by moving to origin\n",
        "    point = position - ray_start                            # box position moved back accordingly\n",
        "    u = point/np.linalg.norm(point)                   # unit position of the box: project box pos onto unit sphere\n",
        "    z = np.array([0,0,1])                                   # axis we want to align the box to\n",
        "    r = np.cross(u,z)/np.linalg.norm(np.cross(u,z))         # unit axis of rotation\n",
        "    a = np.arccos(np.dot(u,z))                              # angle of rotation\n",
        "    #-------------------------------------------------------#\n",
        "    r_x, r_y, r_z = r\n",
        "    i = np.eye(3)                                           # Identity matrix\n",
        "    r_cross = np.array([                                    # Skew-symmetric matrix [r]_x\n",
        "        [0, -r_z, r_y],\n",
        "        [r_z, 0, -r_x],\n",
        "        [-r_y, r_x, 0]\n",
        "    ])\n",
        "    r_cross_squared = np.array([                            # Skew-symmetric matrix squared [r]_x^2\n",
        "        [-(r_y**2 + r_z**2), r_x * r_y, r_x * r_z],\n",
        "        [r_x * r_y, -(r_x**2 + r_z**2), r_y * r_z],\n",
        "        [r_x * r_z, r_y * r_z, -(r_x**2 + r_y**2)]\n",
        "    ])\n",
        "    rot_mat = i + np.sin(a) * r_cross + (1 - np.cos(a)) * r_cross_squared\n",
        "    #-------------------------------------------------------#\n",
        "    vector_rotated = rot_mat @ vector                       # apply rotation to vector\n",
        "    point_aligned = rot_mat @ point                         # apply rotation to point\n",
        "    #-------------------------------------------------------#\n",
        "    w, h, d = size\n",
        "    box_min = np.array([-w / 2, -h / 2, np.dot(point_aligned,z) - d / 2])\n",
        "    box_max = np.array([w / 2, h / 2, np.dot(point_aligned,z) + d / 2]) \n",
        "    #-------------------------------------------------------#\n",
        "    en, ex = intersect_ray_box(np.array([0,0,0]), vector_rotated, box_min, box_max)\n",
        "    if en is not None and ex is not None:\n",
        "        return True, np.linalg.inv(rot_mat) @ en + ray_start, np.linalg.inv(rot_mat) @ ex + ray_start\n",
        "    else:\n",
        "        return False, 0, 0"
      ]
    },
    {
      "cell_type": "code",
      "execution_count": 310,
      "metadata": {
        "id": "17SAI6958A4w"
      },
      "outputs": [],
      "source": [
        "# relationship between enery level and number of photons\n",
        "def γ_num_by_MeV(MeV):\n",
        "  return 1/(MeV+0.1)"
      ]
    },
    {
      "cell_type": "code",
      "execution_count": 311,
      "metadata": {
        "id": "fOVTIrQt8cQH"
      },
      "outputs": [],
      "source": [
        "# relationship between enery level and angle\n",
        "def MeV_by_φ(MeV):\n",
        "  return 5/(MeV**0.5+0.5)-4/3"
      ]
    },
    {
      "cell_type": "code",
      "execution_count": 312,
      "metadata": {
        "id": "tSbalhGj8v8Z"
      },
      "outputs": [],
      "source": [
        "# selects a random photon energy in the range of interest\n",
        "def random_energy_level(MeV_range):\n",
        "  n1 = random.random() * (MeV_range[1] - MeV_range[0]) + MeV_range[0]\n",
        "  n2 = random.uniform(0,γ_num_by_MeV(MeV_range[0]))\n",
        "\n",
        "  if n2 > γ_num_by_MeV(n1):\n",
        "    return -1\n",
        "  else:\n",
        "    return n1"
      ]
    },
    {
      "cell_type": "code",
      "execution_count": 313,
      "metadata": {
        "id": "Qwi4vjd97d7e"
      },
      "outputs": [],
      "source": [
        "# takes a range of MeV we're interested in and outputs a corresponding θ and φ\n",
        "def dir_from_γ_energy_range(range):\n",
        "  MeV = random_energy_level(range)\n",
        "  if MeV > 0:\n",
        "    return random.uniform(0,2*np.pi), MeV_by_φ(MeV)\n",
        "  else:\n",
        "    return -1, -1"
      ]
    },
    {
      "cell_type": "code",
      "execution_count": 314,
      "metadata": {},
      "outputs": [],
      "source": [
        "def angles_to_hemipoint(theta,phi):\n",
        "    phi = np.cos(phi)\n",
        "    return np.array([np.sqrt(1 - phi**2) * np.cos(theta), np.sqrt(1 - phi**2) * np.sin(theta), phi])"
      ]
    },
    {
      "cell_type": "code",
      "execution_count": 315,
      "metadata": {},
      "outputs": [],
      "source": [
        "# calculate uniform-distribution average distance through target\n",
        "def average_ray_length_uniform(samples):\n",
        "    data = np.array([])\n",
        "\n",
        "    for i in range(samples):\n",
        "        theta = random.uniform(0,2*np.pi)\n",
        "        phi = (random.random() + np.cos(phi_max)) % 1\n",
        "        dir = angles_to_hemipoint(theta,phi)\n",
        "        en, ex = intersect_ray_box(np.array([0, 0, 0]), dir, box_min, box_max)\n",
        "        if en is not None and ex is not None:\n",
        "            data = np.append(data, np.linalg.norm(en - ex))\n",
        "\n",
        "    return np.mean(data)"
      ]
    },
    {
      "cell_type": "code",
      "execution_count": 316,
      "metadata": {},
      "outputs": [],
      "source": [
        "# returns the depth at which γd reaction occurs in range (0,depth)\n",
        "def γ_depth(d):\n",
        "    r = d*random.random()\n",
        "    fr = 1/(2*r+1)\n",
        "    r2 = random.random()\n",
        "    if r2 <= fr:\n",
        "        return r\n",
        "    else:\n",
        "        return γ_depth(d)"
      ]
    },
    {
      "cell_type": "code",
      "execution_count": 317,
      "metadata": {},
      "outputs": [],
      "source": [
        "# returns the angle at which a neutron is ejected following γd reaction\n",
        "def n_angle_CM(min,max):\n",
        "    r = random.uniform(min,max)\n",
        "    fr = 1/(r**2+1)\n",
        "    r2 = random.random()\n",
        "    if r2 <= fr:\n",
        "        return r+np.pi/2\n",
        "    else:\n",
        "        return n_angle_CM(min,max)"
      ]
    },
    {
      "cell_type": "code",
      "execution_count": 318,
      "metadata": {},
      "outputs": [],
      "source": [
        "def n_dir(γ,mn,b,q):\n",
        "    theta = n_angle_CM(-2*np.pi,2*np.pi)\n",
        "    dir = np.array([q*np.cos(theta),0,b*γ**2*mn+γ*q*np.sin(theta)]) \n",
        "    return dir"
      ]
    },
    {
      "cell_type": "code",
      "execution_count": 319,
      "metadata": {},
      "outputs": [],
      "source": [
        "def np_momentum(γ,v,c,pγz,md,mp,mn):\n",
        "    EγCM = γ*pγz*(1-v/c) # Moving to neutrons existing in 3d (instead of along the (x,z) plane), we need to update this equation. The rest of the function should be a-okay.\n",
        "    pdCM = -v\n",
        "    a = EγCM + np.sqrt(md**2+pdCM**2)\n",
        "    return np.sqrt((a**2+mn**2-mp**2)**2-4*a**2*mn**2)/(2*a)"
      ]
    },
    {
      "cell_type": "markdown",
      "metadata": {
        "id": "I8g1gROm6ozW"
      },
      "source": [
        "# Interface"
      ]
    },
    {
      "cell_type": "code",
      "execution_count": 320,
      "metadata": {
        "id": "KZz44feIp--1"
      },
      "outputs": [],
      "source": [
        "# parameters (θ is azimuthal, φ is polar)\n",
        "origin = 10                                                                 # along z: distance from origin\n",
        "# target dimensions\n",
        "width = 0.3                                                                 # along x\n",
        "height = 2.5                                                                # along y\n",
        "depth = 3.8                                                                 # along z\n",
        "# detctor dimensions\n",
        "width_d = 5                                                                 # along x\n",
        "height_d = 20                                                               # along y\n",
        "depth_d = 10                                                                # along z\n",
        "# parameters of the colliding particles\n",
        "pγz = 400                                                                   # z-momentum of the photon\n",
        "mp = 938.28                                                                 # mass of the proton\n",
        "mn = 939.57                                                                 # mass of the neutron\n",
        "md = 1875.61                                                                # mass of the deuteron\n",
        "c = 1                                                                       # speed of light normalized\n",
        "v = pγz/(pγz+md*c)                                                          # velocity of the CM frame\n",
        "γ = 1/np.sqrt(1-v**2/c**2)                                                  # Lorentz factor\n",
        "pn = np_momentum(γ,v,c,pγz,md,mp,mn)                                        # momentum of the proton and neutron in CM frame\n",
        "# neutron_path = n_dir(γ,mn,v/c,pn,origin,depth)                              # tuple point of collision, direction vector\n",
        "# misc\n",
        "box_min = np.array([-width / 2, -height / 2, origin])                       # minimum point along target box\n",
        "box_max = np.array([width / 2, height / 2, depth + origin])                 # maximum point along target box \n",
        "phi_max = np.arctan(np.sqrt((height/2)**2 + (width/2)**2) / origin)         # maximum polar coordinate along target box"
      ]
    },
    {
      "cell_type": "code",
      "execution_count": 321,
      "metadata": {
        "id": "QtTo11yvQaax"
      },
      "outputs": [],
      "source": [
        "# params for histogram\n",
        "samples = 100000                                                            # number of rays tried\n",
        "bins = 100                                                                  # number of bins for successful rays to land in"
      ]
    },
    {
      "cell_type": "markdown",
      "metadata": {
        "id": "fnp1_-QL6hvE"
      },
      "source": [
        "# Rendering stuff"
      ]
    },
    {
      "cell_type": "code",
      "execution_count": 322,
      "metadata": {
        "colab": {
          "base_uri": "https://localhost:8080/",
          "height": 1000,
          "referenced_widgets": [
            "fb18f5e9f4ef4d3d926a88a41bf4ed6f",
            "e0037a0db1bc4fab96f74cb74a602fd5",
            "62e706252d09493cac5a3e2a7e5d3e91",
            "8e821ddc6525434db24069e07425ada8",
            "48df77e3d9e34a8e8165bda6f7fe909e",
            "f211ac2982204ef3904f96bcd347e44c",
            "ec3bf95a2e3040f78073a9268c125e6a",
            "36aae334419f488b8a7386585e83c8af",
            "4943b6896209455f8cdd59bcc6d7862e",
            "3e68d1a623154ca8a2215c83fe10a91e",
            "5bb51e05ba0c490da5479af62f4bb7fb",
            "7ac7cdea9b45459981ac8c84581d725c",
            "02ffe4d3f1714c91a53825dc9c5b86e5",
            "333a667ee76d4a95a1bce05b3a268a15",
            "f152315abcde41ea93ac7e164dcfd997",
            "c7e20451a16f43b89712c8faf293e6dd",
            "dddb793901b04df1a95a6540c175a274",
            "d941773302944602bdb685908e005c28",
            "464f5ad38bbd4891978b1f3fb8712df3",
            "2501d0d19dc3455aaed6d9f2425e4e95",
            "98af975783aa4dfc9304a9c2ff18b784",
            "6642b47d5624449cb00e76c61c51bf76",
            "1c46c414f0124cd0a878bdb8e171914f",
            "8c0917a95ac743f79a9976a4310dbb4d",
            "46f08c5ebbc54517922f3e4184ef0e8a",
            "af72065c5ab94ff39bb7e070d743121a",
            "d00f60db8901448eb0c98a1cc8d859b5",
            "8489f347c7ad4bb8beb192ed5cb432f1",
            "182284d8e86941929a3778573de458ef",
            "39f3d8e116324a52be4070a700964435",
            "cec0f8330a0a4c05a6487d87b742027d",
            "fc47a2b9f5eb4536854dfaabe998bd1f",
            "4a03c09a33a34e8a8c3ddc8693cfca9d",
            "78ac4139db4c492aaf40f4a1fe2bba94",
            "c83c7120d62649d9a71ca7be58e17c3b",
            "1d49d10788374913925b5ea54f8332bf",
            "373b1b474091479e99c7125c8e8b0455"
          ]
        },
        "id": "fSN-zncdCCIG",
        "outputId": "355833ea-4fff-4199-ecda-9883c627a287"
      },
      "outputs": [
        {
          "data": {
            "application/vnd.jupyter.widget-view+json": {
              "model_id": "63eec889ca6e4f988c0724b98949ef28",
              "version_major": 2,
              "version_minor": 0
            },
            "text/plain": [
              "Renderer(camera=PerspectiveCamera(aspect=2.0, children=(DirectionalLight(color='white', intensity=0.5, positio…"
            ]
          },
          "metadata": {},
          "output_type": "display_data"
        }
      ],
      "source": [
        "# UI rendering\n",
        "target_box = box(width, height, depth, (0, 0, depth / 2 + origin), 'red', '#ff7070', [0,0,0])\n",
        "d_pos = lambda a, r: (-r*100*np.sin(np.deg2rad(a)), 0, depth / 2 + origin - r*100*np.cos(np.deg2rad(a)))\n",
        "d_90 = box(width_d, height_d, depth_d, d_pos(90,20), 'green', '#69f069', [0,90+90,0])\n",
        "d_135 = box(width_d, height_d, depth_d, d_pos(135,20), '#645cf2', '#9f9af5', [0,135+90,0])\n",
        "d_155 = box(width_d, height_d, depth_d, d_pos(155,12.8), '#fac516', '#fadc7a', [0,155+90,0])\n",
        "\n",
        "origin_point = point([0, 0, 0], 'white', 4)\n",
        "\n",
        "ah = AxesHelper(size=1)\n",
        "\n",
        "scene = Scene(children=[target_box, origin_point, ah, d_90, d_135, d_155])\n",
        "scene.background = '#141414'\n",
        "\n",
        "for i in range(1000):\n",
        "    unit_dir = sph_car(*dir_from_γ_energy_range((2.5,20)))\n",
        "    en, ex = intersect_ray_box((0,0,0),unit_dir,box_min,box_max)\n",
        "    if en is not None:\n",
        "        # (distance to target + depth through target) * unit direction\n",
        "        point_of_reaction = (np.linalg.norm(en)+γ_depth(np.linalg.norm(en-ex)))*unit_dir\n",
        "        neutron_dir = n_dir(γ,mn,v/c,pn)\n",
        "        scene.add(ray(point_of_reaction,neutron_dir+point_of_reaction,'green'))\n",
        "        scene.add(ray((0,0,0),point_of_reaction,'white'))\n",
        "\n",
        "lights = [\n",
        "    DirectionalLight(color='white', intensity=3, position=[0, 200, 0]),\n",
        "    DirectionalLight(color='white', intensity=3, position=[100, 200, 100]),\n",
        "    DirectionalLight(color='white', intensity=3, position=[-100, -200, -100])\n",
        "]\n",
        "for light in lights:\n",
        "    scene.add(light)\n",
        "\n",
        "camera = PerspectiveCamera(position=[10, 10, 10], up=[0, 1, 0], aspect=2, far=500000, children=[DirectionalLight(color='white', position=[3, 5, 1], intensity=0.5)])\n",
        "\n",
        "\n",
        "display(Renderer(camera=camera, scene=scene, controls=[OrbitControls(controlling=camera)], antialias=True, width=2000, height=1000))"
      ]
    },
    {
      "cell_type": "code",
      "execution_count": 323,
      "metadata": {},
      "outputs": [],
      "source": [
        "# histogram\n",
        "data = np.array([])\n",
        "phi_values = []\n",
        "theta_values = []\n",
        "data_w_misses = np.array([])\n",
        "phi_values_w = []\n",
        "theta_values_w = []\n",
        "\n",
        "for i in range(samples):\n",
        "    theta = random.uniform(0,2*np.pi)\n",
        "    phi = (random.random() + np.cos(phi_max)) % 1\n",
        "    dir = angles_to_hemipoint(theta, phi)\n",
        "    en, ex = intersect_ray_box(np.array([0, 0, 0]), dir, box_min, box_max)\n",
        "    if en is not None and ex is not None:\n",
        "        data = np.append(data, np.linalg.norm(en - ex))\n",
        "        data_w_misses = np.append(data_w_misses, np.linalg.norm(en - ex))\n",
        "        phi_values.append(phi)\n",
        "        theta_values.append(theta)\n",
        "    else:\n",
        "        data_w_misses = np.append(data_w_misses, 0)\n",
        "    phi_values_w.append(phi)\n",
        "    theta_values_w.append(theta)"
      ]
    },
    {
      "cell_type": "code",
      "execution_count": 324,
      "metadata": {
        "colab": {
          "base_uri": "https://localhost:8080/",
          "height": 467
        },
        "id": "rzvA0hhJMBAY",
        "outputId": "9c62b612-ed77-4587-fbb6-fa3c10aeef1c"
      },
      "outputs": [
        {
          "data": {
            "image/png": "[encoded data removed]",
            "text/plain": [
              "<Figure size 1200x600 with 2 Axes>"
            ]
          },
          "metadata": {},
          "output_type": "display_data"
        },
        {
          "name": "stdout",
          "output_type": "stream",
          "text": [
            "Mean Distance Traveled: 3.2419985560514393\n"
          ]
        }
      ],
      "source": [
        "# Plot histogram\n",
        "plt.figure(figsize=(12, 6))\n",
        "\n",
        "plt.subplot(1, 2, 1)\n",
        "plt.hist(data, bins=bins)\n",
        "plt.xlabel('Distance Traveled')\n",
        "plt.ylabel('Flux')\n",
        "plt.title('Histogram of Distances Traveled')\n",
        "\n",
        "norm = colors.Normalize(vmin=0, vmax=depth)\n",
        "cmap = cm.viridis\n",
        "\n",
        "point_colors = cmap(norm(data))\n",
        "\n",
        "# Plot polar coordinates\n",
        "plt.subplot(1, 2, 2, projection='polar')\n",
        "plt.scatter(np.array(theta_values), np.array(np.mod(phi_values,2*np.pi)), s=1, c=point_colors)\n",
        "plt.title('Polar Plot of Directions')\n",
        "\n",
        "plt.tight_layout()\n",
        "plt.show()\n",
        "\n",
        "# Print mean of the data\n",
        "print(\"Mean Distance Traveled:\", np.mean(data))"
      ]
    },
    {
      "cell_type": "code",
      "execution_count": 325,
      "metadata": {},
      "outputs": [
        {
          "ename": "TypeError",
          "evalue": "n_dir() takes 4 positional arguments but 6 were given",
          "output_type": "error",
          "traceback": [
            "\u001b[1;31m---------------------------------------------------------------------------\u001b[0m",
            "\u001b[1;31mTypeError\u001b[0m                                 Traceback (most recent call last)",
            "Cell \u001b[1;32mIn[325], line 6\u001b[0m\n\u001b[0;32m      3\u001b[0m neutrons \u001b[38;5;241m=\u001b[39m \u001b[38;5;241m10000\u001b[39m\n\u001b[0;32m      5\u001b[0m \u001b[38;5;28;01mfor\u001b[39;00m i \u001b[38;5;129;01min\u001b[39;00m \u001b[38;5;28mrange\u001b[39m(neutrons):\n\u001b[1;32m----> 6\u001b[0m     neutron_path \u001b[38;5;241m=\u001b[39m \u001b[43mn_dir\u001b[49m\u001b[43m(\u001b[49m\u001b[43mγ\u001b[49m\u001b[43m,\u001b[49m\u001b[43mmn\u001b[49m\u001b[43m,\u001b[49m\u001b[43mv\u001b[49m\u001b[38;5;241;43m/\u001b[39;49m\u001b[43mc\u001b[49m\u001b[43m,\u001b[49m\u001b[43mpn\u001b[49m\u001b[43m,\u001b[49m\u001b[43morigin\u001b[49m\u001b[43m,\u001b[49m\u001b[43mdepth\u001b[49m\u001b[43m)\u001b[49m\n\u001b[0;32m      8\u001b[0m     \u001b[38;5;28;01mif\u001b[39;00m non_aligned_box_hit(np\u001b[38;5;241m.\u001b[39marray(d_pos(\u001b[38;5;241m155\u001b[39m,\u001b[38;5;241m12.8\u001b[39m)),np\u001b[38;5;241m.\u001b[39marray([width_d, height_d, depth_d]),neutron_path[\u001b[38;5;241m0\u001b[39m], neutron_path[\u001b[38;5;241m0\u001b[39m]\u001b[38;5;241m+\u001b[39mneutron_path[\u001b[38;5;241m1\u001b[39m])[\u001b[38;5;241m0\u001b[39m]:\n\u001b[0;32m      9\u001b[0m         detector_hits[\u001b[38;5;241m0\u001b[39m] \u001b[38;5;241m+\u001b[39m\u001b[38;5;241m=\u001b[39m \u001b[38;5;241m1\u001b[39m\n",
            "\u001b[1;31mTypeError\u001b[0m: n_dir() takes 4 positional arguments but 6 were given"
          ]
        }
      ],
      "source": [
        "detector_hits = [0,0,0]\n",
        "labels = ['155', '135', '90']\n",
        "neutrons = 10000\n",
        "\n",
        "for i in range(neutrons):\n",
        "    neutron_path = n_dir(γ,mn,v/c,pn,origin,depth)\n",
        "    \n",
        "    if non_aligned_box_hit(np.array(d_pos(155,12.8)),np.array([width_d, height_d, depth_d]),neutron_path[0], neutron_path[0]+neutron_path[1])[0]:\n",
        "        detector_hits[0] += 1\n",
        "    elif non_aligned_box_hit(np.array(d_pos(135,20)),np.array([width_d, height_d, depth_d]),neutron_path[0], neutron_path[0]+neutron_path[1])[0]:\n",
        "        detector_hits[1] += 1\n",
        "    elif non_aligned_box_hit(np.array(d_pos(90,20)),np.array([width_d, height_d, depth_d]),neutron_path[0], neutron_path[0]+neutron_path[1])[0]:\n",
        "        detector_hits[2] += 1\n",
        "\n",
        "print(f\"hit prob at photon energy {pγz} MeV: {100*sum(detector_hits)/neutrons}\")\n",
        "plt.bar(labels, detector_hits, color='#4CAF50')\n",
        "plt.title(f\"Neutrons detected: photon energy of {pγz} MeV and {neutrons} samples\")\n",
        "plt.xlabel(\"Detector angle relative to -z\")\n",
        "plt.ylabel(\"Neutrons detected\")\n",
        "plt.show()\n"
      ]
    }
  ],
  "metadata": {
    "colab": {
      "authorship_tag": "ABX9TyP9reGdo8neCHKpQg2TIdLm",
      "collapsed_sections": [
        "P8CUREOd6Jik",
        "wwjwBCq56UF-"
      ],
      "include_colab_link": true,
      "provenance": []
    },
    "kernelspec": {
      "display_name": "Python 3",
      "name": "python3"
    },
    "language_info": {
      "codemirror_mode": {
        "name": "ipython",
        "version": 3
      },
      "file_extension": ".py",
      "mimetype": "text/x-python",
      "name": "python",
      "nbconvert_exporter": "python",
      "pygments_lexer": "ipython3",
      "version": "3.11.0"
    },
    "widgets": {
      "application/vnd.jupyter.widget-state+json": {
        "02ffe4d3f1714c91a53825dc9c5b86e5": {
          "model_module": "jupyter-threejs",
          "model_module_version": "^2.4.1",
          "model_name": "LineModel",
          "state": {
            "_model_module": "jupyter-threejs",
            "_model_module_version": "^2.4.1",
            "_model_name": "LineModel",
            "_view_count": null,
            "_view_module": null,
            "_view_module_version": "",
            "_view_name": null,
            "castShadow": false,
            "children": [],
            "frustumCulled": true,
            "geometry": "IPY_MODEL_d00f60db8901448eb0c98a1cc8d859b5",
            "material": "IPY_MODEL_8489f347c7ad4bb8beb192ed5cb432f1",
            "matrix": [
              1,
              0,
              0,
              0,
              0,
              1,
              0,
              0,
              0,
              0,
              1,
              0,
              0,
              0,
              0,
              1
            ],
            "matrixAutoUpdate": true,
            "matrixWorld": [
              1,
              0,
              0,
              0,
              0,
              1,
              0,
              0,
              0,
              0,
              1,
              0,
              0,
              0,
              0,
              1
            ],
            "matrixWorldNeedsUpdate": false,
            "modelViewMatrix": [
              1,
              0,
              0,
              0,
              0,
              1,
              0,
              0,
              0,
              0,
              1,
              0,
              0,
              0,
              0,
              1
            ],
            "name": "",
            "normalMatrix": [
              1,
              0,
              0,
              0,
              1,
              0,
              0,
              0,
              1
            ],
            "position": [
              0,
              0,
              0
            ],
            "quaternion": [
              0,
              0,
              0,
              1
            ],
            "receiveShadow": false,
            "renderOrder": 0,
            "rotation": [
              0,
              0,
              0,
              "XYZ"
            ],
            "scale": [
              1,
              1,
              1
            ],
            "type": "Line",
            "up": [
              0,
              1,
              0
            ],
            "visible": true
          }
        },
        "182284d8e86941929a3778573de458ef": {
          "model_module": "jupyter-threejs",
          "model_module_version": "^2.4.1",
          "model_name": "BoxBufferGeometryModel",
          "state": {
            "_model_module": "jupyter-threejs",
            "_model_module_version": "^2.4.1",
            "_model_name": "BoxBufferGeometryModel",
            "_view_count": null,
            "_view_module": null,
            "_view_module_version": "",
            "_view_name": null,
            "depth": 7,
            "depthSegments": 1,
            "height": 5,
            "heightSegments": 1,
            "name": "",
            "type": "BoxBufferGeometry",
            "width": 2,
            "widthSegments": 1
          }
        },
        "1c46c414f0124cd0a878bdb8e171914f": {
          "model_module": "jupyter-threejs",
          "model_module_version": "^2.4.1",
          "model_name": "BufferGeometryModel",
          "state": {
            "MaxIndex": 65535,
            "_model_module": "jupyter-threejs",
            "_model_module_version": "^2.4.1",
            "_model_name": "BufferGeometryModel",
            "_ref_geometry": null,
            "_store_ref": false,
            "_view_count": null,
            "_view_module": null,
            "_view_module_version": "",
            "_view_name": null,
            "attributes": {
              "position": "IPY_MODEL_c83c7120d62649d9a71ca7be58e17c3b"
            },
            "index": null,
            "morphAttributes": {},
            "name": "",
            "type": "BufferGeometry",
            "userData": {}
          }
        },
        "1d49d10788374913925b5ea54f8332bf": {
          "model_module": "jupyter-threejs",
          "model_module_version": "^2.4.1",
          "model_name": "BufferAttributeModel",
          "state": {
            "_model_module": "jupyter-threejs",
            "_model_module_version": "^2.4.1",
            "_model_name": "BufferAttributeModel",
            "_view_count": null,
            "_view_module": null,
            "_view_module_version": "",
            "_view_name": null,
            "array": {
              "dtype": "float32",
              "shape": [
                2,
                3
              ]
            },
            "dynamic": false,
            "needsUpdate": false,
            "normalized": false,
            "version": 1
          }
        },
        "2501d0d19dc3455aaed6d9f2425e4e95": {
          "model_module": "jupyter-threejs",
          "model_module_version": "^2.4.1",
          "model_name": "PointsMaterialModel",
          "state": {
            "_model_module": "jupyter-threejs",
            "_model_module_version": "^2.4.1",
            "_model_name": "PointsMaterialModel",
            "_view_count": null,
            "_view_module": null,
            "_view_module_version": "",
            "_view_name": null,
            "alphaTest": 0,
            "blendDst": "OneMinusSrcAlphaFactor",
            "blendDstAlpha": 0,
            "blendEquation": "AddEquation",
            "blendEquationAlpha": 0,
            "blendSrc": "SrcAlphaFactor",
            "blendSrcAlpha": 0,
            "blending": "NormalBlending",
            "clipIntersection": false,
            "clipShadows": false,
            "clippingPlanes": [],
            "color": "white",
            "colorWrite": true,
            "defines": null,
            "depthFunc": "LessEqualDepth",
            "depthTest": true,
            "depthWrite": true,
            "dithering": false,
            "flatShading": false,
            "fog": true,
            "lights": false,
            "map": null,
            "morphTargets": false,
            "name": "",
            "opacity": 1,
            "overdraw": 0,
            "polygonOffset": false,
            "polygonOffsetFactor": 0,
            "polygonOffsetUnits": 0,
            "precision": null,
            "premultipliedAlpha": false,
            "shadowSide": null,
            "side": "FrontSide",
            "size": 4,
            "sizeAttenuation": false,
            "transparent": false,
            "type": "PointsMaterial",
            "vertexColors": "NoColors",
            "visible": true
          }
        },
        "333a667ee76d4a95a1bce05b3a268a15": {
          "model_module": "jupyter-threejs",
          "model_module_version": "^2.4.1",
          "model_name": "DirectionalLightModel",
          "state": {
            "_model_module": "jupyter-threejs",
            "_model_module_version": "^2.4.1",
            "_model_name": "DirectionalLightModel",
            "_view_count": null,
            "_view_module": null,
            "_view_module_version": "",
            "_view_name": null,
            "castShadow": false,
            "children": [],
            "color": "white",
            "frustumCulled": true,
            "intensity": 3,
            "matrix": [
              1,
              0,
              0,
              0,
              0,
              1,
              0,
              0,
              0,
              0,
              1,
              0,
              0,
              0,
              0,
              1
            ],
            "matrixAutoUpdate": true,
            "matrixWorld": [
              1,
              0,
              0,
              0,
              0,
              1,
              0,
              0,
              0,
              0,
              1,
              0,
              0,
              0,
              0,
              1
            ],
            "matrixWorldNeedsUpdate": true,
            "modelViewMatrix": [
              1,
              0,
              0,
              0,
              0,
              1,
              0,
              0,
              0,
              0,
              1,
              0,
              0,
              0,
              0,
              1
            ],
            "name": "",
            "normalMatrix": [
              1,
              0,
              0,
              0,
              1,
              0,
              0,
              0,
              1
            ],
            "position": [
              0,
              200,
              0
            ],
            "quaternion": [
              0,
              0,
              0,
              1
            ],
            "receiveShadow": false,
            "renderOrder": 0,
            "rotation": [
              0,
              0,
              0,
              "XYZ"
            ],
            "scale": [
              1,
              1,
              1
            ],
            "shadow": "IPY_MODEL_f9b7b874-931f-4bec-8afe-b018a5ecc548",
            "target": "IPY_MODEL_89bbc98c-487f-4c50-a396-91bc185c5f57",
            "type": "DirectionalLight",
            "up": [
              0,
              1,
              0
            ],
            "visible": true
          }
        },
        "36aae334419f488b8a7386585e83c8af": {
          "model_module": "jupyter-threejs",
          "model_module_version": "^2.4.1",
          "model_name": "GroupModel",
          "state": {
            "_model_module": "jupyter-threejs",
            "_model_module_version": "^2.4.1",
            "_model_name": "GroupModel",
            "_view_count": null,
            "_view_module": null,
            "_view_module_version": "",
            "_view_name": null,
            "castShadow": false,
            "children": [
              "IPY_MODEL_dddb793901b04df1a95a6540c175a274",
              "IPY_MODEL_d941773302944602bdb685908e005c28"
            ],
            "frustumCulled": true,
            "matrix": [
              1,
              0,
              0,
              0,
              0,
              1,
              0,
              0,
              0,
              0,
              1,
              0,
              0,
              0,
              6.5,
              1
            ],
            "matrixAutoUpdate": true,
            "matrixWorld": [
              1,
              0,
              0,
              0,
              0,
              1,
              0,
              0,
              0,
              0,
              1,
              0,
              0,
              0,
              0,
              1
            ],
            "matrixWorldNeedsUpdate": false,
            "modelViewMatrix": [
              1,
              0,
              0,
              0,
              0,
              1,
              0,
              0,
              0,
              0,
              1,
              0,
              0,
              0,
              0,
              1
            ],
            "name": "",
            "normalMatrix": [
              1,
              0,
              0,
              0,
              1,
              0,
              0,
              0,
              1
            ],
            "position": [
              0,
              0,
              6.5
            ],
            "quaternion": [
              0,
              0,
              0,
              1
            ],
            "receiveShadow": false,
            "renderOrder": 0,
            "rotation": [
              0,
              0,
              0,
              "XYZ"
            ],
            "scale": [
              1,
              1,
              1
            ],
            "type": "Group",
            "up": [
              0,
              1,
              0
            ],
            "visible": true
          }
        },
        "373b1b474091479e99c7125c8e8b0455": {
          "model_module": "jupyter-threejs",
          "model_module_version": "^2.4.1",
          "model_name": "BufferAttributeModel",
          "state": {
            "_model_module": "jupyter-threejs",
            "_model_module_version": "^2.4.1",
            "_model_name": "BufferAttributeModel",
            "_view_count": null,
            "_view_module": null,
            "_view_module_version": "",
            "_view_name": null,
            "array": {
              "dtype": "float32",
              "shape": [
                2,
                3
              ]
            },
            "dynamic": false,
            "needsUpdate": false,
            "normalized": false,
            "version": 1
          }
        },
        "39f3d8e116324a52be4070a700964435": {
          "model_module": "jupyter-threejs",
          "model_module_version": "^2.4.1",
          "model_name": "MeshPhysicalMaterialModel",
          "state": {
            "_model_module": "jupyter-threejs",
            "_model_module_version": "^2.4.1",
            "_model_name": "MeshPhysicalMaterialModel",
            "_view_count": null,
            "_view_module": null,
            "_view_module_version": "",
            "_view_name": null,
            "alphaMap": null,
            "alphaTest": 0,
            "aoMap": null,
            "aoMapIntensity": 1,
            "blendDst": "OneMinusSrcAlphaFactor",
            "blendDstAlpha": 0,
            "blendEquation": "AddEquation",
            "blendEquationAlpha": 0,
            "blendSrc": "SrcAlphaFactor",
            "blendSrcAlpha": 0,
            "blending": "NormalBlending",
            "bumpMap": null,
            "bumpScale": 1,
            "clearCoat": 0,
            "clearCoatRoughness": 0,
            "clipIntersection": false,
            "clipShadows": false,
            "clippingPlanes": [],
            "color": "red",
            "colorWrite": true,
            "defines": {
              "PHYSICAL": ""
            },
            "depthFunc": "LessEqualDepth",
            "depthTest": true,
            "depthWrite": true,
            "displacementBias": 0,
            "displacementMap": null,
            "displacementScale": 1,
            "dithering": false,
            "emissive": "#000000",
            "emissiveIntensity": 1,
            "emissiveMap": null,
            "envMap": null,
            "envMapIntensity": 1,
            "flatShading": false,
            "fog": true,
            "lightMap": null,
            "lightMapIntensity": 1,
            "lights": true,
            "map": null,
            "metalness": 0.5,
            "metalnessMap": null,
            "morphNormals": false,
            "morphTargets": false,
            "name": "",
            "normalMap": null,
            "normalScale": [
              1,
              1
            ],
            "opacity": 0.5,
            "overdraw": 0,
            "polygonOffset": false,
            "polygonOffsetFactor": 0,
            "polygonOffsetUnits": 0,
            "precision": null,
            "premultipliedAlpha": false,
            "reflectivity": 0.5,
            "refractionRatio": 0.98,
            "roughness": 0.5,
            "roughnessMap": null,
            "shadowSide": null,
            "side": "FrontSide",
            "skinning": false,
            "transparent": true,
            "type": "MeshPhysicalMaterial",
            "vertexColors": "NoColors",
            "visible": true,
            "wireframe": false,
            "wireframeLinecap": "round",
            "wireframeLinejoin": "round",
            "wireframeLinewidth": 1
          }
        },
        "3e68d1a623154ca8a2215c83fe10a91e": {
          "model_module": "jupyter-threejs",
          "model_module_version": "^2.4.1",
          "model_name": "LineModel",
          "state": {
            "_model_module": "jupyter-threejs",
            "_model_module_version": "^2.4.1",
            "_model_name": "LineModel",
            "_view_count": null,
            "_view_module": null,
            "_view_module_version": "",
            "_view_name": null,
            "castShadow": false,
            "children": [],
            "frustumCulled": true,
            "geometry": "IPY_MODEL_98af975783aa4dfc9304a9c2ff18b784",
            "material": "IPY_MODEL_6642b47d5624449cb00e76c61c51bf76",
            "matrix": [
              1,
              0,
              0,
              0,
              0,
              1,
              0,
              0,
              0,
              0,
              1,
              0,
              0,
              0,
              0,
              1
            ],
            "matrixAutoUpdate": true,
            "matrixWorld": [
              1,
              0,
              0,
              0,
              0,
              1,
              0,
              0,
              0,
              0,
              1,
              0,
              0,
              0,
              0,
              1
            ],
            "matrixWorldNeedsUpdate": false,
            "modelViewMatrix": [
              1,
              0,
              0,
              0,
              0,
              1,
              0,
              0,
              0,
              0,
              1,
              0,
              0,
              0,
              0,
              1
            ],
            "name": "",
            "normalMatrix": [
              1,
              0,
              0,
              0,
              1,
              0,
              0,
              0,
              1
            ],
            "position": [
              0,
              0,
              0
            ],
            "quaternion": [
              0,
              0,
              0,
              1
            ],
            "receiveShadow": false,
            "renderOrder": 0,
            "rotation": [
              0,
              0,
              0,
              "XYZ"
            ],
            "scale": [
              1,
              1,
              1
            ],
            "type": "Line",
            "up": [
              0,
              1,
              0
            ],
            "visible": true
          }
        },
        "464f5ad38bbd4891978b1f3fb8712df3": {
          "model_module": "jupyter-threejs",
          "model_module_version": "^2.4.1",
          "model_name": "BufferGeometryModel",
          "state": {
            "MaxIndex": 65535,
            "_model_module": "jupyter-threejs",
            "_model_module_version": "^2.4.1",
            "_model_name": "BufferGeometryModel",
            "_ref_geometry": null,
            "_store_ref": false,
            "_view_count": null,
            "_view_module": null,
            "_view_module_version": "",
            "_view_name": null,
            "attributes": {
              "position": "IPY_MODEL_4a03c09a33a34e8a8c3ddc8693cfca9d"
            },
            "index": null,
            "morphAttributes": {},
            "name": "",
            "type": "BufferGeometry",
            "userData": {}
          }
        },
        "46f08c5ebbc54517922f3e4184ef0e8a": {
          "model_module": "jupyter-threejs",
          "model_module_version": "^2.4.1",
          "model_name": "BufferGeometryModel",
          "state": {
            "MaxIndex": 65535,
            "_model_module": "jupyter-threejs",
            "_model_module_version": "^2.4.1",
            "_model_name": "BufferGeometryModel",
            "_ref_geometry": null,
            "_store_ref": false,
            "_view_count": null,
            "_view_module": null,
            "_view_module_version": "",
            "_view_name": null,
            "attributes": {
              "position": "IPY_MODEL_1d49d10788374913925b5ea54f8332bf"
            },
            "index": null,
            "morphAttributes": {},
            "name": "",
            "type": "BufferGeometry",
            "userData": {}
          }
        },
        "48df77e3d9e34a8e8165bda6f7fe909e": {
          "model_module": "jupyter-threejs",
          "model_module_version": "^2.4.1",
          "model_name": "SceneModel",
          "state": {
            "_model_module": "jupyter-threejs",
            "_model_module_version": "^2.4.1",
            "_model_name": "SceneModel",
            "_view_count": null,
            "_view_module": null,
            "_view_module_version": "",
            "_view_name": null,
            "autoUpdate": true,
            "background": "#141414",
            "castShadow": false,
            "children": [
              "IPY_MODEL_36aae334419f488b8a7386585e83c8af",
              "IPY_MODEL_4943b6896209455f8cdd59bcc6d7862e",
              "IPY_MODEL_3e68d1a623154ca8a2215c83fe10a91e",
              "IPY_MODEL_5bb51e05ba0c490da5479af62f4bb7fb",
              "IPY_MODEL_7ac7cdea9b45459981ac8c84581d725c",
              "IPY_MODEL_02ffe4d3f1714c91a53825dc9c5b86e5",
              "IPY_MODEL_333a667ee76d4a95a1bce05b3a268a15",
              "IPY_MODEL_f152315abcde41ea93ac7e164dcfd997",
              "IPY_MODEL_c7e20451a16f43b89712c8faf293e6dd"
            ],
            "fog": null,
            "frustumCulled": true,
            "matrix": [
              1,
              0,
              0,
              0,
              0,
              1,
              0,
              0,
              0,
              0,
              1,
              0,
              0,
              0,
              0,
              1
            ],
            "matrixAutoUpdate": true,
            "matrixWorld": [
              1,
              0,
              0,
              0,
              0,
              1,
              0,
              0,
              0,
              0,
              1,
              0,
              0,
              0,
              0,
              1
            ],
            "matrixWorldNeedsUpdate": false,
            "modelViewMatrix": [
              1,
              0,
              0,
              0,
              0,
              1,
              0,
              0,
              0,
              0,
              1,
              0,
              0,
              0,
              0,
              1
            ],
            "name": "",
            "normalMatrix": [
              1,
              0,
              0,
              0,
              1,
              0,
              0,
              0,
              1
            ],
            "overrideMaterial": null,
            "position": [
              0,
              0,
              0
            ],
            "quaternion": [
              0,
              0,
              0,
              1
            ],
            "receiveShadow": false,
            "renderOrder": 0,
            "rotation": [
              0,
              0,
              0,
              "XYZ"
            ],
            "scale": [
              1,
              1,
              1
            ],
            "type": "Scene",
            "up": [
              0,
              1,
              0
            ],
            "visible": true
          }
        },
        "4943b6896209455f8cdd59bcc6d7862e": {
          "model_module": "jupyter-threejs",
          "model_module_version": "^2.4.1",
          "model_name": "PointsModel",
          "state": {
            "_model_module": "jupyter-threejs",
            "_model_module_version": "^2.4.1",
            "_model_name": "PointsModel",
            "_view_count": null,
            "_view_module": null,
            "_view_module_version": "",
            "_view_name": null,
            "castShadow": false,
            "children": [],
            "frustumCulled": true,
            "geometry": "IPY_MODEL_464f5ad38bbd4891978b1f3fb8712df3",
            "material": "IPY_MODEL_2501d0d19dc3455aaed6d9f2425e4e95",
            "matrix": [
              1,
              0,
              0,
              0,
              0,
              1,
              0,
              0,
              0,
              0,
              1,
              0,
              0,
              0,
              0,
              1
            ],
            "matrixAutoUpdate": true,
            "matrixWorld": [
              1,
              0,
              0,
              0,
              0,
              1,
              0,
              0,
              0,
              0,
              1,
              0,
              0,
              0,
              0,
              1
            ],
            "matrixWorldNeedsUpdate": false,
            "modelViewMatrix": [
              1,
              0,
              0,
              0,
              0,
              1,
              0,
              0,
              0,
              0,
              1,
              0,
              0,
              0,
              0,
              1
            ],
            "name": "",
            "normalMatrix": [
              1,
              0,
              0,
              0,
              1,
              0,
              0,
              0,
              1
            ],
            "position": [
              0,
              0,
              0
            ],
            "quaternion": [
              0,
              0,
              0,
              1
            ],
            "receiveShadow": false,
            "renderOrder": 0,
            "rotation": [
              0,
              0,
              0,
              "XYZ"
            ],
            "scale": [
              1,
              1,
              1
            ],
            "type": "Points",
            "up": [
              0,
              1,
              0
            ],
            "visible": true
          }
        },
        "4a03c09a33a34e8a8c3ddc8693cfca9d": {
          "model_module": "jupyter-threejs",
          "model_module_version": "^2.4.1",
          "model_name": "BufferAttributeModel",
          "state": {
            "_model_module": "jupyter-threejs",
            "_model_module_version": "^2.4.1",
            "_model_name": "BufferAttributeModel",
            "_view_count": null,
            "_view_module": null,
            "_view_module_version": "",
            "_view_name": null,
            "array": {
              "dtype": "int32",
              "shape": [
                1,
                3
              ]
            },
            "dynamic": false,
            "needsUpdate": false,
            "normalized": false,
            "version": 1
          }
        },
        "5bb51e05ba0c490da5479af62f4bb7fb": {
          "model_module": "jupyter-threejs",
          "model_module_version": "^2.4.1",
          "model_name": "LineModel",
          "state": {
            "_model_module": "jupyter-threejs",
            "_model_module_version": "^2.4.1",
            "_model_name": "LineModel",
            "_view_count": null,
            "_view_module": null,
            "_view_module_version": "",
            "_view_name": null,
            "castShadow": false,
            "children": [],
            "frustumCulled": true,
            "geometry": "IPY_MODEL_1c46c414f0124cd0a878bdb8e171914f",
            "material": "IPY_MODEL_8c0917a95ac743f79a9976a4310dbb4d",
            "matrix": [
              1,
              0,
              0,
              0,
              0,
              1,
              0,
              0,
              0,
              0,
              1,
              0,
              0,
              0,
              0,
              1
            ],
            "matrixAutoUpdate": true,
            "matrixWorld": [
              1,
              0,
              0,
              0,
              0,
              1,
              0,
              0,
              0,
              0,
              1,
              0,
              0,
              0,
              0,
              1
            ],
            "matrixWorldNeedsUpdate": false,
            "modelViewMatrix": [
              1,
              0,
              0,
              0,
              0,
              1,
              0,
              0,
              0,
              0,
              1,
              0,
              0,
              0,
              0,
              1
            ],
            "name": "",
            "normalMatrix": [
              1,
              0,
              0,
              0,
              1,
              0,
              0,
              0,
              1
            ],
            "position": [
              0,
              0,
              0
            ],
            "quaternion": [
              0,
              0,
              0,
              1
            ],
            "receiveShadow": false,
            "renderOrder": 0,
            "rotation": [
              0,
              0,
              0,
              "XYZ"
            ],
            "scale": [
              1,
              1,
              1
            ],
            "type": "Line",
            "up": [
              0,
              1,
              0
            ],
            "visible": true
          }
        },
        "62e706252d09493cac5a3e2a7e5d3e91": {
          "model_module": "jupyter-threejs",
          "model_module_version": "^2.4.1",
          "model_name": "OrbitControlsModel",
          "state": {
            "_model_module": "jupyter-threejs",
            "_model_module_version": "^2.4.1",
            "_model_name": "OrbitControlsModel",
            "_view_count": null,
            "_view_module": null,
            "_view_module_version": "",
            "_view_name": null,
            "autoRotate": false,
            "autoRotateSpeed": 2,
            "controlling": "IPY_MODEL_e0037a0db1bc4fab96f74cb74a602fd5",
            "dampingFactor": 0.25,
            "enableDamping": false,
            "enableKeys": true,
            "enablePan": true,
            "enableRotate": true,
            "enableZoom": true,
            "enabled": true,
            "keyPanSpeed": 7,
            "maxAzimuthAngle": "inf",
            "maxDistance": "inf",
            "maxPolarAngle": 3.141592653589793,
            "maxZoom": "inf",
            "minAzimuthAngle": "-inf",
            "minDistance": 0,
            "minPolarAngle": 0,
            "minZoom": 0,
            "panSpeed": 1,
            "rotateSpeed": 1,
            "screenSpacePanning": true,
            "target": [
              0,
              0,
              0
            ],
            "zoomSpeed": 1
          }
        },
        "6642b47d5624449cb00e76c61c51bf76": {
          "model_module": "jupyter-threejs",
          "model_module_version": "^2.4.1",
          "model_name": "LineBasicMaterialModel",
          "state": {
            "_model_module": "jupyter-threejs",
            "_model_module_version": "^2.4.1",
            "_model_name": "LineBasicMaterialModel",
            "_view_count": null,
            "_view_module": null,
            "_view_module_version": "",
            "_view_name": null,
            "alphaTest": 0,
            "blendDst": "OneMinusSrcAlphaFactor",
            "blendDstAlpha": 0,
            "blendEquation": "AddEquation",
            "blendEquationAlpha": 0,
            "blendSrc": "SrcAlphaFactor",
            "blendSrcAlpha": 0,
            "blending": "NormalBlending",
            "clipIntersection": false,
            "clipShadows": false,
            "clippingPlanes": [],
            "color": "blue",
            "colorWrite": true,
            "defines": null,
            "depthFunc": "LessEqualDepth",
            "depthTest": true,
            "depthWrite": true,
            "dithering": false,
            "flatShading": false,
            "fog": true,
            "lights": false,
            "linecap": "round",
            "linejoin": "round",
            "linewidth": 1,
            "name": "",
            "opacity": 1,
            "overdraw": 0,
            "polygonOffset": false,
            "polygonOffsetFactor": 0,
            "polygonOffsetUnits": 0,
            "precision": null,
            "premultipliedAlpha": false,
            "shadowSide": null,
            "side": "FrontSide",
            "transparent": false,
            "type": "LineBasicMaterial",
            "vertexColors": "NoColors",
            "visible": true
          }
        },
        "78ac4139db4c492aaf40f4a1fe2bba94": {
          "model_module": "jupyter-threejs",
          "model_module_version": "^2.4.1",
          "model_name": "BufferAttributeModel",
          "state": {
            "_model_module": "jupyter-threejs",
            "_model_module_version": "^2.4.1",
            "_model_name": "BufferAttributeModel",
            "_view_count": null,
            "_view_module": null,
            "_view_module_version": "",
            "_view_name": null,
            "array": {
              "dtype": "float32",
              "shape": [
                2,
                3
              ]
            },
            "dynamic": false,
            "needsUpdate": false,
            "normalized": false,
            "version": 1
          }
        },
        "7ac7cdea9b45459981ac8c84581d725c": {
          "model_module": "jupyter-threejs",
          "model_module_version": "^2.4.1",
          "model_name": "LineModel",
          "state": {
            "_model_module": "jupyter-threejs",
            "_model_module_version": "^2.4.1",
            "_model_name": "LineModel",
            "_view_count": null,
            "_view_module": null,
            "_view_module_version": "",
            "_view_name": null,
            "castShadow": false,
            "children": [],
            "frustumCulled": true,
            "geometry": "IPY_MODEL_46f08c5ebbc54517922f3e4184ef0e8a",
            "material": "IPY_MODEL_af72065c5ab94ff39bb7e070d743121a",
            "matrix": [
              1,
              0,
              0,
              0,
              0,
              1,
              0,
              0,
              0,
              0,
              1,
              0,
              0,
              0,
              0,
              1
            ],
            "matrixAutoUpdate": true,
            "matrixWorld": [
              1,
              0,
              0,
              0,
              0,
              1,
              0,
              0,
              0,
              0,
              1,
              0,
              0,
              0,
              0,
              1
            ],
            "matrixWorldNeedsUpdate": false,
            "modelViewMatrix": [
              1,
              0,
              0,
              0,
              0,
              1,
              0,
              0,
              0,
              0,
              1,
              0,
              0,
              0,
              0,
              1
            ],
            "name": "",
            "normalMatrix": [
              1,
              0,
              0,
              0,
              1,
              0,
              0,
              0,
              1
            ],
            "position": [
              0,
              0,
              0
            ],
            "quaternion": [
              0,
              0,
              0,
              1
            ],
            "receiveShadow": false,
            "renderOrder": 0,
            "rotation": [
              0,
              0,
              0,
              "XYZ"
            ],
            "scale": [
              1,
              1,
              1
            ],
            "type": "Line",
            "up": [
              0,
              1,
              0
            ],
            "visible": true
          }
        },
        "8489f347c7ad4bb8beb192ed5cb432f1": {
          "model_module": "jupyter-threejs",
          "model_module_version": "^2.4.1",
          "model_name": "LineBasicMaterialModel",
          "state": {
            "_model_module": "jupyter-threejs",
            "_model_module_version": "^2.4.1",
            "_model_name": "LineBasicMaterialModel",
            "_view_count": null,
            "_view_module": null,
            "_view_module_version": "",
            "_view_name": null,
            "alphaTest": 0,
            "blendDst": "OneMinusSrcAlphaFactor",
            "blendDstAlpha": 0,
            "blendEquation": "AddEquation",
            "blendEquationAlpha": 0,
            "blendSrc": "SrcAlphaFactor",
            "blendSrcAlpha": 0,
            "blending": "NormalBlending",
            "clipIntersection": false,
            "clipShadows": false,
            "clippingPlanes": [],
            "color": "yellow",
            "colorWrite": true,
            "defines": null,
            "depthFunc": "LessEqualDepth",
            "depthTest": true,
            "depthWrite": true,
            "dithering": false,
            "flatShading": false,
            "fog": true,
            "lights": false,
            "linecap": "round",
            "linejoin": "round",
            "linewidth": 1,
            "name": "",
            "opacity": 1,
            "overdraw": 0,
            "polygonOffset": false,
            "polygonOffsetFactor": 0,
            "polygonOffsetUnits": 0,
            "precision": null,
            "premultipliedAlpha": false,
            "shadowSide": null,
            "side": "FrontSide",
            "transparent": false,
            "type": "LineBasicMaterial",
            "vertexColors": "NoColors",
            "visible": true
          }
        },
        "8c0917a95ac743f79a9976a4310dbb4d": {
          "model_module": "jupyter-threejs",
          "model_module_version": "^2.4.1",
          "model_name": "LineBasicMaterialModel",
          "state": {
            "_model_module": "jupyter-threejs",
            "_model_module_version": "^2.4.1",
            "_model_name": "LineBasicMaterialModel",
            "_view_count": null,
            "_view_module": null,
            "_view_module_version": "",
            "_view_name": null,
            "alphaTest": 0,
            "blendDst": "OneMinusSrcAlphaFactor",
            "blendDstAlpha": 0,
            "blendEquation": "AddEquation",
            "blendEquationAlpha": 0,
            "blendSrc": "SrcAlphaFactor",
            "blendSrcAlpha": 0,
            "blending": "NormalBlending",
            "clipIntersection": false,
            "clipShadows": false,
            "clippingPlanes": [],
            "color": "green",
            "colorWrite": true,
            "defines": null,
            "depthFunc": "LessEqualDepth",
            "depthTest": true,
            "depthWrite": true,
            "dithering": false,
            "flatShading": false,
            "fog": true,
            "lights": false,
            "linecap": "round",
            "linejoin": "round",
            "linewidth": 1,
            "name": "",
            "opacity": 1,
            "overdraw": 0,
            "polygonOffset": false,
            "polygonOffsetFactor": 0,
            "polygonOffsetUnits": 0,
            "precision": null,
            "premultipliedAlpha": false,
            "shadowSide": null,
            "side": "FrontSide",
            "transparent": false,
            "type": "LineBasicMaterial",
            "vertexColors": "NoColors",
            "visible": true
          }
        },
        "8e821ddc6525434db24069e07425ada8": {
          "model_module": "@jupyter-widgets/base",
          "model_module_version": "1.2.0",
          "model_name": "LayoutModel",
          "state": {
            "_model_module": "@jupyter-widgets/base",
            "_model_module_version": "1.2.0",
            "_model_name": "LayoutModel",
            "_view_count": null,
            "_view_module": "@jupyter-widgets/base",
            "_view_module_version": "1.2.0",
            "_view_name": "LayoutView",
            "align_content": null,
            "align_items": null,
            "align_self": null,
            "border": null,
            "bottom": null,
            "display": null,
            "flex": null,
            "flex_flow": null,
            "grid_area": null,
            "grid_auto_columns": null,
            "grid_auto_flow": null,
            "grid_auto_rows": null,
            "grid_column": null,
            "grid_gap": null,
            "grid_row": null,
            "grid_template_areas": null,
            "grid_template_columns": null,
            "grid_template_rows": null,
            "height": null,
            "justify_content": null,
            "justify_items": null,
            "left": null,
            "margin": null,
            "max_height": null,
            "max_width": null,
            "min_height": null,
            "min_width": null,
            "object_fit": null,
            "object_position": null,
            "order": null,
            "overflow": null,
            "overflow_x": null,
            "overflow_y": null,
            "padding": null,
            "right": null,
            "top": null,
            "visibility": null,
            "width": null
          }
        },
        "98af975783aa4dfc9304a9c2ff18b784": {
          "model_module": "jupyter-threejs",
          "model_module_version": "^2.4.1",
          "model_name": "BufferGeometryModel",
          "state": {
            "MaxIndex": 65535,
            "_model_module": "jupyter-threejs",
            "_model_module_version": "^2.4.1",
            "_model_name": "BufferGeometryModel",
            "_ref_geometry": null,
            "_store_ref": false,
            "_view_count": null,
            "_view_module": null,
            "_view_module_version": "",
            "_view_name": null,
            "attributes": {
              "position": "IPY_MODEL_78ac4139db4c492aaf40f4a1fe2bba94"
            },
            "index": null,
            "morphAttributes": {},
            "name": "",
            "type": "BufferGeometry",
            "userData": {}
          }
        },
        "af72065c5ab94ff39bb7e070d743121a": {
          "model_module": "jupyter-threejs",
          "model_module_version": "^2.4.1",
          "model_name": "LineBasicMaterialModel",
          "state": {
            "_model_module": "jupyter-threejs",
            "_model_module_version": "^2.4.1",
            "_model_name": "LineBasicMaterialModel",
            "_view_count": null,
            "_view_module": null,
            "_view_module_version": "",
            "_view_name": null,
            "alphaTest": 0,
            "blendDst": "OneMinusSrcAlphaFactor",
            "blendDstAlpha": 0,
            "blendEquation": "AddEquation",
            "blendEquationAlpha": 0,
            "blendSrc": "SrcAlphaFactor",
            "blendSrcAlpha": 0,
            "blending": "NormalBlending",
            "clipIntersection": false,
            "clipShadows": false,
            "clippingPlanes": [],
            "color": "red",
            "colorWrite": true,
            "defines": null,
            "depthFunc": "LessEqualDepth",
            "depthTest": true,
            "depthWrite": true,
            "dithering": false,
            "flatShading": false,
            "fog": true,
            "lights": false,
            "linecap": "round",
            "linejoin": "round",
            "linewidth": 1,
            "name": "",
            "opacity": 1,
            "overdraw": 0,
            "polygonOffset": false,
            "polygonOffsetFactor": 0,
            "polygonOffsetUnits": 0,
            "precision": null,
            "premultipliedAlpha": false,
            "shadowSide": null,
            "side": "FrontSide",
            "transparent": false,
            "type": "LineBasicMaterial",
            "vertexColors": "NoColors",
            "visible": true
          }
        },
        "c7e20451a16f43b89712c8faf293e6dd": {
          "model_module": "jupyter-threejs",
          "model_module_version": "^2.4.1",
          "model_name": "DirectionalLightModel",
          "state": {
            "_model_module": "jupyter-threejs",
            "_model_module_version": "^2.4.1",
            "_model_name": "DirectionalLightModel",
            "_view_count": null,
            "_view_module": null,
            "_view_module_version": "",
            "_view_name": null,
            "castShadow": false,
            "children": [],
            "color": "white",
            "frustumCulled": true,
            "intensity": 3,
            "matrix": [
              1,
              0,
              0,
              0,
              0,
              1,
              0,
              0,
              0,
              0,
              1,
              0,
              0,
              0,
              0,
              1
            ],
            "matrixAutoUpdate": true,
            "matrixWorld": [
              1,
              0,
              0,
              0,
              0,
              1,
              0,
              0,
              0,
              0,
              1,
              0,
              0,
              0,
              0,
              1
            ],
            "matrixWorldNeedsUpdate": true,
            "modelViewMatrix": [
              1,
              0,
              0,
              0,
              0,
              1,
              0,
              0,
              0,
              0,
              1,
              0,
              0,
              0,
              0,
              1
            ],
            "name": "",
            "normalMatrix": [
              1,
              0,
              0,
              0,
              1,
              0,
              0,
              0,
              1
            ],
            "position": [
              -100,
              -200,
              -100
            ],
            "quaternion": [
              0,
              0,
              0,
              1
            ],
            "receiveShadow": false,
            "renderOrder": 0,
            "rotation": [
              0,
              0,
              0,
              "XYZ"
            ],
            "scale": [
              1,
              1,
              1
            ],
            "shadow": "IPY_MODEL_0528c22f-b8e8-4db0-9dab-ddfffd9b59d9",
            "target": "IPY_MODEL_d873678c-d68d-4336-839c-685340d9ed2a",
            "type": "DirectionalLight",
            "up": [
              0,
              1,
              0
            ],
            "visible": true
          }
        },
        "c83c7120d62649d9a71ca7be58e17c3b": {
          "model_module": "jupyter-threejs",
          "model_module_version": "^2.4.1",
          "model_name": "BufferAttributeModel",
          "state": {
            "_model_module": "jupyter-threejs",
            "_model_module_version": "^2.4.1",
            "_model_name": "BufferAttributeModel",
            "_view_count": null,
            "_view_module": null,
            "_view_module_version": "",
            "_view_name": null,
            "array": {
              "dtype": "float32",
              "shape": [
                2,
                3
              ]
            },
            "dynamic": false,
            "needsUpdate": false,
            "normalized": false,
            "version": 1
          }
        },
        "cec0f8330a0a4c05a6487d87b742027d": {
          "model_module": "jupyter-threejs",
          "model_module_version": "^2.4.1",
          "model_name": "WireframeGeometryModel",
          "state": {
            "_model_module": "jupyter-threejs",
            "_model_module_version": "^2.4.1",
            "_model_name": "WireframeGeometryModel",
            "_view_count": null,
            "_view_module": null,
            "_view_module_version": "",
            "_view_name": null,
            "geometry": "IPY_MODEL_182284d8e86941929a3778573de458ef",
            "name": "",
            "type": "WireframeGeometry"
          }
        },
        "d00f60db8901448eb0c98a1cc8d859b5": {
          "model_module": "jupyter-threejs",
          "model_module_version": "^2.4.1",
          "model_name": "BufferGeometryModel",
          "state": {
            "MaxIndex": 65535,
            "_model_module": "jupyter-threejs",
            "_model_module_version": "^2.4.1",
            "_model_name": "BufferGeometryModel",
            "_ref_geometry": null,
            "_store_ref": false,
            "_view_count": null,
            "_view_module": null,
            "_view_module_version": "",
            "_view_name": null,
            "attributes": {
              "position": "IPY_MODEL_373b1b474091479e99c7125c8e8b0455"
            },
            "index": null,
            "morphAttributes": {},
            "name": "",
            "type": "BufferGeometry",
            "userData": {}
          }
        },
        "d941773302944602bdb685908e005c28": {
          "model_module": "jupyter-threejs",
          "model_module_version": "^2.4.1",
          "model_name": "LineSegmentsModel",
          "state": {
            "_model_module": "jupyter-threejs",
            "_model_module_version": "^2.4.1",
            "_model_name": "LineSegmentsModel",
            "_view_count": null,
            "_view_module": null,
            "_view_module_version": "",
            "_view_name": null,
            "castShadow": false,
            "children": [],
            "frustumCulled": true,
            "geometry": "IPY_MODEL_cec0f8330a0a4c05a6487d87b742027d",
            "material": "IPY_MODEL_fc47a2b9f5eb4536854dfaabe998bd1f",
            "matrix": [
              1,
              0,
              0,
              0,
              0,
              1,
              0,
              0,
              0,
              0,
              1,
              0,
              0,
              0,
              0,
              1
            ],
            "matrixAutoUpdate": true,
            "matrixWorld": [
              1,
              0,
              0,
              0,
              0,
              1,
              0,
              0,
              0,
              0,
              1,
              0,
              0,
              0,
              0,
              1
            ],
            "matrixWorldNeedsUpdate": false,
            "modelViewMatrix": [
              1,
              0,
              0,
              0,
              0,
              1,
              0,
              0,
              0,
              0,
              1,
              0,
              0,
              0,
              0,
              1
            ],
            "name": "",
            "normalMatrix": [
              1,
              0,
              0,
              0,
              1,
              0,
              0,
              0,
              1
            ],
            "position": [
              0,
              0,
              0
            ],
            "quaternion": [
              0,
              0,
              0,
              1
            ],
            "receiveShadow": false,
            "renderOrder": 0,
            "rotation": [
              0,
              0,
              0,
              "XYZ"
            ],
            "scale": [
              1,
              1,
              1
            ],
            "type": "LineSegments",
            "up": [
              0,
              1,
              0
            ],
            "visible": true
          }
        },
        "dddb793901b04df1a95a6540c175a274": {
          "model_module": "jupyter-threejs",
          "model_module_version": "^2.4.1",
          "model_name": "MeshModel",
          "state": {
            "_model_module": "jupyter-threejs",
            "_model_module_version": "^2.4.1",
            "_model_name": "MeshModel",
            "_view_count": null,
            "_view_module": null,
            "_view_module_version": "",
            "_view_name": null,
            "castShadow": false,
            "children": [],
            "drawMode": "TrianglesDrawMode",
            "frustumCulled": true,
            "geometry": "IPY_MODEL_182284d8e86941929a3778573de458ef",
            "material": "IPY_MODEL_39f3d8e116324a52be4070a700964435",
            "matrix": [
              1,
              0,
              0,
              0,
              0,
              1,
              0,
              0,
              0,
              0,
              1,
              0,
              0,
              0,
              0,
              1
            ],
            "matrixAutoUpdate": true,
            "matrixWorld": [
              1,
              0,
              0,
              0,
              0,
              1,
              0,
              0,
              0,
              0,
              1,
              0,
              0,
              0,
              0,
              1
            ],
            "matrixWorldNeedsUpdate": false,
            "modelViewMatrix": [
              1,
              0,
              0,
              0,
              0,
              1,
              0,
              0,
              0,
              0,
              1,
              0,
              0,
              0,
              0,
              1
            ],
            "morphTargetInfluences": [],
            "name": "",
            "normalMatrix": [
              1,
              0,
              0,
              0,
              1,
              0,
              0,
              0,
              1
            ],
            "position": [
              0,
              0,
              0
            ],
            "quaternion": [
              0,
              0,
              0,
              1
            ],
            "receiveShadow": false,
            "renderOrder": 0,
            "rotation": [
              0,
              0,
              0,
              "XYZ"
            ],
            "scale": [
              1,
              1,
              1
            ],
            "type": "Mesh",
            "up": [
              0,
              1,
              0
            ],
            "visible": true
          }
        },
        "e0037a0db1bc4fab96f74cb74a602fd5": {
          "model_module": "jupyter-threejs",
          "model_module_version": "^2.4.1",
          "model_name": "PerspectiveCameraModel",
          "state": {
            "_model_module": "jupyter-threejs",
            "_model_module_version": "^2.4.1",
            "_model_name": "PerspectiveCameraModel",
            "_view_count": null,
            "_view_module": null,
            "_view_module_version": "",
            "_view_name": null,
            "aspect": 1,
            "castShadow": false,
            "children": [
              "IPY_MODEL_ec3bf95a2e3040f78073a9268c125e6a"
            ],
            "far": 2000,
            "focus": 10,
            "fov": 50,
            "frustumCulled": true,
            "matrix": [
              1,
              0,
              0,
              0,
              0,
              1,
              0,
              0,
              0,
              0,
              1,
              0,
              10,
              10,
              10,
              1
            ],
            "matrixAutoUpdate": true,
            "matrixWorld": [
              1,
              0,
              0,
              0,
              0,
              1,
              0,
              0,
              0,
              0,
              1,
              0,
              0,
              0,
              0,
              1
            ],
            "matrixWorldInverse": [
              1,
              0,
              0,
              0,
              0,
              1,
              0,
              0,
              0,
              0,
              1,
              0,
              0,
              0,
              0,
              1
            ],
            "matrixWorldNeedsUpdate": false,
            "modelViewMatrix": [
              1,
              0,
              0,
              0,
              0,
              1,
              0,
              0,
              0,
              0,
              1,
              0,
              0,
              0,
              0,
              1
            ],
            "name": "",
            "near": 0.1,
            "normalMatrix": [
              1,
              0,
              0,
              0,
              1,
              0,
              0,
              0,
              1
            ],
            "position": [
              10,
              10,
              10
            ],
            "projectionMatrix": [
              2.1445069205095586,
              0,
              0,
              0,
              0,
              2.1445069205095586,
              0,
              0,
              0,
              0,
              -1.00010000500025,
              -1,
              0,
              0,
              -0.200010000500025,
              0
            ],
            "quaternion": [
              0,
              0,
              0,
              1
            ],
            "receiveShadow": false,
            "renderOrder": 0,
            "rotation": [
              0,
              0,
              0,
              "XYZ"
            ],
            "scale": [
              1,
              1,
              1
            ],
            "type": "PerspectiveCamera",
            "up": [
              0,
              1,
              0
            ],
            "visible": true,
            "zoom": 1
          }
        },
        "ec3bf95a2e3040f78073a9268c125e6a": {
          "model_module": "jupyter-threejs",
          "model_module_version": "^2.4.1",
          "model_name": "DirectionalLightModel",
          "state": {
            "_model_module": "jupyter-threejs",
            "_model_module_version": "^2.4.1",
            "_model_name": "DirectionalLightModel",
            "_view_count": null,
            "_view_module": null,
            "_view_module_version": "",
            "_view_name": null,
            "castShadow": false,
            "children": [],
            "color": "white",
            "frustumCulled": true,
            "intensity": 0.5,
            "matrix": [
              1,
              0,
              0,
              0,
              0,
              1,
              0,
              0,
              0,
              0,
              1,
              0,
              0,
              0,
              0,
              1
            ],
            "matrixAutoUpdate": true,
            "matrixWorld": [
              1,
              0,
              0,
              0,
              0,
              1,
              0,
              0,
              0,
              0,
              1,
              0,
              0,
              0,
              0,
              1
            ],
            "matrixWorldNeedsUpdate": true,
            "modelViewMatrix": [
              1,
              0,
              0,
              0,
              0,
              1,
              0,
              0,
              0,
              0,
              1,
              0,
              0,
              0,
              0,
              1
            ],
            "name": "",
            "normalMatrix": [
              1,
              0,
              0,
              0,
              1,
              0,
              0,
              0,
              1
            ],
            "position": [
              3,
              5,
              1
            ],
            "quaternion": [
              0,
              0,
              0,
              1
            ],
            "receiveShadow": false,
            "renderOrder": 0,
            "rotation": [
              0,
              0,
              0,
              "XYZ"
            ],
            "scale": [
              1,
              1,
              1
            ],
            "shadow": "IPY_MODEL_f6fa0719-c168-4637-b30f-5d7d77f2e59e",
            "target": "IPY_MODEL_3f56e85a-047e-41c6-806d-bb66f0a28aba",
            "type": "DirectionalLight",
            "up": [
              0,
              1,
              0
            ],
            "visible": true
          }
        },
        "f152315abcde41ea93ac7e164dcfd997": {
          "model_module": "jupyter-threejs",
          "model_module_version": "^2.4.1",
          "model_name": "DirectionalLightModel",
          "state": {
            "_model_module": "jupyter-threejs",
            "_model_module_version": "^2.4.1",
            "_model_name": "DirectionalLightModel",
            "_view_count": null,
            "_view_module": null,
            "_view_module_version": "",
            "_view_name": null,
            "castShadow": false,
            "children": [],
            "color": "white",
            "frustumCulled": true,
            "intensity": 3,
            "matrix": [
              1,
              0,
              0,
              0,
              0,
              1,
              0,
              0,
              0,
              0,
              1,
              0,
              0,
              0,
              0,
              1
            ],
            "matrixAutoUpdate": true,
            "matrixWorld": [
              1,
              0,
              0,
              0,
              0,
              1,
              0,
              0,
              0,
              0,
              1,
              0,
              0,
              0,
              0,
              1
            ],
            "matrixWorldNeedsUpdate": true,
            "modelViewMatrix": [
              1,
              0,
              0,
              0,
              0,
              1,
              0,
              0,
              0,
              0,
              1,
              0,
              0,
              0,
              0,
              1
            ],
            "name": "",
            "normalMatrix": [
              1,
              0,
              0,
              0,
              1,
              0,
              0,
              0,
              1
            ],
            "position": [
              100,
              200,
              100
            ],
            "quaternion": [
              0,
              0,
              0,
              1
            ],
            "receiveShadow": false,
            "renderOrder": 0,
            "rotation": [
              0,
              0,
              0,
              "XYZ"
            ],
            "scale": [
              1,
              1,
              1
            ],
            "shadow": "IPY_MODEL_7ab2cd0c-f046-48f7-985e-796eb69afed6",
            "target": "IPY_MODEL_2263e928-dafb-4285-a6bf-435816ac640c",
            "type": "DirectionalLight",
            "up": [
              0,
              1,
              0
            ],
            "visible": true
          }
        },
        "f211ac2982204ef3904f96bcd347e44c": {
          "model_module": "jupyter-threejs",
          "model_module_version": "^2.4.1",
          "model_name": "WebGLShadowMapModel",
          "state": {
            "_model_module": "jupyter-threejs",
            "_model_module_version": "^2.4.1",
            "_model_name": "WebGLShadowMapModel",
            "_view_count": null,
            "_view_module": null,
            "_view_module_version": "",
            "_view_name": null,
            "enabled": false,
            "type": "PCFShadowMap"
          }
        },
        "fb18f5e9f4ef4d3d926a88a41bf4ed6f": {
          "model_module": "jupyter-threejs",
          "model_module_version": "^2.4.1",
          "model_name": "RendererModel",
          "state": {
            "_alpha": false,
            "_antialias": true,
            "_dom_classes": [],
            "_height": 600,
            "_model_module": "jupyter-threejs",
            "_model_module_version": "^2.4.1",
            "_model_name": "RendererModel",
            "_pause_autorender": false,
            "_view_count": null,
            "_view_module": "jupyter-threejs",
            "_view_module_version": "^2.4.1",
            "_view_name": "RendererView",
            "_webgl_version": 2,
            "_width": 800,
            "autoClear": true,
            "autoClearColor": true,
            "autoClearDepth": true,
            "autoClearStencil": true,
            "background": "black",
            "background_opacity": 1,
            "camera": "IPY_MODEL_e0037a0db1bc4fab96f74cb74a602fd5",
            "clearColor": "#000000",
            "clearOpacity": 1,
            "clippingPlanes": [],
            "controls": [
              "IPY_MODEL_62e706252d09493cac5a3e2a7e5d3e91"
            ],
            "gammaFactor": 2,
            "gammaInput": false,
            "gammaOutput": false,
            "layout": "IPY_MODEL_8e821ddc6525434db24069e07425ada8",
            "localClippingEnabled": false,
            "maxMorphNormals": 4,
            "maxMorphTargets": 8,
            "physicallyCorrectLights": false,
            "scene": "IPY_MODEL_48df77e3d9e34a8e8165bda6f7fe909e",
            "shadowMap": "IPY_MODEL_f211ac2982204ef3904f96bcd347e44c",
            "sortObject": true,
            "toneMapping": "LinearToneMapping",
            "toneMappingExposure": 1,
            "toneMappingWhitePoint": 1
          }
        },
        "fc47a2b9f5eb4536854dfaabe998bd1f": {
          "model_module": "jupyter-threejs",
          "model_module_version": "^2.4.1",
          "model_name": "LineBasicMaterialModel",
          "state": {
            "_model_module": "jupyter-threejs",
            "_model_module_version": "^2.4.1",
            "_model_name": "LineBasicMaterialModel",
            "_view_count": null,
            "_view_module": null,
            "_view_module_version": "",
            "_view_name": null,
            "alphaTest": 0,
            "blendDst": "OneMinusSrcAlphaFactor",
            "blendDstAlpha": 0,
            "blendEquation": "AddEquation",
            "blendEquationAlpha": 0,
            "blendSrc": "SrcAlphaFactor",
            "blendSrcAlpha": 0,
            "blending": "NormalBlending",
            "clipIntersection": false,
            "clipShadows": false,
            "clippingPlanes": [],
            "color": "#ff7070",
            "colorWrite": true,
            "defines": null,
            "depthFunc": "LessEqualDepth",
            "depthTest": true,
            "depthWrite": true,
            "dithering": false,
            "flatShading": false,
            "fog": true,
            "lights": false,
            "linecap": "round",
            "linejoin": "round",
            "linewidth": 2,
            "name": "",
            "opacity": 1,
            "overdraw": 0,
            "polygonOffset": false,
            "polygonOffsetFactor": 0,
            "polygonOffsetUnits": 0,
            "precision": null,
            "premultipliedAlpha": false,
            "shadowSide": null,
            "side": "FrontSide",
            "transparent": false,
            "type": "LineBasicMaterial",
            "vertexColors": "NoColors",
            "visible": true
          }
        }
      }
    }
  },
  "nbformat": 4,
  "nbformat_minor": 0
}
